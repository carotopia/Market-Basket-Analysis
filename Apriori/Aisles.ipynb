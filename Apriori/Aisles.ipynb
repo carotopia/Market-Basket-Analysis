{
 "cells": [
  {
   "cell_type": "markdown",
   "source": [
    "# Apriori Algorithm \n",
    "\n",
    "This notebook demonstrates the use of the Apriori algorithm to generate association rules between the frequent aisles from a transaction dataset.\n",
    "\n",
    "## Steps\n",
    "\n",
    "1. **Import Libraries**: Import the necessary libraries for data manipulation and the Apriori algorithm.\n",
    "2. **Load Dataset**: Load the transaction dataset into a pandas DataFrame.\n",
    "3. **Generate Frequent Itemsets**: Use the `apriori` function to generate frequent itemsets with a minimum support threshold.\n",
    "4. **Generate Association Rules**: Use the `association_rules` function to generate association rules from the frequent itemsets, using lift as the metric.\n",
    "5. **Sort Rules**: Sort the generated rules by the lift metric in ascending order.\n",
    "6. **Display Rules**: Display the sorted rules."
   ],
   "metadata": {
    "collapsed": false
   },
   "id": "e690dfcdfe5407a0"
  },
  {
   "cell_type": "code",
   "execution_count": 3,
   "outputs": [],
   "source": [
    "import numpy as np\n",
    "import pandas as pd\n",
    "from mlxtend.frequent_patterns import apriori\n",
    "from mlxtend.frequent_patterns import association_rules\n",
    "from mlxtend.preprocessing import TransactionEncoder\n",
    "\n",
    "root = 'C:/Users/cabre/PycharmProjects/Market-Basket-Analysis/Data/'"
   ],
   "metadata": {
    "collapsed": false,
    "ExecuteTime": {
     "start_time": "2025-04-24T14:23:16.458778800Z"
    }
   },
   "id": "initial_id"
  },
  {
   "cell_type": "code",
   "execution_count": 4,
   "outputs": [],
   "source": [
    "orders = pd.read_csv(root + 'orders.csv')\n",
    "aisles = pd.read_csv(root + 'aisles.csv')\n",
    "order_products_prior = pd.read_csv(root + 'order_products__prior.csv')\n",
    "order_products_train = pd.read_csv(root + 'order_products__train.csv')\n",
    "products = pd.read_csv(root + 'products.csv')"
   ],
   "metadata": {
    "collapsed": false,
    "ExecuteTime": {
     "end_time": "2025-04-24T14:23:22.698904400Z",
     "start_time": "2025-04-24T14:23:16.477777Z"
    }
   },
   "id": "f47d70c4cc729af1"
  },
  {
   "cell_type": "code",
   "execution_count": 5,
   "outputs": [
    {
     "data": {
      "text/plain": "(33819106, 4)"
     },
     "execution_count": 5,
     "metadata": {},
     "output_type": "execute_result"
    }
   ],
   "source": [
    "order_products = pd.concat([order_products_prior, order_products_train])\n",
    "order_products.shape"
   ],
   "metadata": {
    "collapsed": false,
    "ExecuteTime": {
     "end_time": "2025-04-24T14:23:23.097948400Z",
     "start_time": "2025-04-24T14:23:22.698904400Z"
    }
   },
   "id": "7f5c440253951954"
  },
  {
   "cell_type": "markdown",
   "source": [
    "## Merge the order_products DataFrame with the products DataFrame on the product_id column"
   ],
   "metadata": {
    "collapsed": false
   },
   "id": "bfd39466b70059f0"
  },
  {
   "cell_type": "code",
   "execution_count": 6,
   "outputs": [],
   "source": [
    "order_products = order_products.merge(products, on = 'product_id', how = 'left')"
   ],
   "metadata": {
    "collapsed": false,
    "ExecuteTime": {
     "end_time": "2025-04-24T14:23:28.129785100Z",
     "start_time": "2025-04-24T14:23:23.095949700Z"
    }
   },
   "id": "cb2e8768f06e8601"
  },
  {
   "cell_type": "markdown",
   "source": [
    "## Merge the order_products DataFrame with the aisles DataFrame on the aisle_id column"
   ],
   "metadata": {
    "collapsed": false
   },
   "id": "3e381ebe244397f"
  },
  {
   "cell_type": "code",
   "execution_count": 7,
   "outputs": [
    {
     "data": {
      "text/plain": "   order_id  product_id  add_to_cart_order  reordered           product_name  \\\n0         2       33120                  1          1     Organic Egg Whites   \n1         2       28985                  2          1  Michigan Organic Kale   \n2         2        9327                  3          0          Garlic Powder   \n3         2       45918                  4          1         Coconut Butter   \n4         2       30035                  5          0      Natural Sweetener   \n\n   aisle_id  department_id               aisle  \n0        86             16                eggs  \n1        83              4    fresh vegetables  \n2       104             13   spices seasonings  \n3        19             13       oils vinegars  \n4        17             13  baking ingredients  ",
      "text/html": "<div>\n<style scoped>\n    .dataframe tbody tr th:only-of-type {\n        vertical-align: middle;\n    }\n\n    .dataframe tbody tr th {\n        vertical-align: top;\n    }\n\n    .dataframe thead th {\n        text-align: right;\n    }\n</style>\n<table border=\"1\" class=\"dataframe\">\n  <thead>\n    <tr style=\"text-align: right;\">\n      <th></th>\n      <th>order_id</th>\n      <th>product_id</th>\n      <th>add_to_cart_order</th>\n      <th>reordered</th>\n      <th>product_name</th>\n      <th>aisle_id</th>\n      <th>department_id</th>\n      <th>aisle</th>\n    </tr>\n  </thead>\n  <tbody>\n    <tr>\n      <th>0</th>\n      <td>2</td>\n      <td>33120</td>\n      <td>1</td>\n      <td>1</td>\n      <td>Organic Egg Whites</td>\n      <td>86</td>\n      <td>16</td>\n      <td>eggs</td>\n    </tr>\n    <tr>\n      <th>1</th>\n      <td>2</td>\n      <td>28985</td>\n      <td>2</td>\n      <td>1</td>\n      <td>Michigan Organic Kale</td>\n      <td>83</td>\n      <td>4</td>\n      <td>fresh vegetables</td>\n    </tr>\n    <tr>\n      <th>2</th>\n      <td>2</td>\n      <td>9327</td>\n      <td>3</td>\n      <td>0</td>\n      <td>Garlic Powder</td>\n      <td>104</td>\n      <td>13</td>\n      <td>spices seasonings</td>\n    </tr>\n    <tr>\n      <th>3</th>\n      <td>2</td>\n      <td>45918</td>\n      <td>4</td>\n      <td>1</td>\n      <td>Coconut Butter</td>\n      <td>19</td>\n      <td>13</td>\n      <td>oils vinegars</td>\n    </tr>\n    <tr>\n      <th>4</th>\n      <td>2</td>\n      <td>30035</td>\n      <td>5</td>\n      <td>0</td>\n      <td>Natural Sweetener</td>\n      <td>17</td>\n      <td>13</td>\n      <td>baking ingredients</td>\n    </tr>\n  </tbody>\n</table>\n</div>"
     },
     "execution_count": 7,
     "metadata": {},
     "output_type": "execute_result"
    }
   ],
   "source": [
    "order_products_with_aisles = order_products.merge(aisles, on = 'aisle_id', how='left')\n",
    "order_products_with_aisles.head()"
   ],
   "metadata": {
    "collapsed": false,
    "ExecuteTime": {
     "end_time": "2025-04-24T14:23:33.074093500Z",
     "start_time": "2025-04-24T14:23:28.133790800Z"
    }
   },
   "id": "841906948e774ef7"
  },
  {
   "cell_type": "code",
   "execution_count": 9,
   "outputs": [
    {
     "data": {
      "text/plain": "[['yogurt',\n  'other creams cheeses',\n  'fresh vegetables',\n  'fresh vegetables',\n  'canned meat seafood',\n  'fresh fruits',\n  'fresh fruits',\n  'packaged cheese'],\n ['eggs',\n  'fresh vegetables',\n  'spices seasonings',\n  'oils vinegars',\n  'baking ingredients',\n  'fresh vegetables',\n  'doughs gelatins bake mixes',\n  'spreads',\n  'packaged vegetables fruits'],\n ['yogurt',\n  'soy lactosefree',\n  'packaged vegetables fruits',\n  'packaged vegetables fruits',\n  'soy lactosefree',\n  'fresh vegetables',\n  'poultry counter',\n  'bread'],\n ['breakfast bakery',\n  'cold flu allergy',\n  'energy granola bars',\n  'breakfast bars pastries',\n  'breakfast bars pastries',\n  'breakfast bars pastries',\n  'breakfast bars pastries',\n  'chips pretzels',\n  'trail mix snack mix',\n  'crackers',\n  'refrigerated',\n  'energy sports drinks',\n  'energy sports drinks'],\n ['fresh fruits',\n  'salad dressing toppings',\n  'prepared soups salads',\n  'packaged vegetables fruits',\n  'milk',\n  'paper goods',\n  'water seltzer sparkling water',\n  'kosher foods',\n  'packaged poultry',\n  'packaged cheese',\n  'instant foods',\n  'packaged produce',\n  'cookies cakes',\n  'candy chocolate',\n  'fresh vegetables',\n  'spreads',\n  'paper goods',\n  'cookies cakes',\n  'body lotions soap',\n  'packaged cheese',\n  'paper goods',\n  'fresh fruits',\n  'dry pasta',\n  'fresh fruits',\n  'fresh fruits',\n  'crackers'],\n ['refrigerated', 'laundry', 'air fresheners candles'],\n ['refrigerated', 'frozen produce'],\n ['buns rolls'],\n ['fresh vegetables',\n  'packaged vegetables fruits',\n  'packaged vegetables fruits',\n  'yogurt',\n  'cookies cakes',\n  'canned fruit applesauce',\n  'fresh vegetables',\n  'oils vinegars',\n  'water seltzer sparkling water',\n  'bread',\n  'bread',\n  'juice nectars',\n  'soy lactosefree',\n  'packaged cheese',\n  'granola'],\n ['fresh fruits',\n  'fresh vegetables',\n  'fresh herbs',\n  'fresh fruits',\n  'fresh vegetables',\n  'fresh herbs',\n  'fresh fruits',\n  'baby food formula',\n  'baby food formula',\n  'canned meals beans',\n  'fresh vegetables',\n  'cream',\n  'meat counter',\n  'fresh vegetables',\n  'fresh vegetables']]"
     },
     "execution_count": 9,
     "metadata": {},
     "output_type": "execute_result"
    }
   ],
   "source": [
    "transactions_list = order_products_with_aisles.groupby('order_id')['aisle'].apply(list).tolist()\n",
    "transactions_list[:10]"
   ],
   "metadata": {
    "collapsed": false,
    "ExecuteTime": {
     "end_time": "2025-04-24T14:28:06.439038200Z",
     "start_time": "2025-04-24T14:27:23.354002100Z"
    }
   },
   "id": "d4de28743fd0279b"
  },
  {
   "cell_type": "markdown",
   "source": [
    "## Transforms the transactions_list into a one-hot encoded NumPy boolean"
   ],
   "metadata": {
    "collapsed": false
   },
   "id": "f24da04d240a0bf5"
  },
  {
   "cell_type": "code",
   "execution_count": 10,
   "outputs": [
    {
     "data": {
      "text/plain": "         air fresheners candles  asian foods  baby accessories  \\\n0                         False        False             False   \n1                         False        False             False   \n2                         False        False             False   \n3                         False        False             False   \n4                         False        False             False   \n...                         ...          ...               ...   \n3346078                   False        False             False   \n3346079                   False        False             False   \n3346080                   False        False             False   \n3346081                   False        False             False   \n3346082                   False        False             False   \n\n         baby bath body care  baby food formula  bakery desserts  \\\n0                      False              False            False   \n1                      False              False            False   \n2                      False              False            False   \n3                      False              False            False   \n4                      False              False            False   \n...                      ...                ...              ...   \n3346078                False              False            False   \n3346079                False              False            False   \n3346080                False              False            False   \n3346081                False              False            False   \n3346082                False               True            False   \n\n         baking ingredients  baking supplies decor  beauty  beers coolers  \\\n0                     False                  False   False          False   \n1                      True                  False   False          False   \n2                     False                  False   False          False   \n3                     False                  False   False          False   \n4                     False                  False   False          False   \n...                     ...                    ...     ...            ...   \n3346078               False                  False   False          False   \n3346079               False                  False   False          False   \n3346080               False                  False   False          False   \n3346081               False                  False   False          False   \n3346082               False                  False   False          False   \n\n         ...  spreads    tea  tofu meat alternatives  tortillas flat bread  \\\n0        ...    False  False                   False                 False   \n1        ...     True  False                   False                 False   \n2        ...    False  False                   False                 False   \n3        ...    False  False                   False                 False   \n4        ...     True  False                   False                 False   \n...      ...      ...    ...                     ...                   ...   \n3346078  ...    False  False                   False                 False   \n3346079  ...    False  False                   False                 False   \n3346080  ...    False  False                   False                 False   \n3346081  ...    False  False                   False                 False   \n3346082  ...    False  False                   False                 False   \n\n         trail mix snack mix  trash bags liners  vitamins supplements  \\\n0                      False              False                 False   \n1                      False              False                 False   \n2                      False              False                 False   \n3                       True              False                 False   \n4                      False              False                 False   \n...                      ...                ...                   ...   \n3346078                False              False                 False   \n3346079                False              False                 False   \n3346080                False              False                 False   \n3346081                False              False                 False   \n3346082                False              False                 False   \n\n         water seltzer sparkling water  white wines  yogurt  \n0                                False        False    True  \n1                                False        False   False  \n2                                False        False    True  \n3                                False        False   False  \n4                                 True        False   False  \n...                                ...          ...     ...  \n3346078                          False        False   False  \n3346079                          False        False   False  \n3346080                           True        False   False  \n3346081                          False        False   False  \n3346082                          False        False   False  \n\n[3346083 rows x 134 columns]",
      "text/html": "<div>\n<style scoped>\n    .dataframe tbody tr th:only-of-type {\n        vertical-align: middle;\n    }\n\n    .dataframe tbody tr th {\n        vertical-align: top;\n    }\n\n    .dataframe thead th {\n        text-align: right;\n    }\n</style>\n<table border=\"1\" class=\"dataframe\">\n  <thead>\n    <tr style=\"text-align: right;\">\n      <th></th>\n      <th>air fresheners candles</th>\n      <th>asian foods</th>\n      <th>baby accessories</th>\n      <th>baby bath body care</th>\n      <th>baby food formula</th>\n      <th>bakery desserts</th>\n      <th>baking ingredients</th>\n      <th>baking supplies decor</th>\n      <th>beauty</th>\n      <th>beers coolers</th>\n      <th>...</th>\n      <th>spreads</th>\n      <th>tea</th>\n      <th>tofu meat alternatives</th>\n      <th>tortillas flat bread</th>\n      <th>trail mix snack mix</th>\n      <th>trash bags liners</th>\n      <th>vitamins supplements</th>\n      <th>water seltzer sparkling water</th>\n      <th>white wines</th>\n      <th>yogurt</th>\n    </tr>\n  </thead>\n  <tbody>\n    <tr>\n      <th>0</th>\n      <td>False</td>\n      <td>False</td>\n      <td>False</td>\n      <td>False</td>\n      <td>False</td>\n      <td>False</td>\n      <td>False</td>\n      <td>False</td>\n      <td>False</td>\n      <td>False</td>\n      <td>...</td>\n      <td>False</td>\n      <td>False</td>\n      <td>False</td>\n      <td>False</td>\n      <td>False</td>\n      <td>False</td>\n      <td>False</td>\n      <td>False</td>\n      <td>False</td>\n      <td>True</td>\n    </tr>\n    <tr>\n      <th>1</th>\n      <td>False</td>\n      <td>False</td>\n      <td>False</td>\n      <td>False</td>\n      <td>False</td>\n      <td>False</td>\n      <td>True</td>\n      <td>False</td>\n      <td>False</td>\n      <td>False</td>\n      <td>...</td>\n      <td>True</td>\n      <td>False</td>\n      <td>False</td>\n      <td>False</td>\n      <td>False</td>\n      <td>False</td>\n      <td>False</td>\n      <td>False</td>\n      <td>False</td>\n      <td>False</td>\n    </tr>\n    <tr>\n      <th>2</th>\n      <td>False</td>\n      <td>False</td>\n      <td>False</td>\n      <td>False</td>\n      <td>False</td>\n      <td>False</td>\n      <td>False</td>\n      <td>False</td>\n      <td>False</td>\n      <td>False</td>\n      <td>...</td>\n      <td>False</td>\n      <td>False</td>\n      <td>False</td>\n      <td>False</td>\n      <td>False</td>\n      <td>False</td>\n      <td>False</td>\n      <td>False</td>\n      <td>False</td>\n      <td>True</td>\n    </tr>\n    <tr>\n      <th>3</th>\n      <td>False</td>\n      <td>False</td>\n      <td>False</td>\n      <td>False</td>\n      <td>False</td>\n      <td>False</td>\n      <td>False</td>\n      <td>False</td>\n      <td>False</td>\n      <td>False</td>\n      <td>...</td>\n      <td>False</td>\n      <td>False</td>\n      <td>False</td>\n      <td>False</td>\n      <td>True</td>\n      <td>False</td>\n      <td>False</td>\n      <td>False</td>\n      <td>False</td>\n      <td>False</td>\n    </tr>\n    <tr>\n      <th>4</th>\n      <td>False</td>\n      <td>False</td>\n      <td>False</td>\n      <td>False</td>\n      <td>False</td>\n      <td>False</td>\n      <td>False</td>\n      <td>False</td>\n      <td>False</td>\n      <td>False</td>\n      <td>...</td>\n      <td>True</td>\n      <td>False</td>\n      <td>False</td>\n      <td>False</td>\n      <td>False</td>\n      <td>False</td>\n      <td>False</td>\n      <td>True</td>\n      <td>False</td>\n      <td>False</td>\n    </tr>\n    <tr>\n      <th>...</th>\n      <td>...</td>\n      <td>...</td>\n      <td>...</td>\n      <td>...</td>\n      <td>...</td>\n      <td>...</td>\n      <td>...</td>\n      <td>...</td>\n      <td>...</td>\n      <td>...</td>\n      <td>...</td>\n      <td>...</td>\n      <td>...</td>\n      <td>...</td>\n      <td>...</td>\n      <td>...</td>\n      <td>...</td>\n      <td>...</td>\n      <td>...</td>\n      <td>...</td>\n      <td>...</td>\n    </tr>\n    <tr>\n      <th>3346078</th>\n      <td>False</td>\n      <td>False</td>\n      <td>False</td>\n      <td>False</td>\n      <td>False</td>\n      <td>False</td>\n      <td>False</td>\n      <td>False</td>\n      <td>False</td>\n      <td>False</td>\n      <td>...</td>\n      <td>False</td>\n      <td>False</td>\n      <td>False</td>\n      <td>False</td>\n      <td>False</td>\n      <td>False</td>\n      <td>False</td>\n      <td>False</td>\n      <td>False</td>\n      <td>False</td>\n    </tr>\n    <tr>\n      <th>3346079</th>\n      <td>False</td>\n      <td>False</td>\n      <td>False</td>\n      <td>False</td>\n      <td>False</td>\n      <td>False</td>\n      <td>False</td>\n      <td>False</td>\n      <td>False</td>\n      <td>False</td>\n      <td>...</td>\n      <td>False</td>\n      <td>False</td>\n      <td>False</td>\n      <td>False</td>\n      <td>False</td>\n      <td>False</td>\n      <td>False</td>\n      <td>False</td>\n      <td>False</td>\n      <td>False</td>\n    </tr>\n    <tr>\n      <th>3346080</th>\n      <td>False</td>\n      <td>False</td>\n      <td>False</td>\n      <td>False</td>\n      <td>False</td>\n      <td>False</td>\n      <td>False</td>\n      <td>False</td>\n      <td>False</td>\n      <td>False</td>\n      <td>...</td>\n      <td>False</td>\n      <td>False</td>\n      <td>False</td>\n      <td>False</td>\n      <td>False</td>\n      <td>False</td>\n      <td>False</td>\n      <td>True</td>\n      <td>False</td>\n      <td>False</td>\n    </tr>\n    <tr>\n      <th>3346081</th>\n      <td>False</td>\n      <td>False</td>\n      <td>False</td>\n      <td>False</td>\n      <td>False</td>\n      <td>False</td>\n      <td>False</td>\n      <td>False</td>\n      <td>False</td>\n      <td>False</td>\n      <td>...</td>\n      <td>False</td>\n      <td>False</td>\n      <td>False</td>\n      <td>False</td>\n      <td>False</td>\n      <td>False</td>\n      <td>False</td>\n      <td>False</td>\n      <td>False</td>\n      <td>False</td>\n    </tr>\n    <tr>\n      <th>3346082</th>\n      <td>False</td>\n      <td>False</td>\n      <td>False</td>\n      <td>False</td>\n      <td>True</td>\n      <td>False</td>\n      <td>False</td>\n      <td>False</td>\n      <td>False</td>\n      <td>False</td>\n      <td>...</td>\n      <td>False</td>\n      <td>False</td>\n      <td>False</td>\n      <td>False</td>\n      <td>False</td>\n      <td>False</td>\n      <td>False</td>\n      <td>False</td>\n      <td>False</td>\n      <td>False</td>\n    </tr>\n  </tbody>\n</table>\n<p>3346083 rows × 134 columns</p>\n</div>"
     },
     "execution_count": 10,
     "metadata": {},
     "output_type": "execute_result"
    }
   ],
   "source": [
    "transaction_encoder = TransactionEncoder()\n",
    "transaction_array = transaction_encoder.fit(transactions_list).transform(transactions_list)\n",
    "transaction_df = pd.DataFrame(transaction_array, columns=transaction_encoder.columns_)\n",
    "transaction_df"
   ],
   "metadata": {
    "collapsed": false,
    "ExecuteTime": {
     "end_time": "2025-04-24T14:28:26.304763800Z",
     "start_time": "2025-04-24T14:28:20.362632500Z"
    }
   },
   "id": "8f1be60032984c9b"
  },
  {
   "cell_type": "markdown",
   "source": [
    "## Generate frequent aisles using the Apriori algorithm"
   ],
   "metadata": {
    "collapsed": false
   },
   "id": "3e782af6f59f3aa"
  },
  {
   "cell_type": "code",
   "execution_count": 11,
   "outputs": [
    {
     "data": {
      "text/plain": "    support              itemsets\n0  0.043115         (asian foods)\n1  0.045884   (baby food formula)\n2  0.010255     (bakery desserts)\n3  0.076715  (baking ingredients)\n4  0.011175   (body lotions soap)",
      "text/html": "<div>\n<style scoped>\n    .dataframe tbody tr th:only-of-type {\n        vertical-align: middle;\n    }\n\n    .dataframe tbody tr th {\n        vertical-align: top;\n    }\n\n    .dataframe thead th {\n        text-align: right;\n    }\n</style>\n<table border=\"1\" class=\"dataframe\">\n  <thead>\n    <tr style=\"text-align: right;\">\n      <th></th>\n      <th>support</th>\n      <th>itemsets</th>\n    </tr>\n  </thead>\n  <tbody>\n    <tr>\n      <th>0</th>\n      <td>0.043115</td>\n      <td>(asian foods)</td>\n    </tr>\n    <tr>\n      <th>1</th>\n      <td>0.045884</td>\n      <td>(baby food formula)</td>\n    </tr>\n    <tr>\n      <th>2</th>\n      <td>0.010255</td>\n      <td>(bakery desserts)</td>\n    </tr>\n    <tr>\n      <th>3</th>\n      <td>0.076715</td>\n      <td>(baking ingredients)</td>\n    </tr>\n    <tr>\n      <th>4</th>\n      <td>0.011175</td>\n      <td>(body lotions soap)</td>\n    </tr>\n  </tbody>\n</table>\n</div>"
     },
     "execution_count": 11,
     "metadata": {},
     "output_type": "execute_result"
    }
   ],
   "source": [
    "frequent_aisles = apriori(transaction_df, min_support=0.01, use_colnames=True, low_memory=True)\n",
    "frequent_aisles.head()"
   ],
   "metadata": {
    "collapsed": false,
    "ExecuteTime": {
     "end_time": "2025-04-24T14:32:12.006115100Z",
     "start_time": "2025-04-24T14:28:31.502286Z"
    }
   },
   "id": "d03c9c4cd0e2a090"
  },
  {
   "cell_type": "markdown",
   "source": [
    "## Association rules between the frequent aisles"
   ],
   "metadata": {
    "collapsed": false
   },
   "id": "902478fed55cd167"
  },
  {
   "cell_type": "code",
   "execution_count": 17,
   "outputs": [
    {
     "data": {
      "text/plain": "           antecedents         consequents  antecedent support  \\\n0        (asian foods)      (fresh fruits)            0.043115   \n1       (fresh fruits)       (asian foods)            0.556755   \n2        (asian foods)  (fresh vegetables)            0.043115   \n3   (fresh vegetables)       (asian foods)            0.444341   \n4        (asian foods)              (milk)            0.043115   \n..                 ...                 ...                 ...   \n95     (cookies cakes)             (bread)            0.059127   \n96             (bread)          (crackers)            0.163958   \n97          (crackers)             (bread)            0.114835   \n98             (bread)             (cream)            0.163958   \n99             (cream)             (bread)            0.091588   \n\n    consequent support   support  confidence      lift  representativity  \\\n0             0.556755  0.028041    0.650359  1.168124               1.0   \n1             0.043115  0.028041    0.050364  1.168124               1.0   \n2             0.444341  0.028292    0.656188  1.476767               1.0   \n3             0.043115  0.028292    0.063672  1.476767               1.0   \n4             0.243671  0.011269    0.261368  1.072623               1.0   \n..                 ...       ...         ...       ...               ...   \n95            0.163958  0.014275    0.241429  1.472504               1.0   \n96            0.114835  0.029106    0.177519  1.545864               1.0   \n97            0.163958  0.029106    0.253457  1.545864               1.0   \n98            0.091588  0.019771    0.120589  1.316643               1.0   \n99            0.163958  0.019771    0.215874  1.316643               1.0   \n\n    leverage  conviction  zhangs_metric   jaccard  certainty  kulczynski  \n0   0.004036    1.267714       0.150412  0.049037   0.211179    0.350362  \n1   0.004036    1.007633       0.324711  0.049037   0.007575    0.350362  \n2   0.009134    1.616172       0.337392  0.061616   0.381254    0.359930  \n3   0.009134    1.021954       0.581013  0.061616   0.021482    0.359930  \n4   0.000763    1.023958       0.070757  0.040901   0.023398    0.153807  \n..       ...         ...            ...       ...        ...         ...  \n95  0.004581    1.102127       0.341050  0.068363   0.092664    0.164247  \n96  0.010278    1.076214       0.422362  0.116569   0.070816    0.215488  \n97  0.010278    1.119884       0.398923  0.116569   0.107051    0.215488  \n98  0.004755    1.032977       0.287656  0.083858   0.031925    0.168231  \n99  0.004755    1.066209       0.264740  0.083858   0.062098    0.168231  \n\n[100 rows x 14 columns]",
      "text/html": "<div>\n<style scoped>\n    .dataframe tbody tr th:only-of-type {\n        vertical-align: middle;\n    }\n\n    .dataframe tbody tr th {\n        vertical-align: top;\n    }\n\n    .dataframe thead th {\n        text-align: right;\n    }\n</style>\n<table border=\"1\" class=\"dataframe\">\n  <thead>\n    <tr style=\"text-align: right;\">\n      <th></th>\n      <th>antecedents</th>\n      <th>consequents</th>\n      <th>antecedent support</th>\n      <th>consequent support</th>\n      <th>support</th>\n      <th>confidence</th>\n      <th>lift</th>\n      <th>representativity</th>\n      <th>leverage</th>\n      <th>conviction</th>\n      <th>zhangs_metric</th>\n      <th>jaccard</th>\n      <th>certainty</th>\n      <th>kulczynski</th>\n    </tr>\n  </thead>\n  <tbody>\n    <tr>\n      <th>0</th>\n      <td>(asian foods)</td>\n      <td>(fresh fruits)</td>\n      <td>0.043115</td>\n      <td>0.556755</td>\n      <td>0.028041</td>\n      <td>0.650359</td>\n      <td>1.168124</td>\n      <td>1.0</td>\n      <td>0.004036</td>\n      <td>1.267714</td>\n      <td>0.150412</td>\n      <td>0.049037</td>\n      <td>0.211179</td>\n      <td>0.350362</td>\n    </tr>\n    <tr>\n      <th>1</th>\n      <td>(fresh fruits)</td>\n      <td>(asian foods)</td>\n      <td>0.556755</td>\n      <td>0.043115</td>\n      <td>0.028041</td>\n      <td>0.050364</td>\n      <td>1.168124</td>\n      <td>1.0</td>\n      <td>0.004036</td>\n      <td>1.007633</td>\n      <td>0.324711</td>\n      <td>0.049037</td>\n      <td>0.007575</td>\n      <td>0.350362</td>\n    </tr>\n    <tr>\n      <th>2</th>\n      <td>(asian foods)</td>\n      <td>(fresh vegetables)</td>\n      <td>0.043115</td>\n      <td>0.444341</td>\n      <td>0.028292</td>\n      <td>0.656188</td>\n      <td>1.476767</td>\n      <td>1.0</td>\n      <td>0.009134</td>\n      <td>1.616172</td>\n      <td>0.337392</td>\n      <td>0.061616</td>\n      <td>0.381254</td>\n      <td>0.359930</td>\n    </tr>\n    <tr>\n      <th>3</th>\n      <td>(fresh vegetables)</td>\n      <td>(asian foods)</td>\n      <td>0.444341</td>\n      <td>0.043115</td>\n      <td>0.028292</td>\n      <td>0.063672</td>\n      <td>1.476767</td>\n      <td>1.0</td>\n      <td>0.009134</td>\n      <td>1.021954</td>\n      <td>0.581013</td>\n      <td>0.061616</td>\n      <td>0.021482</td>\n      <td>0.359930</td>\n    </tr>\n    <tr>\n      <th>4</th>\n      <td>(asian foods)</td>\n      <td>(milk)</td>\n      <td>0.043115</td>\n      <td>0.243671</td>\n      <td>0.011269</td>\n      <td>0.261368</td>\n      <td>1.072623</td>\n      <td>1.0</td>\n      <td>0.000763</td>\n      <td>1.023958</td>\n      <td>0.070757</td>\n      <td>0.040901</td>\n      <td>0.023398</td>\n      <td>0.153807</td>\n    </tr>\n    <tr>\n      <th>...</th>\n      <td>...</td>\n      <td>...</td>\n      <td>...</td>\n      <td>...</td>\n      <td>...</td>\n      <td>...</td>\n      <td>...</td>\n      <td>...</td>\n      <td>...</td>\n      <td>...</td>\n      <td>...</td>\n      <td>...</td>\n      <td>...</td>\n      <td>...</td>\n    </tr>\n    <tr>\n      <th>95</th>\n      <td>(cookies cakes)</td>\n      <td>(bread)</td>\n      <td>0.059127</td>\n      <td>0.163958</td>\n      <td>0.014275</td>\n      <td>0.241429</td>\n      <td>1.472504</td>\n      <td>1.0</td>\n      <td>0.004581</td>\n      <td>1.102127</td>\n      <td>0.341050</td>\n      <td>0.068363</td>\n      <td>0.092664</td>\n      <td>0.164247</td>\n    </tr>\n    <tr>\n      <th>96</th>\n      <td>(bread)</td>\n      <td>(crackers)</td>\n      <td>0.163958</td>\n      <td>0.114835</td>\n      <td>0.029106</td>\n      <td>0.177519</td>\n      <td>1.545864</td>\n      <td>1.0</td>\n      <td>0.010278</td>\n      <td>1.076214</td>\n      <td>0.422362</td>\n      <td>0.116569</td>\n      <td>0.070816</td>\n      <td>0.215488</td>\n    </tr>\n    <tr>\n      <th>97</th>\n      <td>(crackers)</td>\n      <td>(bread)</td>\n      <td>0.114835</td>\n      <td>0.163958</td>\n      <td>0.029106</td>\n      <td>0.253457</td>\n      <td>1.545864</td>\n      <td>1.0</td>\n      <td>0.010278</td>\n      <td>1.119884</td>\n      <td>0.398923</td>\n      <td>0.116569</td>\n      <td>0.107051</td>\n      <td>0.215488</td>\n    </tr>\n    <tr>\n      <th>98</th>\n      <td>(bread)</td>\n      <td>(cream)</td>\n      <td>0.163958</td>\n      <td>0.091588</td>\n      <td>0.019771</td>\n      <td>0.120589</td>\n      <td>1.316643</td>\n      <td>1.0</td>\n      <td>0.004755</td>\n      <td>1.032977</td>\n      <td>0.287656</td>\n      <td>0.083858</td>\n      <td>0.031925</td>\n      <td>0.168231</td>\n    </tr>\n    <tr>\n      <th>99</th>\n      <td>(cream)</td>\n      <td>(bread)</td>\n      <td>0.091588</td>\n      <td>0.163958</td>\n      <td>0.019771</td>\n      <td>0.215874</td>\n      <td>1.316643</td>\n      <td>1.0</td>\n      <td>0.004755</td>\n      <td>1.066209</td>\n      <td>0.264740</td>\n      <td>0.083858</td>\n      <td>0.062098</td>\n      <td>0.168231</td>\n    </tr>\n  </tbody>\n</table>\n<p>100 rows × 14 columns</p>\n</div>"
     },
     "execution_count": 17,
     "metadata": {},
     "output_type": "execute_result"
    }
   ],
   "source": [
    "rules = association_rules(frequent_items, metric=\"lift\", min_threshold=1)\n",
    "rules.sort_values('lift', ascending=True)\n",
    "rules[:100]"
   ],
   "metadata": {
    "collapsed": false,
    "ExecuteTime": {
     "end_time": "2025-04-24T16:30:18.630504800Z",
     "start_time": "2025-04-24T16:30:18.506992800Z"
    }
   },
   "id": "be18b4a9277bd090"
  }
 ],
 "metadata": {
  "kernelspec": {
   "display_name": "Python 3",
   "language": "python",
   "name": "python3"
  },
  "language_info": {
   "codemirror_mode": {
    "name": "ipython",
    "version": 2
   },
   "file_extension": ".py",
   "mimetype": "text/x-python",
   "name": "python",
   "nbconvert_exporter": "python",
   "pygments_lexer": "ipython2",
   "version": "2.7.6"
  }
 },
 "nbformat": 4,
 "nbformat_minor": 5
}
