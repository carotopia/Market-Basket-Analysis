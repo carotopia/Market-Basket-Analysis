{
 "cells": [
  {
   "cell_type": "code",
   "execution_count": 1,
   "outputs": [
    {
     "name": "stdout",
     "output_type": "stream",
     "text": [
      "Requirement already satisfied: mlxtend in c:\\users\\cabre\\appdata\\local\\programs\\python\\python310\\lib\\site-packages (0.23.4)\n",
      "Requirement already satisfied: scipy>=1.2.1 in c:\\users\\cabre\\appdata\\local\\programs\\python\\python310\\lib\\site-packages (from mlxtend) (1.9.1)\n",
      "Requirement already satisfied: numpy>=1.16.2 in c:\\users\\cabre\\appdata\\local\\programs\\python\\python310\\lib\\site-packages (from mlxtend) (1.24.4)\n",
      "Requirement already satisfied: pandas>=0.24.2 in c:\\users\\cabre\\appdata\\local\\programs\\python\\python310\\lib\\site-packages (from mlxtend) (2.1.3)\n",
      "Requirement already satisfied: scikit-learn>=1.3.1 in c:\\users\\cabre\\appdata\\local\\programs\\python\\python310\\lib\\site-packages (from mlxtend) (1.4.1.post1)\n",
      "Requirement already satisfied: matplotlib>=3.0.0 in c:\\users\\cabre\\appdata\\local\\programs\\python\\python310\\lib\\site-packages (from mlxtend) (3.5.1)\n",
      "Requirement already satisfied: joblib>=0.13.2 in c:\\users\\cabre\\appdata\\local\\programs\\python\\python310\\lib\\site-packages (from mlxtend) (1.3.2)\n",
      "Requirement already satisfied: cycler>=0.10 in c:\\users\\cabre\\appdata\\local\\programs\\python\\python310\\lib\\site-packages (from matplotlib>=3.0.0->mlxtend) (0.11.0)\n",
      "Requirement already satisfied: fonttools>=4.22.0 in c:\\users\\cabre\\appdata\\local\\programs\\python\\python310\\lib\\site-packages (from matplotlib>=3.0.0->mlxtend) (4.29.1)\n",
      "Requirement already satisfied: kiwisolver>=1.0.1 in c:\\users\\cabre\\appdata\\local\\programs\\python\\python310\\lib\\site-packages (from matplotlib>=3.0.0->mlxtend) (1.3.2)\n",
      "Requirement already satisfied: packaging>=20.0 in c:\\users\\cabre\\appdata\\local\\programs\\python\\python310\\lib\\site-packages (from matplotlib>=3.0.0->mlxtend) (23.2)\n",
      "Requirement already satisfied: pillow>=6.2.0 in c:\\users\\cabre\\appdata\\local\\programs\\python\\python310\\lib\\site-packages (from matplotlib>=3.0.0->mlxtend) (10.2.0)\n",
      "Requirement already satisfied: pyparsing>=2.2.1 in c:\\users\\cabre\\appdata\\local\\programs\\python\\python310\\lib\\site-packages (from matplotlib>=3.0.0->mlxtend) (3.0.9)\n",
      "Requirement already satisfied: python-dateutil>=2.7 in c:\\users\\cabre\\appdata\\local\\programs\\python\\python310\\lib\\site-packages (from matplotlib>=3.0.0->mlxtend) (2.9.0.post0)\n",
      "Requirement already satisfied: pytz>=2020.1 in c:\\users\\cabre\\appdata\\local\\programs\\python\\python310\\lib\\site-packages (from pandas>=0.24.2->mlxtend) (2024.1)\n",
      "Requirement already satisfied: tzdata>=2022.1 in c:\\users\\cabre\\appdata\\local\\programs\\python\\python310\\lib\\site-packages (from pandas>=0.24.2->mlxtend) (2024.1)\n",
      "Requirement already satisfied: threadpoolctl>=2.0.0 in c:\\users\\cabre\\appdata\\local\\programs\\python\\python310\\lib\\site-packages (from scikit-learn>=1.3.1->mlxtend) (3.1.0)\n",
      "Requirement already satisfied: six>=1.5 in c:\\users\\cabre\\appdata\\local\\programs\\python\\python310\\lib\\site-packages (from python-dateutil>=2.7->matplotlib>=3.0.0->mlxtend) (1.16.0)\n"
     ]
    },
    {
     "name": "stderr",
     "output_type": "stream",
     "text": [
      "WARNING: Ignoring invalid distribution -ymongo (c:\\users\\cabre\\appdata\\local\\programs\\python\\python310\\lib\\site-packages)\n",
      "WARNING: Ignoring invalid distribution -ymongo (c:\\users\\cabre\\appdata\\local\\programs\\python\\python310\\lib\\site-packages)\n",
      "DEPRECATION: textract 1.6.5 has a non-standard dependency specifier extract-msg<=0.29.*. pip 24.1 will enforce this behaviour change. A possible replacement is to upgrade to a newer version of textract or contact the author to suggest that they release a version with a conforming dependency specifiers. Discussion can be found at https://github.com/pypa/pip/issues/12063\n",
      "\n",
      "[notice] A new release of pip is available: 24.0 -> 25.0.1\n",
      "[notice] To update, run: python.exe -m pip install --upgrade pip\n"
     ]
    }
   ],
   "source": [
    "!pip install mlxtend"
   ],
   "metadata": {
    "collapsed": false,
    "ExecuteTime": {
     "end_time": "2025-04-02T18:20:19.414624500Z",
     "start_time": "2025-04-02T18:20:01.876909100Z"
    }
   },
   "id": "b665d16f3e11247c"
  },
  {
   "cell_type": "code",
   "execution_count": 2,
   "outputs": [],
   "source": [
    "import numpy as np\n",
    "import pandas as pd\n",
    "from mlxtend.frequent_patterns import apriori\n",
    "from mlxtend.frequent_patterns import association_rules\n",
    "from mlxtend.preprocessing import TransactionEncoder\n",
    "\n",
    "root = 'C:/Users/cabre/PycharmProjects/Market-Basket-Analysis/Data/'"
   ],
   "metadata": {
    "collapsed": false,
    "ExecuteTime": {
     "end_time": "2025-04-02T18:20:20.067523800Z",
     "start_time": "2025-04-02T18:20:19.403592700Z"
    }
   },
   "id": "ccd6ad9bf48a7f2b"
  },
  {
   "cell_type": "code",
   "execution_count": 3,
   "outputs": [],
   "source": [
    "orders = pd.read_csv(root + 'orders.csv')\n",
    "order_products_prior = pd.read_csv(root + 'order_products__prior.csv')\n",
    "order_products_train = pd.read_csv(root + 'order_products__train.csv')\n",
    "products = pd.read_csv(root + 'products.csv')"
   ],
   "metadata": {
    "collapsed": false,
    "ExecuteTime": {
     "end_time": "2025-04-02T18:20:35.875150800Z",
     "start_time": "2025-04-02T18:20:20.079247Z"
    }
   },
   "id": "ba5dae677e8a2a04"
  },
  {
   "cell_type": "code",
   "execution_count": 4,
   "outputs": [
    {
     "data": {
      "text/plain": "(33819106, 4)"
     },
     "execution_count": 4,
     "metadata": {},
     "output_type": "execute_result"
    }
   ],
   "source": [
    "order_products = pd.concat([order_products_prior, order_products_train])\n",
    "order_products.shape"
   ],
   "metadata": {
    "collapsed": false,
    "ExecuteTime": {
     "end_time": "2025-04-02T18:20:36.583830700Z",
     "start_time": "2025-04-02T18:20:35.877383200Z"
    }
   },
   "id": "2bd157782d6811a4"
  },
  {
   "cell_type": "code",
   "execution_count": 5,
   "outputs": [
    {
     "data": {
      "text/plain": "   order_id  product_id  add_to_cart_order  reordered\n0         2       33120                  1          1\n1         2       28985                  2          1\n2         2        9327                  3          0\n3         2       45918                  4          1\n4         2       30035                  5          0",
      "text/html": "<div>\n<style scoped>\n    .dataframe tbody tr th:only-of-type {\n        vertical-align: middle;\n    }\n\n    .dataframe tbody tr th {\n        vertical-align: top;\n    }\n\n    .dataframe thead th {\n        text-align: right;\n    }\n</style>\n<table border=\"1\" class=\"dataframe\">\n  <thead>\n    <tr style=\"text-align: right;\">\n      <th></th>\n      <th>order_id</th>\n      <th>product_id</th>\n      <th>add_to_cart_order</th>\n      <th>reordered</th>\n    </tr>\n  </thead>\n  <tbody>\n    <tr>\n      <th>0</th>\n      <td>2</td>\n      <td>33120</td>\n      <td>1</td>\n      <td>1</td>\n    </tr>\n    <tr>\n      <th>1</th>\n      <td>2</td>\n      <td>28985</td>\n      <td>2</td>\n      <td>1</td>\n    </tr>\n    <tr>\n      <th>2</th>\n      <td>2</td>\n      <td>9327</td>\n      <td>3</td>\n      <td>0</td>\n    </tr>\n    <tr>\n      <th>3</th>\n      <td>2</td>\n      <td>45918</td>\n      <td>4</td>\n      <td>1</td>\n    </tr>\n    <tr>\n      <th>4</th>\n      <td>2</td>\n      <td>30035</td>\n      <td>5</td>\n      <td>0</td>\n    </tr>\n  </tbody>\n</table>\n</div>"
     },
     "execution_count": 5,
     "metadata": {},
     "output_type": "execute_result"
    }
   ],
   "source": [
    "order_products.head()"
   ],
   "metadata": {
    "collapsed": false,
    "ExecuteTime": {
     "end_time": "2025-04-02T18:20:36.673932900Z",
     "start_time": "2025-04-02T18:20:36.579698300Z"
    }
   },
   "id": "ce241863b7399985"
  },
  {
   "cell_type": "code",
   "execution_count": 6,
   "outputs": [
    {
     "data": {
      "text/plain": "49685"
     },
     "execution_count": 6,
     "metadata": {},
     "output_type": "execute_result"
    }
   ],
   "source": [
    "order_products.product_id.nunique()"
   ],
   "metadata": {
    "collapsed": false,
    "ExecuteTime": {
     "end_time": "2025-04-02T18:20:37.543523500Z",
     "start_time": "2025-04-02T18:20:36.676936500Z"
    }
   },
   "id": "41926e7702bc8368"
  },
  {
   "cell_type": "markdown",
   "source": [
    "Out of 49685 keeping top 100 most frequent products."
   ],
   "metadata": {
    "collapsed": false
   },
   "id": "e9f3d70c0f871d09"
  },
  {
   "cell_type": "code",
   "execution_count": 7,
   "outputs": [
    {
     "data": {
      "text/plain": "   product_id  frequency            product_name  aisle_id  department_id\n0       24852     491291                  Banana        24              4\n1       13176     394930  Bag of Organic Bananas        24              4\n2       21137     275577    Organic Strawberries        24              4\n3       21903     251705    Organic Baby Spinach       123              4\n4       47209     220877    Organic Hass Avocado        24              4\n5       47766     184224         Organic Avocado        24              4\n6       47626     160792             Large Lemon        24              4\n7       16797     149445            Strawberries        24              4\n8       26209     146660                   Limes        24              4\n9       27845     142813      Organic Whole Milk        84             16",
      "text/html": "<div>\n<style scoped>\n    .dataframe tbody tr th:only-of-type {\n        vertical-align: middle;\n    }\n\n    .dataframe tbody tr th {\n        vertical-align: top;\n    }\n\n    .dataframe thead th {\n        text-align: right;\n    }\n</style>\n<table border=\"1\" class=\"dataframe\">\n  <thead>\n    <tr style=\"text-align: right;\">\n      <th></th>\n      <th>product_id</th>\n      <th>frequency</th>\n      <th>product_name</th>\n      <th>aisle_id</th>\n      <th>department_id</th>\n    </tr>\n  </thead>\n  <tbody>\n    <tr>\n      <th>0</th>\n      <td>24852</td>\n      <td>491291</td>\n      <td>Banana</td>\n      <td>24</td>\n      <td>4</td>\n    </tr>\n    <tr>\n      <th>1</th>\n      <td>13176</td>\n      <td>394930</td>\n      <td>Bag of Organic Bananas</td>\n      <td>24</td>\n      <td>4</td>\n    </tr>\n    <tr>\n      <th>2</th>\n      <td>21137</td>\n      <td>275577</td>\n      <td>Organic Strawberries</td>\n      <td>24</td>\n      <td>4</td>\n    </tr>\n    <tr>\n      <th>3</th>\n      <td>21903</td>\n      <td>251705</td>\n      <td>Organic Baby Spinach</td>\n      <td>123</td>\n      <td>4</td>\n    </tr>\n    <tr>\n      <th>4</th>\n      <td>47209</td>\n      <td>220877</td>\n      <td>Organic Hass Avocado</td>\n      <td>24</td>\n      <td>4</td>\n    </tr>\n    <tr>\n      <th>5</th>\n      <td>47766</td>\n      <td>184224</td>\n      <td>Organic Avocado</td>\n      <td>24</td>\n      <td>4</td>\n    </tr>\n    <tr>\n      <th>6</th>\n      <td>47626</td>\n      <td>160792</td>\n      <td>Large Lemon</td>\n      <td>24</td>\n      <td>4</td>\n    </tr>\n    <tr>\n      <th>7</th>\n      <td>16797</td>\n      <td>149445</td>\n      <td>Strawberries</td>\n      <td>24</td>\n      <td>4</td>\n    </tr>\n    <tr>\n      <th>8</th>\n      <td>26209</td>\n      <td>146660</td>\n      <td>Limes</td>\n      <td>24</td>\n      <td>4</td>\n    </tr>\n    <tr>\n      <th>9</th>\n      <td>27845</td>\n      <td>142813</td>\n      <td>Organic Whole Milk</td>\n      <td>84</td>\n      <td>16</td>\n    </tr>\n  </tbody>\n</table>\n</div>"
     },
     "execution_count": 7,
     "metadata": {},
     "output_type": "execute_result"
    }
   ],
   "source": [
    "product_counts = order_products.groupby('product_id')['order_id'].count().reset_index().rename(columns = {'order_id':'frequency'})\n",
    "product_counts = product_counts.sort_values('frequency', ascending=False)[0:100].reset_index(drop = True)\n",
    "product_counts = product_counts.merge(products, on = 'product_id', how = 'left')\n",
    "product_counts.head(10)"
   ],
   "metadata": {
    "collapsed": false,
    "ExecuteTime": {
     "end_time": "2025-04-02T18:20:39.429646Z",
     "start_time": "2025-04-02T18:20:37.540520300Z"
    }
   },
   "id": "b0a8d4092f671d50"
  },
  {
   "cell_type": "markdown",
   "source": [
    "Keeping 100 most frequent items in order_products dataframe"
   ],
   "metadata": {
    "collapsed": false
   },
   "id": "79eb4bf1561db90f"
  },
  {
   "cell_type": "code",
   "execution_count": 8,
   "outputs": [
    {
     "data": {
      "text/plain": "[13176, 21137, 21903, 47209, 47766, 47626, 16797, 26209, 27845]"
     },
     "execution_count": 8,
     "metadata": {},
     "output_type": "execute_result"
    }
   ],
   "source": [
    "freq_products = list(product_counts.product_id)\n",
    "freq_products[1:10]"
   ],
   "metadata": {
    "collapsed": false,
    "ExecuteTime": {
     "end_time": "2025-04-02T18:20:39.525069900Z",
     "start_time": "2025-04-02T18:20:39.428642200Z"
    }
   },
   "id": "af8ff3638e973161"
  },
  {
   "cell_type": "code",
   "execution_count": 9,
   "outputs": [
    {
     "data": {
      "text/plain": "(7795471, 4)"
     },
     "execution_count": 9,
     "metadata": {},
     "output_type": "execute_result"
    }
   ],
   "source": [
    "order_products = order_products[order_products.product_id.isin(freq_products)]\n",
    "order_products.shape"
   ],
   "metadata": {
    "collapsed": false,
    "ExecuteTime": {
     "end_time": "2025-04-02T18:20:40.870142600Z",
     "start_time": "2025-04-02T18:20:39.456264600Z"
    }
   },
   "id": "24fa018aed3982e4"
  },
  {
   "cell_type": "code",
   "execution_count": 10,
   "outputs": [
    {
     "data": {
      "text/plain": "2444982"
     },
     "execution_count": 10,
     "metadata": {},
     "output_type": "execute_result"
    }
   ],
   "source": [
    "order_products.order_id.nunique()"
   ],
   "metadata": {
    "collapsed": false,
    "ExecuteTime": {
     "end_time": "2025-04-02T18:20:41.278891900Z",
     "start_time": "2025-04-02T18:20:40.872651300Z"
    }
   },
   "id": "797ccbd02130324c"
  },
  {
   "cell_type": "code",
   "execution_count": 11,
   "outputs": [
    {
     "data": {
      "text/plain": "   order_id  product_id  add_to_cart_order  reordered            product_name  \\\n0         2       28985                  2          1   Michigan Organic Kale   \n1         2       17794                  6          1                 Carrots   \n2         3       24838                  2          1  Unsweetened Almondmilk   \n3         3       21903                  4          1    Organic Baby Spinach   \n4         3       46667                  6          1     Organic Ginger Root   \n\n   aisle_id  department_id  \n0        83              4  \n1        83              4  \n2        91             16  \n3       123              4  \n4        83              4  ",
      "text/html": "<div>\n<style scoped>\n    .dataframe tbody tr th:only-of-type {\n        vertical-align: middle;\n    }\n\n    .dataframe tbody tr th {\n        vertical-align: top;\n    }\n\n    .dataframe thead th {\n        text-align: right;\n    }\n</style>\n<table border=\"1\" class=\"dataframe\">\n  <thead>\n    <tr style=\"text-align: right;\">\n      <th></th>\n      <th>order_id</th>\n      <th>product_id</th>\n      <th>add_to_cart_order</th>\n      <th>reordered</th>\n      <th>product_name</th>\n      <th>aisle_id</th>\n      <th>department_id</th>\n    </tr>\n  </thead>\n  <tbody>\n    <tr>\n      <th>0</th>\n      <td>2</td>\n      <td>28985</td>\n      <td>2</td>\n      <td>1</td>\n      <td>Michigan Organic Kale</td>\n      <td>83</td>\n      <td>4</td>\n    </tr>\n    <tr>\n      <th>1</th>\n      <td>2</td>\n      <td>17794</td>\n      <td>6</td>\n      <td>1</td>\n      <td>Carrots</td>\n      <td>83</td>\n      <td>4</td>\n    </tr>\n    <tr>\n      <th>2</th>\n      <td>3</td>\n      <td>24838</td>\n      <td>2</td>\n      <td>1</td>\n      <td>Unsweetened Almondmilk</td>\n      <td>91</td>\n      <td>16</td>\n    </tr>\n    <tr>\n      <th>3</th>\n      <td>3</td>\n      <td>21903</td>\n      <td>4</td>\n      <td>1</td>\n      <td>Organic Baby Spinach</td>\n      <td>123</td>\n      <td>4</td>\n    </tr>\n    <tr>\n      <th>4</th>\n      <td>3</td>\n      <td>46667</td>\n      <td>6</td>\n      <td>1</td>\n      <td>Organic Ginger Root</td>\n      <td>83</td>\n      <td>4</td>\n    </tr>\n  </tbody>\n</table>\n</div>"
     },
     "execution_count": 11,
     "metadata": {},
     "output_type": "execute_result"
    }
   ],
   "source": [
    "order_products = order_products.merge(products, on = 'product_id', how='left')\n",
    "order_products.head()"
   ],
   "metadata": {
    "collapsed": false,
    "ExecuteTime": {
     "end_time": "2025-04-02T18:20:42.948953100Z",
     "start_time": "2025-04-02T18:20:41.276895800Z"
    }
   },
   "id": "663d3f6fc63cd33d"
  },
  {
   "cell_type": "code",
   "execution_count": 12,
   "outputs": [
    {
     "data": {
      "text/plain": "[['Cucumber Kirby',\n  'Bag of Organic Bananas',\n  'Organic Hass Avocado',\n  'Organic Whole String Cheese'],\n ['Michigan Organic Kale', 'Carrots'],\n ['Unsweetened Almondmilk', 'Organic Baby Spinach', 'Organic Ginger Root'],\n ['Bag of Organic Bananas',\n  'Organic Raspberries',\n  '2% Reduced Fat Milk',\n  'Organic Hass Avocado'],\n ['Extra Virgin Olive Oil'],\n ['Banana',\n  'Organic Cilantro',\n  'Organic Avocado',\n  'Yellow Onions',\n  'Organic Strawberries',\n  'Organic Black Beans',\n  'Organic Half & Half'],\n ['Extra Virgin Olive Oil'],\n ['Soda', 'Sparkling Natural Mineral Water'],\n ['Organic Whole Milk', 'Organic Broccoli Florets', 'Honeycrisp Apple'],\n ['Spring Water']]"
     },
     "execution_count": 12,
     "metadata": {},
     "output_type": "execute_result"
    }
   ],
   "source": [
    "transactions_list = order_products.groupby('order_id')['product_name'].apply(list).tolist()\n",
    "transactions_list[:10]"
   ],
   "metadata": {
    "collapsed": false,
    "ExecuteTime": {
     "end_time": "2025-04-02T18:22:06.215719300Z",
     "start_time": "2025-04-02T18:20:42.957477100Z"
    }
   },
   "id": "91a1864db8b68120"
  },
  {
   "cell_type": "code",
   "execution_count": 13,
   "outputs": [
    {
     "data": {
      "text/plain": "         100% Raw Coconut Water  100% Whole Wheat Bread  2% Reduced Fat Milk  \\\n0                         False                   False                False   \n1                         False                   False                False   \n2                         False                   False                False   \n3                         False                   False                 True   \n4                         False                   False                False   \n...                         ...                     ...                  ...   \n2444977                   False                   False                False   \n2444978                   False                   False                False   \n2444979                   False                   False                False   \n2444980                   False                   False                False   \n2444981                   False                   False                False   \n\n         Apple Honeycrisp Organic  Asparagus  Bag of Organic Bananas  Banana  \\\n0                           False      False                    True   False   \n1                           False      False                   False   False   \n2                           False      False                   False   False   \n3                           False      False                    True   False   \n4                           False      False                   False   False   \n...                           ...        ...                     ...     ...   \n2444977                     False      False                   False    True   \n2444978                     False      False                   False   False   \n2444979                     False      False                   False   False   \n2444980                     False      False                   False   False   \n2444981                     False      False                   False    True   \n\n         Bartlett Pears  Blueberries  Boneless Skinless Chicken Breasts  ...  \\\n0                 False        False                              False  ...   \n1                 False        False                              False  ...   \n2                 False        False                              False  ...   \n3                 False        False                              False  ...   \n4                 False        False                              False  ...   \n...                 ...          ...                                ...  ...   \n2444977           False        False                              False  ...   \n2444978           False        False                              False  ...   \n2444979           False        False                              False  ...   \n2444980           False        False                              False  ...   \n2444981           False        False                              False  ...   \n\n         Sparkling Natural Mineral Water  Sparkling Water Grapefruit  \\\n0                                  False                       False   \n1                                  False                       False   \n2                                  False                       False   \n3                                  False                       False   \n4                                  False                       False   \n...                                  ...                         ...   \n2444977                            False                       False   \n2444978                            False                       False   \n2444979                            False                       False   \n2444980                            False                       False   \n2444981                            False                       False   \n\n         Spring Water  Strawberries  Uncured Genoa Salami  Unsalted Butter  \\\n0               False         False                 False            False   \n1               False         False                 False            False   \n2               False         False                 False            False   \n3               False         False                 False            False   \n4               False         False                 False            False   \n...               ...           ...                   ...              ...   \n2444977         False         False                 False            False   \n2444978         False         False                 False            False   \n2444979         False         False                 False            False   \n2444980         False          True                 False            False   \n2444981         False         False                 False            False   \n\n         Unsweetened Almondmilk  \\\n0                         False   \n1                         False   \n2                          True   \n3                         False   \n4                         False   \n...                         ...   \n2444977                   False   \n2444978                   False   \n2444979                   False   \n2444980                   False   \n2444981                   False   \n\n         Unsweetened Original Almond Breeze Almond Milk  Whole Milk  \\\n0                                                 False       False   \n1                                                 False       False   \n2                                                 False       False   \n3                                                 False       False   \n4                                                 False       False   \n...                                                 ...         ...   \n2444977                                           False       False   \n2444978                                           False       False   \n2444979                                           False       False   \n2444980                                           False       False   \n2444981                                           False       False   \n\n         Yellow Onions  \n0                False  \n1                False  \n2                False  \n3                False  \n4                False  \n...                ...  \n2444977          False  \n2444978          False  \n2444979          False  \n2444980          False  \n2444981          False  \n\n[2444982 rows x 100 columns]",
      "text/html": "<div>\n<style scoped>\n    .dataframe tbody tr th:only-of-type {\n        vertical-align: middle;\n    }\n\n    .dataframe tbody tr th {\n        vertical-align: top;\n    }\n\n    .dataframe thead th {\n        text-align: right;\n    }\n</style>\n<table border=\"1\" class=\"dataframe\">\n  <thead>\n    <tr style=\"text-align: right;\">\n      <th></th>\n      <th>100% Raw Coconut Water</th>\n      <th>100% Whole Wheat Bread</th>\n      <th>2% Reduced Fat Milk</th>\n      <th>Apple Honeycrisp Organic</th>\n      <th>Asparagus</th>\n      <th>Bag of Organic Bananas</th>\n      <th>Banana</th>\n      <th>Bartlett Pears</th>\n      <th>Blueberries</th>\n      <th>Boneless Skinless Chicken Breasts</th>\n      <th>...</th>\n      <th>Sparkling Natural Mineral Water</th>\n      <th>Sparkling Water Grapefruit</th>\n      <th>Spring Water</th>\n      <th>Strawberries</th>\n      <th>Uncured Genoa Salami</th>\n      <th>Unsalted Butter</th>\n      <th>Unsweetened Almondmilk</th>\n      <th>Unsweetened Original Almond Breeze Almond Milk</th>\n      <th>Whole Milk</th>\n      <th>Yellow Onions</th>\n    </tr>\n  </thead>\n  <tbody>\n    <tr>\n      <th>0</th>\n      <td>False</td>\n      <td>False</td>\n      <td>False</td>\n      <td>False</td>\n      <td>False</td>\n      <td>True</td>\n      <td>False</td>\n      <td>False</td>\n      <td>False</td>\n      <td>False</td>\n      <td>...</td>\n      <td>False</td>\n      <td>False</td>\n      <td>False</td>\n      <td>False</td>\n      <td>False</td>\n      <td>False</td>\n      <td>False</td>\n      <td>False</td>\n      <td>False</td>\n      <td>False</td>\n    </tr>\n    <tr>\n      <th>1</th>\n      <td>False</td>\n      <td>False</td>\n      <td>False</td>\n      <td>False</td>\n      <td>False</td>\n      <td>False</td>\n      <td>False</td>\n      <td>False</td>\n      <td>False</td>\n      <td>False</td>\n      <td>...</td>\n      <td>False</td>\n      <td>False</td>\n      <td>False</td>\n      <td>False</td>\n      <td>False</td>\n      <td>False</td>\n      <td>False</td>\n      <td>False</td>\n      <td>False</td>\n      <td>False</td>\n    </tr>\n    <tr>\n      <th>2</th>\n      <td>False</td>\n      <td>False</td>\n      <td>False</td>\n      <td>False</td>\n      <td>False</td>\n      <td>False</td>\n      <td>False</td>\n      <td>False</td>\n      <td>False</td>\n      <td>False</td>\n      <td>...</td>\n      <td>False</td>\n      <td>False</td>\n      <td>False</td>\n      <td>False</td>\n      <td>False</td>\n      <td>False</td>\n      <td>True</td>\n      <td>False</td>\n      <td>False</td>\n      <td>False</td>\n    </tr>\n    <tr>\n      <th>3</th>\n      <td>False</td>\n      <td>False</td>\n      <td>True</td>\n      <td>False</td>\n      <td>False</td>\n      <td>True</td>\n      <td>False</td>\n      <td>False</td>\n      <td>False</td>\n      <td>False</td>\n      <td>...</td>\n      <td>False</td>\n      <td>False</td>\n      <td>False</td>\n      <td>False</td>\n      <td>False</td>\n      <td>False</td>\n      <td>False</td>\n      <td>False</td>\n      <td>False</td>\n      <td>False</td>\n    </tr>\n    <tr>\n      <th>4</th>\n      <td>False</td>\n      <td>False</td>\n      <td>False</td>\n      <td>False</td>\n      <td>False</td>\n      <td>False</td>\n      <td>False</td>\n      <td>False</td>\n      <td>False</td>\n      <td>False</td>\n      <td>...</td>\n      <td>False</td>\n      <td>False</td>\n      <td>False</td>\n      <td>False</td>\n      <td>False</td>\n      <td>False</td>\n      <td>False</td>\n      <td>False</td>\n      <td>False</td>\n      <td>False</td>\n    </tr>\n    <tr>\n      <th>...</th>\n      <td>...</td>\n      <td>...</td>\n      <td>...</td>\n      <td>...</td>\n      <td>...</td>\n      <td>...</td>\n      <td>...</td>\n      <td>...</td>\n      <td>...</td>\n      <td>...</td>\n      <td>...</td>\n      <td>...</td>\n      <td>...</td>\n      <td>...</td>\n      <td>...</td>\n      <td>...</td>\n      <td>...</td>\n      <td>...</td>\n      <td>...</td>\n      <td>...</td>\n      <td>...</td>\n    </tr>\n    <tr>\n      <th>2444977</th>\n      <td>False</td>\n      <td>False</td>\n      <td>False</td>\n      <td>False</td>\n      <td>False</td>\n      <td>False</td>\n      <td>True</td>\n      <td>False</td>\n      <td>False</td>\n      <td>False</td>\n      <td>...</td>\n      <td>False</td>\n      <td>False</td>\n      <td>False</td>\n      <td>False</td>\n      <td>False</td>\n      <td>False</td>\n      <td>False</td>\n      <td>False</td>\n      <td>False</td>\n      <td>False</td>\n    </tr>\n    <tr>\n      <th>2444978</th>\n      <td>False</td>\n      <td>False</td>\n      <td>False</td>\n      <td>False</td>\n      <td>False</td>\n      <td>False</td>\n      <td>False</td>\n      <td>False</td>\n      <td>False</td>\n      <td>False</td>\n      <td>...</td>\n      <td>False</td>\n      <td>False</td>\n      <td>False</td>\n      <td>False</td>\n      <td>False</td>\n      <td>False</td>\n      <td>False</td>\n      <td>False</td>\n      <td>False</td>\n      <td>False</td>\n    </tr>\n    <tr>\n      <th>2444979</th>\n      <td>False</td>\n      <td>False</td>\n      <td>False</td>\n      <td>False</td>\n      <td>False</td>\n      <td>False</td>\n      <td>False</td>\n      <td>False</td>\n      <td>False</td>\n      <td>False</td>\n      <td>...</td>\n      <td>False</td>\n      <td>False</td>\n      <td>False</td>\n      <td>False</td>\n      <td>False</td>\n      <td>False</td>\n      <td>False</td>\n      <td>False</td>\n      <td>False</td>\n      <td>False</td>\n    </tr>\n    <tr>\n      <th>2444980</th>\n      <td>False</td>\n      <td>False</td>\n      <td>False</td>\n      <td>False</td>\n      <td>False</td>\n      <td>False</td>\n      <td>False</td>\n      <td>False</td>\n      <td>False</td>\n      <td>False</td>\n      <td>...</td>\n      <td>False</td>\n      <td>False</td>\n      <td>False</td>\n      <td>True</td>\n      <td>False</td>\n      <td>False</td>\n      <td>False</td>\n      <td>False</td>\n      <td>False</td>\n      <td>False</td>\n    </tr>\n    <tr>\n      <th>2444981</th>\n      <td>False</td>\n      <td>False</td>\n      <td>False</td>\n      <td>False</td>\n      <td>False</td>\n      <td>False</td>\n      <td>True</td>\n      <td>False</td>\n      <td>False</td>\n      <td>False</td>\n      <td>...</td>\n      <td>False</td>\n      <td>False</td>\n      <td>False</td>\n      <td>False</td>\n      <td>False</td>\n      <td>False</td>\n      <td>False</td>\n      <td>False</td>\n      <td>False</td>\n      <td>False</td>\n    </tr>\n  </tbody>\n</table>\n<p>2444982 rows × 100 columns</p>\n</div>"
     },
     "execution_count": 13,
     "metadata": {},
     "output_type": "execute_result"
    }
   ],
   "source": [
    "transaction_encoder = TransactionEncoder()\n",
    "transaction_array = transaction_encoder.fit(transactions_list).transform(transactions_list)\n",
    "transaction_df = pd.DataFrame(transaction_array, columns=transaction_encoder.columns_)\n",
    "transaction_df"
   ],
   "metadata": {
    "collapsed": false,
    "ExecuteTime": {
     "end_time": "2025-04-02T18:22:09.791420800Z",
     "start_time": "2025-04-02T18:22:06.214718600Z"
    }
   },
   "id": "e4158933c67b19a9"
  },
  {
   "cell_type": "markdown",
   "source": [
    "Creating frequent sets and rules"
   ],
   "metadata": {
    "collapsed": false
   },
   "id": "fcd1b324979aba30"
  },
  {
   "cell_type": "code",
   "execution_count": 14,
   "outputs": [
    {
     "data": {
      "text/plain": "    support                    itemsets\n0  0.016062    (100% Raw Coconut Water)\n1  0.025814    (100% Whole Wheat Bread)\n2  0.015800       (2% Reduced Fat Milk)\n3  0.035694  (Apple Honeycrisp Organic)\n4  0.029101                 (Asparagus)",
      "text/html": "<div>\n<style scoped>\n    .dataframe tbody tr th:only-of-type {\n        vertical-align: middle;\n    }\n\n    .dataframe tbody tr th {\n        vertical-align: top;\n    }\n\n    .dataframe thead th {\n        text-align: right;\n    }\n</style>\n<table border=\"1\" class=\"dataframe\">\n  <thead>\n    <tr style=\"text-align: right;\">\n      <th></th>\n      <th>support</th>\n      <th>itemsets</th>\n    </tr>\n  </thead>\n  <tbody>\n    <tr>\n      <th>0</th>\n      <td>0.016062</td>\n      <td>(100% Raw Coconut Water)</td>\n    </tr>\n    <tr>\n      <th>1</th>\n      <td>0.025814</td>\n      <td>(100% Whole Wheat Bread)</td>\n    </tr>\n    <tr>\n      <th>2</th>\n      <td>0.015800</td>\n      <td>(2% Reduced Fat Milk)</td>\n    </tr>\n    <tr>\n      <th>3</th>\n      <td>0.035694</td>\n      <td>(Apple Honeycrisp Organic)</td>\n    </tr>\n    <tr>\n      <th>4</th>\n      <td>0.029101</td>\n      <td>(Asparagus)</td>\n    </tr>\n  </tbody>\n</table>\n</div>"
     },
     "execution_count": 14,
     "metadata": {},
     "output_type": "execute_result"
    }
   ],
   "source": [
    "frequent_items = apriori(transaction_df, min_support=0.01, use_colnames=True, low_memory=True)\n",
    "frequent_items.head()"
   ],
   "metadata": {
    "collapsed": false,
    "ExecuteTime": {
     "end_time": "2025-04-02T18:22:17.397407500Z",
     "start_time": "2025-04-02T18:22:09.787420100Z"
    }
   },
   "id": "3fdac22a8e942066"
  },
  {
   "cell_type": "code",
   "execution_count": 15,
   "outputs": [
    {
     "data": {
      "text/plain": "                 antecedents               consequents  antecedent support  \\\n27                  (Banana)    (Organic Strawberries)            0.200938   \n26    (Organic Strawberries)                  (Banana)            0.112711   \n23                  (Banana)    (Organic Baby Spinach)            0.200938   \n22    (Organic Baby Spinach)                  (Banana)            0.102948   \n19                  (Banana)                   (Limes)            0.200938   \n18                   (Limes)                  (Banana)            0.059984   \n29                  (Banana)      (Organic Whole Milk)            0.200938   \n28      (Organic Whole Milk)                  (Banana)            0.058411   \n8       (Organic Whole Milk)  (Bag of Organic Bananas)            0.058411   \n9   (Bag of Organic Bananas)      (Organic Whole Milk)            0.161527   \n40    (Organic Strawberries)         (Organic Avocado)            0.112711   \n41         (Organic Avocado)    (Organic Strawberries)            0.075348   \n0     (Organic Baby Spinach)  (Bag of Organic Bananas)            0.102948   \n1   (Bag of Organic Bananas)    (Organic Baby Spinach)            0.161527   \n17                  (Banana)             (Large Lemon)            0.200938   \n16             (Large Lemon)                  (Banana)            0.065764   \n10    (Organic Yellow Onion)  (Bag of Organic Bananas)            0.048146   \n11  (Bag of Organic Bananas)    (Organic Yellow Onion)            0.161527   \n45    (Organic Baby Spinach)    (Organic Strawberries)            0.102948   \n44    (Organic Strawberries)    (Organic Baby Spinach)            0.112711   \n32            (Strawberries)                  (Banana)            0.061123   \n33                  (Banana)            (Strawberries)            0.200938   \n7   (Bag of Organic Bananas)    (Organic Strawberries)            0.161527   \n6     (Organic Strawberries)  (Bag of Organic Bananas)            0.112711   \n31                  (Banana)     (Seedless Red Grapes)            0.200938   \n30     (Seedless Red Grapes)                  (Banana)            0.035480   \n21                  (Banana)         (Organic Avocado)            0.200938   \n20         (Organic Avocado)                  (Banana)            0.075348   \n54    (Organic Strawberries)      (Organic Whole Milk)            0.112711   \n55      (Organic Whole Milk)    (Organic Strawberries)            0.058411   \n42    (Organic Baby Spinach)    (Organic Hass Avocado)            0.102948   \n43    (Organic Hass Avocado)    (Organic Baby Spinach)            0.090339   \n13                  (Banana)          (Cucumber Kirby)            0.200938   \n12          (Cucumber Kirby)                  (Banana)            0.040789   \n51    (Organic Hass Avocado)    (Organic Strawberries)            0.090339   \n50    (Organic Strawberries)    (Organic Hass Avocado)            0.112711   \n38    (Organic Baby Spinach)         (Organic Avocado)            0.102948   \n39         (Organic Avocado)    (Organic Baby Spinach)            0.075348   \n15                  (Banana)        (Honeycrisp Apple)            0.200938   \n14        (Honeycrisp Apple)                  (Banana)            0.034078   \n2   (Bag of Organic Bananas)    (Organic Hass Avocado)            0.161527   \n3     (Organic Hass Avocado)  (Bag of Organic Bananas)            0.090339   \n4      (Organic Raspberries)  (Bag of Organic Bananas)            0.058325   \n5   (Bag of Organic Bananas)     (Organic Raspberries)            0.161527   \n24      (Organic Fuji Apple)                  (Banana)            0.037992   \n25                  (Banana)      (Organic Fuji Apple)            0.200938   \n48     (Organic Raspberries)    (Organic Hass Avocado)            0.058325   \n49    (Organic Hass Avocado)     (Organic Raspberries)            0.090339   \n46    (Organic Strawberries)     (Organic Blueberries)            0.112711   \n47     (Organic Blueberries)    (Organic Strawberries)            0.042956   \n36             (Large Lemon)         (Organic Avocado)            0.065764   \n37         (Organic Avocado)             (Large Lemon)            0.075348   \n52    (Organic Strawberries)     (Organic Raspberries)            0.112711   \n53     (Organic Raspberries)    (Organic Strawberries)            0.058325   \n35                   (Limes)             (Large Lemon)            0.059984   \n34             (Large Lemon)                   (Limes)            0.065764   \n\n    consequent support   support  confidence      lift  representativity  \\\n27            0.112711  0.023857    0.118728  1.053382               1.0   \n26            0.200938  0.023857    0.211665  1.053382               1.0   \n23            0.102948  0.021839    0.108683  1.055712               1.0   \n22            0.200938  0.021839    0.212133  1.055712               1.0   \n19            0.059984  0.013539    0.067380  1.123292               1.0   \n18            0.200938  0.013539    0.225713  1.123292               1.0   \n29            0.058411  0.013368    0.066529  1.138984               1.0   \n28            0.200938  0.013368    0.228866  1.138984               1.0   \n8             0.161527  0.011288    0.193253  1.196413               1.0   \n9             0.058411  0.011288    0.069883  1.196413               1.0   \n40            0.075348  0.010254    0.090980  1.207468               1.0   \n41            0.112711  0.010254    0.136095  1.207468               1.0   \n0             0.161527  0.021517    0.209007  1.293944               1.0   \n1             0.102948  0.021517    0.133208  1.293944               1.0   \n17            0.065764  0.017603    0.087602  1.332062               1.0   \n16            0.200938  0.017603    0.267663  1.332062               1.0   \n10            0.161527  0.010460    0.217252  1.344989               1.0   \n11            0.048146  0.010460    0.064756  1.344989               1.0   \n45            0.112711  0.016267    0.158014  1.401939               1.0   \n44            0.102948  0.016267    0.144326  1.401939               1.0   \n32            0.200938  0.017661    0.288936  1.437931               1.0   \n33            0.061123  0.017661    0.087891  1.437931               1.0   \n7             0.112711  0.026463    0.163832  1.453551               1.0   \n6             0.161527  0.026463    0.234787  1.453551               1.0   \n31            0.035480  0.010534    0.052425  1.477596               1.0   \n30            0.200938  0.010534    0.296906  1.477596               1.0   \n21            0.075348  0.022745    0.113194  1.502282               1.0   \n20            0.200938  0.022745    0.301866  1.502282               1.0   \n54            0.058411  0.010130    0.089873  1.538645               1.0   \n55            0.112711  0.010130    0.173423  1.538645               1.0   \n42            0.090339  0.014787    0.143632  1.589929               1.0   \n43            0.102948  0.014787    0.163679  1.589929               1.0   \n13            0.040789  0.013432    0.066844  1.638788               1.0   \n12            0.200938  0.013432    0.329296  1.638788               1.0   \n51            0.112711  0.017314    0.191659  1.700440               1.0   \n50            0.090339  0.017314    0.153616  1.700440               1.0   \n38            0.075348  0.013207    0.128289  1.702625               1.0   \n39            0.102948  0.013207    0.175281  1.702625               1.0   \n15            0.034078  0.012122    0.060329  1.770317               1.0   \n14            0.200938  0.012122    0.355725  1.770317               1.0   \n2             0.090339  0.026487    0.163981  1.815175               1.0   \n3             0.161527  0.026487    0.293199  1.815175               1.0   \n4             0.161527  0.017294    0.296508  1.835662               1.0   \n5             0.058325  0.017294    0.107065  1.835662               1.0   \n24            0.200938  0.014378    0.378441  1.883367               1.0   \n25            0.037992  0.014378    0.071552  1.883367               1.0   \n48            0.090339  0.010966    0.188018  2.081257               1.0   \n49            0.058325  0.010966    0.121389  2.081257               1.0   \n46            0.042956  0.010235    0.090809  2.114024               1.0   \n47            0.112711  0.010235    0.238274  2.114024               1.0   \n36            0.075348  0.010538    0.160244  2.126728               1.0   \n37            0.065764  0.010538    0.139862  2.126728               1.0   \n52            0.058325  0.014533    0.128940  2.210731               1.0   \n53            0.112711  0.014533    0.249174  2.210731               1.0   \n35            0.065764  0.011860    0.197723  3.006544               1.0   \n34            0.059984  0.011860    0.180345  3.006544               1.0   \n\n    leverage  conviction  zhangs_metric   jaccard  certainty  kulczynski  \n27  0.001209    1.006827       0.063420  0.082324   0.006781    0.165196  \n26  0.001209    1.013607       0.057114  0.082324   0.013424    0.165196  \n23  0.001152    1.006435       0.066043  0.077429   0.006394    0.160408  \n22  0.001152    1.014209       0.058829  0.077429   0.014010    0.160408  \n19  0.001486    1.007930       0.137360  0.054729   0.007867    0.146546  \n18  0.001486    1.031996       0.116763  0.054729   0.031004    0.146546  \n29  0.001631    1.008697       0.152710  0.054346   0.008622    0.147697  \n28  0.001631    1.036216       0.129594  0.054346   0.034950    0.147697  \n8   0.001853    1.039326       0.174352  0.054100   0.037838    0.131568  \n9   0.001853    1.012335       0.195794  0.054100   0.012184    0.131568  \n40  0.001762    1.017197       0.193647  0.057673   0.016906    0.113538  \n41  0.001762    1.027068       0.185822  0.057673   0.026354    0.113538  \n0   0.004888    1.060026       0.253239  0.088562   0.056627    0.171107  \n1   0.004888    1.034911       0.270932  0.088562   0.033734    0.171107  \n17  0.004388    1.023934       0.311971  0.070665   0.023375    0.177632  \n16  0.004388    1.091111       0.266832  0.070665   0.083503    0.177632  \n10  0.002683    1.071191       0.269474  0.052506   0.066460    0.141004  \n11  0.002683    1.017760       0.305913  0.052506   0.017450    0.141004  \n45  0.004664    1.053805       0.319605  0.081584   0.051058    0.151170  \n44  0.004664    1.048358       0.323122  0.081584   0.046127    0.151170  \n32  0.005379    1.123754       0.324384  0.072261   0.110126    0.188413  \n33  0.005379    1.029347       0.381143  0.072261   0.028510    0.188413  \n7   0.008257    1.061136       0.372140  0.106803   0.057614    0.199309  \n6   0.008257    1.095739       0.351666  0.106803   0.087374    0.199309  \n31  0.003405    1.017883       0.404506  0.046636   0.017568    0.174666  \n30  0.003405    1.136493       0.335115  0.046636   0.120100    0.174666  \n21  0.007605    1.042677       0.418423  0.089709   0.040930    0.207530  \n20  0.007605    1.144568       0.361591  0.089709   0.126308    0.207530  \n54  0.003546    1.034569       0.394547  0.062921   0.033414    0.131648  \n55  0.003546    1.073449       0.371794  0.062921   0.068423    0.131648  \n42  0.005486    1.062232       0.413622  0.082838   0.058586    0.153656  \n43  0.005486    1.072618       0.407889  0.082838   0.067701    0.153656  \n13  0.005236    1.027922       0.487814  0.058834   0.027163    0.198070  \n12  0.005236    1.191377       0.406368  0.058834   0.160635    0.198070  \n51  0.007132    1.097666       0.452825  0.093220   0.088976    0.172637  \n50  0.007132    1.074762       0.464242  0.093220   0.069561    0.172637  \n38  0.005450    1.060733       0.460031  0.080000   0.057255    0.151785  \n39  0.005450    1.087707       0.446299  0.080000   0.080635    0.151785  \n15  0.005275    1.027936       0.544551  0.054386   0.027177    0.208027  \n14  0.005275    1.240249       0.450481  0.054386   0.193710    0.208027  \n2   0.011895    1.088087       0.535603  0.117524   0.080955    0.228590  \n3   0.011895    1.186294       0.493688  0.117524   0.157039    0.228590  \n4   0.007873    1.191874       0.483433  0.085377   0.160985    0.201787  \n5   0.007873    1.054584       0.542936  0.085377   0.051759    0.201787  \n24  0.006744    1.285576       0.487559  0.064028   0.222139    0.224997  \n25  0.006744    1.036147       0.586984  0.064028   0.034886    0.224997  \n48  0.005697    1.120298       0.551699  0.079639   0.107380    0.154704  \n49  0.005697    1.071777       0.571115  0.079639   0.066970    0.154704  \n46  0.005394    1.052633       0.593909  0.070378   0.050002    0.164542  \n47  0.005394    1.164840       0.550621  0.070378   0.141513    0.164542  \n36  0.005583    1.101097       0.567088  0.080708   0.091815    0.150053  \n37  0.005583    1.086147       0.572966  0.080708   0.079314    0.150053  \n52  0.007959    1.081069       0.617230  0.092861   0.074989    0.189057  \n53  0.007959    1.181751       0.581582  0.092861   0.153798    0.189057  \n35  0.007915    1.164480       0.709980  0.104139   0.141248    0.189034  \n34  0.007915    1.146843       0.714372  0.104139   0.128041    0.189034  ",
      "text/html": "<div>\n<style scoped>\n    .dataframe tbody tr th:only-of-type {\n        vertical-align: middle;\n    }\n\n    .dataframe tbody tr th {\n        vertical-align: top;\n    }\n\n    .dataframe thead th {\n        text-align: right;\n    }\n</style>\n<table border=\"1\" class=\"dataframe\">\n  <thead>\n    <tr style=\"text-align: right;\">\n      <th></th>\n      <th>antecedents</th>\n      <th>consequents</th>\n      <th>antecedent support</th>\n      <th>consequent support</th>\n      <th>support</th>\n      <th>confidence</th>\n      <th>lift</th>\n      <th>representativity</th>\n      <th>leverage</th>\n      <th>conviction</th>\n      <th>zhangs_metric</th>\n      <th>jaccard</th>\n      <th>certainty</th>\n      <th>kulczynski</th>\n    </tr>\n  </thead>\n  <tbody>\n    <tr>\n      <th>27</th>\n      <td>(Banana)</td>\n      <td>(Organic Strawberries)</td>\n      <td>0.200938</td>\n      <td>0.112711</td>\n      <td>0.023857</td>\n      <td>0.118728</td>\n      <td>1.053382</td>\n      <td>1.0</td>\n      <td>0.001209</td>\n      <td>1.006827</td>\n      <td>0.063420</td>\n      <td>0.082324</td>\n      <td>0.006781</td>\n      <td>0.165196</td>\n    </tr>\n    <tr>\n      <th>26</th>\n      <td>(Organic Strawberries)</td>\n      <td>(Banana)</td>\n      <td>0.112711</td>\n      <td>0.200938</td>\n      <td>0.023857</td>\n      <td>0.211665</td>\n      <td>1.053382</td>\n      <td>1.0</td>\n      <td>0.001209</td>\n      <td>1.013607</td>\n      <td>0.057114</td>\n      <td>0.082324</td>\n      <td>0.013424</td>\n      <td>0.165196</td>\n    </tr>\n    <tr>\n      <th>23</th>\n      <td>(Banana)</td>\n      <td>(Organic Baby Spinach)</td>\n      <td>0.200938</td>\n      <td>0.102948</td>\n      <td>0.021839</td>\n      <td>0.108683</td>\n      <td>1.055712</td>\n      <td>1.0</td>\n      <td>0.001152</td>\n      <td>1.006435</td>\n      <td>0.066043</td>\n      <td>0.077429</td>\n      <td>0.006394</td>\n      <td>0.160408</td>\n    </tr>\n    <tr>\n      <th>22</th>\n      <td>(Organic Baby Spinach)</td>\n      <td>(Banana)</td>\n      <td>0.102948</td>\n      <td>0.200938</td>\n      <td>0.021839</td>\n      <td>0.212133</td>\n      <td>1.055712</td>\n      <td>1.0</td>\n      <td>0.001152</td>\n      <td>1.014209</td>\n      <td>0.058829</td>\n      <td>0.077429</td>\n      <td>0.014010</td>\n      <td>0.160408</td>\n    </tr>\n    <tr>\n      <th>19</th>\n      <td>(Banana)</td>\n      <td>(Limes)</td>\n      <td>0.200938</td>\n      <td>0.059984</td>\n      <td>0.013539</td>\n      <td>0.067380</td>\n      <td>1.123292</td>\n      <td>1.0</td>\n      <td>0.001486</td>\n      <td>1.007930</td>\n      <td>0.137360</td>\n      <td>0.054729</td>\n      <td>0.007867</td>\n      <td>0.146546</td>\n    </tr>\n    <tr>\n      <th>18</th>\n      <td>(Limes)</td>\n      <td>(Banana)</td>\n      <td>0.059984</td>\n      <td>0.200938</td>\n      <td>0.013539</td>\n      <td>0.225713</td>\n      <td>1.123292</td>\n      <td>1.0</td>\n      <td>0.001486</td>\n      <td>1.031996</td>\n      <td>0.116763</td>\n      <td>0.054729</td>\n      <td>0.031004</td>\n      <td>0.146546</td>\n    </tr>\n    <tr>\n      <th>29</th>\n      <td>(Banana)</td>\n      <td>(Organic Whole Milk)</td>\n      <td>0.200938</td>\n      <td>0.058411</td>\n      <td>0.013368</td>\n      <td>0.066529</td>\n      <td>1.138984</td>\n      <td>1.0</td>\n      <td>0.001631</td>\n      <td>1.008697</td>\n      <td>0.152710</td>\n      <td>0.054346</td>\n      <td>0.008622</td>\n      <td>0.147697</td>\n    </tr>\n    <tr>\n      <th>28</th>\n      <td>(Organic Whole Milk)</td>\n      <td>(Banana)</td>\n      <td>0.058411</td>\n      <td>0.200938</td>\n      <td>0.013368</td>\n      <td>0.228866</td>\n      <td>1.138984</td>\n      <td>1.0</td>\n      <td>0.001631</td>\n      <td>1.036216</td>\n      <td>0.129594</td>\n      <td>0.054346</td>\n      <td>0.034950</td>\n      <td>0.147697</td>\n    </tr>\n    <tr>\n      <th>8</th>\n      <td>(Organic Whole Milk)</td>\n      <td>(Bag of Organic Bananas)</td>\n      <td>0.058411</td>\n      <td>0.161527</td>\n      <td>0.011288</td>\n      <td>0.193253</td>\n      <td>1.196413</td>\n      <td>1.0</td>\n      <td>0.001853</td>\n      <td>1.039326</td>\n      <td>0.174352</td>\n      <td>0.054100</td>\n      <td>0.037838</td>\n      <td>0.131568</td>\n    </tr>\n    <tr>\n      <th>9</th>\n      <td>(Bag of Organic Bananas)</td>\n      <td>(Organic Whole Milk)</td>\n      <td>0.161527</td>\n      <td>0.058411</td>\n      <td>0.011288</td>\n      <td>0.069883</td>\n      <td>1.196413</td>\n      <td>1.0</td>\n      <td>0.001853</td>\n      <td>1.012335</td>\n      <td>0.195794</td>\n      <td>0.054100</td>\n      <td>0.012184</td>\n      <td>0.131568</td>\n    </tr>\n    <tr>\n      <th>40</th>\n      <td>(Organic Strawberries)</td>\n      <td>(Organic Avocado)</td>\n      <td>0.112711</td>\n      <td>0.075348</td>\n      <td>0.010254</td>\n      <td>0.090980</td>\n      <td>1.207468</td>\n      <td>1.0</td>\n      <td>0.001762</td>\n      <td>1.017197</td>\n      <td>0.193647</td>\n      <td>0.057673</td>\n      <td>0.016906</td>\n      <td>0.113538</td>\n    </tr>\n    <tr>\n      <th>41</th>\n      <td>(Organic Avocado)</td>\n      <td>(Organic Strawberries)</td>\n      <td>0.075348</td>\n      <td>0.112711</td>\n      <td>0.010254</td>\n      <td>0.136095</td>\n      <td>1.207468</td>\n      <td>1.0</td>\n      <td>0.001762</td>\n      <td>1.027068</td>\n      <td>0.185822</td>\n      <td>0.057673</td>\n      <td>0.026354</td>\n      <td>0.113538</td>\n    </tr>\n    <tr>\n      <th>0</th>\n      <td>(Organic Baby Spinach)</td>\n      <td>(Bag of Organic Bananas)</td>\n      <td>0.102948</td>\n      <td>0.161527</td>\n      <td>0.021517</td>\n      <td>0.209007</td>\n      <td>1.293944</td>\n      <td>1.0</td>\n      <td>0.004888</td>\n      <td>1.060026</td>\n      <td>0.253239</td>\n      <td>0.088562</td>\n      <td>0.056627</td>\n      <td>0.171107</td>\n    </tr>\n    <tr>\n      <th>1</th>\n      <td>(Bag of Organic Bananas)</td>\n      <td>(Organic Baby Spinach)</td>\n      <td>0.161527</td>\n      <td>0.102948</td>\n      <td>0.021517</td>\n      <td>0.133208</td>\n      <td>1.293944</td>\n      <td>1.0</td>\n      <td>0.004888</td>\n      <td>1.034911</td>\n      <td>0.270932</td>\n      <td>0.088562</td>\n      <td>0.033734</td>\n      <td>0.171107</td>\n    </tr>\n    <tr>\n      <th>17</th>\n      <td>(Banana)</td>\n      <td>(Large Lemon)</td>\n      <td>0.200938</td>\n      <td>0.065764</td>\n      <td>0.017603</td>\n      <td>0.087602</td>\n      <td>1.332062</td>\n      <td>1.0</td>\n      <td>0.004388</td>\n      <td>1.023934</td>\n      <td>0.311971</td>\n      <td>0.070665</td>\n      <td>0.023375</td>\n      <td>0.177632</td>\n    </tr>\n    <tr>\n      <th>16</th>\n      <td>(Large Lemon)</td>\n      <td>(Banana)</td>\n      <td>0.065764</td>\n      <td>0.200938</td>\n      <td>0.017603</td>\n      <td>0.267663</td>\n      <td>1.332062</td>\n      <td>1.0</td>\n      <td>0.004388</td>\n      <td>1.091111</td>\n      <td>0.266832</td>\n      <td>0.070665</td>\n      <td>0.083503</td>\n      <td>0.177632</td>\n    </tr>\n    <tr>\n      <th>10</th>\n      <td>(Organic Yellow Onion)</td>\n      <td>(Bag of Organic Bananas)</td>\n      <td>0.048146</td>\n      <td>0.161527</td>\n      <td>0.010460</td>\n      <td>0.217252</td>\n      <td>1.344989</td>\n      <td>1.0</td>\n      <td>0.002683</td>\n      <td>1.071191</td>\n      <td>0.269474</td>\n      <td>0.052506</td>\n      <td>0.066460</td>\n      <td>0.141004</td>\n    </tr>\n    <tr>\n      <th>11</th>\n      <td>(Bag of Organic Bananas)</td>\n      <td>(Organic Yellow Onion)</td>\n      <td>0.161527</td>\n      <td>0.048146</td>\n      <td>0.010460</td>\n      <td>0.064756</td>\n      <td>1.344989</td>\n      <td>1.0</td>\n      <td>0.002683</td>\n      <td>1.017760</td>\n      <td>0.305913</td>\n      <td>0.052506</td>\n      <td>0.017450</td>\n      <td>0.141004</td>\n    </tr>\n    <tr>\n      <th>45</th>\n      <td>(Organic Baby Spinach)</td>\n      <td>(Organic Strawberries)</td>\n      <td>0.102948</td>\n      <td>0.112711</td>\n      <td>0.016267</td>\n      <td>0.158014</td>\n      <td>1.401939</td>\n      <td>1.0</td>\n      <td>0.004664</td>\n      <td>1.053805</td>\n      <td>0.319605</td>\n      <td>0.081584</td>\n      <td>0.051058</td>\n      <td>0.151170</td>\n    </tr>\n    <tr>\n      <th>44</th>\n      <td>(Organic Strawberries)</td>\n      <td>(Organic Baby Spinach)</td>\n      <td>0.112711</td>\n      <td>0.102948</td>\n      <td>0.016267</td>\n      <td>0.144326</td>\n      <td>1.401939</td>\n      <td>1.0</td>\n      <td>0.004664</td>\n      <td>1.048358</td>\n      <td>0.323122</td>\n      <td>0.081584</td>\n      <td>0.046127</td>\n      <td>0.151170</td>\n    </tr>\n    <tr>\n      <th>32</th>\n      <td>(Strawberries)</td>\n      <td>(Banana)</td>\n      <td>0.061123</td>\n      <td>0.200938</td>\n      <td>0.017661</td>\n      <td>0.288936</td>\n      <td>1.437931</td>\n      <td>1.0</td>\n      <td>0.005379</td>\n      <td>1.123754</td>\n      <td>0.324384</td>\n      <td>0.072261</td>\n      <td>0.110126</td>\n      <td>0.188413</td>\n    </tr>\n    <tr>\n      <th>33</th>\n      <td>(Banana)</td>\n      <td>(Strawberries)</td>\n      <td>0.200938</td>\n      <td>0.061123</td>\n      <td>0.017661</td>\n      <td>0.087891</td>\n      <td>1.437931</td>\n      <td>1.0</td>\n      <td>0.005379</td>\n      <td>1.029347</td>\n      <td>0.381143</td>\n      <td>0.072261</td>\n      <td>0.028510</td>\n      <td>0.188413</td>\n    </tr>\n    <tr>\n      <th>7</th>\n      <td>(Bag of Organic Bananas)</td>\n      <td>(Organic Strawberries)</td>\n      <td>0.161527</td>\n      <td>0.112711</td>\n      <td>0.026463</td>\n      <td>0.163832</td>\n      <td>1.453551</td>\n      <td>1.0</td>\n      <td>0.008257</td>\n      <td>1.061136</td>\n      <td>0.372140</td>\n      <td>0.106803</td>\n      <td>0.057614</td>\n      <td>0.199309</td>\n    </tr>\n    <tr>\n      <th>6</th>\n      <td>(Organic Strawberries)</td>\n      <td>(Bag of Organic Bananas)</td>\n      <td>0.112711</td>\n      <td>0.161527</td>\n      <td>0.026463</td>\n      <td>0.234787</td>\n      <td>1.453551</td>\n      <td>1.0</td>\n      <td>0.008257</td>\n      <td>1.095739</td>\n      <td>0.351666</td>\n      <td>0.106803</td>\n      <td>0.087374</td>\n      <td>0.199309</td>\n    </tr>\n    <tr>\n      <th>31</th>\n      <td>(Banana)</td>\n      <td>(Seedless Red Grapes)</td>\n      <td>0.200938</td>\n      <td>0.035480</td>\n      <td>0.010534</td>\n      <td>0.052425</td>\n      <td>1.477596</td>\n      <td>1.0</td>\n      <td>0.003405</td>\n      <td>1.017883</td>\n      <td>0.404506</td>\n      <td>0.046636</td>\n      <td>0.017568</td>\n      <td>0.174666</td>\n    </tr>\n    <tr>\n      <th>30</th>\n      <td>(Seedless Red Grapes)</td>\n      <td>(Banana)</td>\n      <td>0.035480</td>\n      <td>0.200938</td>\n      <td>0.010534</td>\n      <td>0.296906</td>\n      <td>1.477596</td>\n      <td>1.0</td>\n      <td>0.003405</td>\n      <td>1.136493</td>\n      <td>0.335115</td>\n      <td>0.046636</td>\n      <td>0.120100</td>\n      <td>0.174666</td>\n    </tr>\n    <tr>\n      <th>21</th>\n      <td>(Banana)</td>\n      <td>(Organic Avocado)</td>\n      <td>0.200938</td>\n      <td>0.075348</td>\n      <td>0.022745</td>\n      <td>0.113194</td>\n      <td>1.502282</td>\n      <td>1.0</td>\n      <td>0.007605</td>\n      <td>1.042677</td>\n      <td>0.418423</td>\n      <td>0.089709</td>\n      <td>0.040930</td>\n      <td>0.207530</td>\n    </tr>\n    <tr>\n      <th>20</th>\n      <td>(Organic Avocado)</td>\n      <td>(Banana)</td>\n      <td>0.075348</td>\n      <td>0.200938</td>\n      <td>0.022745</td>\n      <td>0.301866</td>\n      <td>1.502282</td>\n      <td>1.0</td>\n      <td>0.007605</td>\n      <td>1.144568</td>\n      <td>0.361591</td>\n      <td>0.089709</td>\n      <td>0.126308</td>\n      <td>0.207530</td>\n    </tr>\n    <tr>\n      <th>54</th>\n      <td>(Organic Strawberries)</td>\n      <td>(Organic Whole Milk)</td>\n      <td>0.112711</td>\n      <td>0.058411</td>\n      <td>0.010130</td>\n      <td>0.089873</td>\n      <td>1.538645</td>\n      <td>1.0</td>\n      <td>0.003546</td>\n      <td>1.034569</td>\n      <td>0.394547</td>\n      <td>0.062921</td>\n      <td>0.033414</td>\n      <td>0.131648</td>\n    </tr>\n    <tr>\n      <th>55</th>\n      <td>(Organic Whole Milk)</td>\n      <td>(Organic Strawberries)</td>\n      <td>0.058411</td>\n      <td>0.112711</td>\n      <td>0.010130</td>\n      <td>0.173423</td>\n      <td>1.538645</td>\n      <td>1.0</td>\n      <td>0.003546</td>\n      <td>1.073449</td>\n      <td>0.371794</td>\n      <td>0.062921</td>\n      <td>0.068423</td>\n      <td>0.131648</td>\n    </tr>\n    <tr>\n      <th>42</th>\n      <td>(Organic Baby Spinach)</td>\n      <td>(Organic Hass Avocado)</td>\n      <td>0.102948</td>\n      <td>0.090339</td>\n      <td>0.014787</td>\n      <td>0.143632</td>\n      <td>1.589929</td>\n      <td>1.0</td>\n      <td>0.005486</td>\n      <td>1.062232</td>\n      <td>0.413622</td>\n      <td>0.082838</td>\n      <td>0.058586</td>\n      <td>0.153656</td>\n    </tr>\n    <tr>\n      <th>43</th>\n      <td>(Organic Hass Avocado)</td>\n      <td>(Organic Baby Spinach)</td>\n      <td>0.090339</td>\n      <td>0.102948</td>\n      <td>0.014787</td>\n      <td>0.163679</td>\n      <td>1.589929</td>\n      <td>1.0</td>\n      <td>0.005486</td>\n      <td>1.072618</td>\n      <td>0.407889</td>\n      <td>0.082838</td>\n      <td>0.067701</td>\n      <td>0.153656</td>\n    </tr>\n    <tr>\n      <th>13</th>\n      <td>(Banana)</td>\n      <td>(Cucumber Kirby)</td>\n      <td>0.200938</td>\n      <td>0.040789</td>\n      <td>0.013432</td>\n      <td>0.066844</td>\n      <td>1.638788</td>\n      <td>1.0</td>\n      <td>0.005236</td>\n      <td>1.027922</td>\n      <td>0.487814</td>\n      <td>0.058834</td>\n      <td>0.027163</td>\n      <td>0.198070</td>\n    </tr>\n    <tr>\n      <th>12</th>\n      <td>(Cucumber Kirby)</td>\n      <td>(Banana)</td>\n      <td>0.040789</td>\n      <td>0.200938</td>\n      <td>0.013432</td>\n      <td>0.329296</td>\n      <td>1.638788</td>\n      <td>1.0</td>\n      <td>0.005236</td>\n      <td>1.191377</td>\n      <td>0.406368</td>\n      <td>0.058834</td>\n      <td>0.160635</td>\n      <td>0.198070</td>\n    </tr>\n    <tr>\n      <th>51</th>\n      <td>(Organic Hass Avocado)</td>\n      <td>(Organic Strawberries)</td>\n      <td>0.090339</td>\n      <td>0.112711</td>\n      <td>0.017314</td>\n      <td>0.191659</td>\n      <td>1.700440</td>\n      <td>1.0</td>\n      <td>0.007132</td>\n      <td>1.097666</td>\n      <td>0.452825</td>\n      <td>0.093220</td>\n      <td>0.088976</td>\n      <td>0.172637</td>\n    </tr>\n    <tr>\n      <th>50</th>\n      <td>(Organic Strawberries)</td>\n      <td>(Organic Hass Avocado)</td>\n      <td>0.112711</td>\n      <td>0.090339</td>\n      <td>0.017314</td>\n      <td>0.153616</td>\n      <td>1.700440</td>\n      <td>1.0</td>\n      <td>0.007132</td>\n      <td>1.074762</td>\n      <td>0.464242</td>\n      <td>0.093220</td>\n      <td>0.069561</td>\n      <td>0.172637</td>\n    </tr>\n    <tr>\n      <th>38</th>\n      <td>(Organic Baby Spinach)</td>\n      <td>(Organic Avocado)</td>\n      <td>0.102948</td>\n      <td>0.075348</td>\n      <td>0.013207</td>\n      <td>0.128289</td>\n      <td>1.702625</td>\n      <td>1.0</td>\n      <td>0.005450</td>\n      <td>1.060733</td>\n      <td>0.460031</td>\n      <td>0.080000</td>\n      <td>0.057255</td>\n      <td>0.151785</td>\n    </tr>\n    <tr>\n      <th>39</th>\n      <td>(Organic Avocado)</td>\n      <td>(Organic Baby Spinach)</td>\n      <td>0.075348</td>\n      <td>0.102948</td>\n      <td>0.013207</td>\n      <td>0.175281</td>\n      <td>1.702625</td>\n      <td>1.0</td>\n      <td>0.005450</td>\n      <td>1.087707</td>\n      <td>0.446299</td>\n      <td>0.080000</td>\n      <td>0.080635</td>\n      <td>0.151785</td>\n    </tr>\n    <tr>\n      <th>15</th>\n      <td>(Banana)</td>\n      <td>(Honeycrisp Apple)</td>\n      <td>0.200938</td>\n      <td>0.034078</td>\n      <td>0.012122</td>\n      <td>0.060329</td>\n      <td>1.770317</td>\n      <td>1.0</td>\n      <td>0.005275</td>\n      <td>1.027936</td>\n      <td>0.544551</td>\n      <td>0.054386</td>\n      <td>0.027177</td>\n      <td>0.208027</td>\n    </tr>\n    <tr>\n      <th>14</th>\n      <td>(Honeycrisp Apple)</td>\n      <td>(Banana)</td>\n      <td>0.034078</td>\n      <td>0.200938</td>\n      <td>0.012122</td>\n      <td>0.355725</td>\n      <td>1.770317</td>\n      <td>1.0</td>\n      <td>0.005275</td>\n      <td>1.240249</td>\n      <td>0.450481</td>\n      <td>0.054386</td>\n      <td>0.193710</td>\n      <td>0.208027</td>\n    </tr>\n    <tr>\n      <th>2</th>\n      <td>(Bag of Organic Bananas)</td>\n      <td>(Organic Hass Avocado)</td>\n      <td>0.161527</td>\n      <td>0.090339</td>\n      <td>0.026487</td>\n      <td>0.163981</td>\n      <td>1.815175</td>\n      <td>1.0</td>\n      <td>0.011895</td>\n      <td>1.088087</td>\n      <td>0.535603</td>\n      <td>0.117524</td>\n      <td>0.080955</td>\n      <td>0.228590</td>\n    </tr>\n    <tr>\n      <th>3</th>\n      <td>(Organic Hass Avocado)</td>\n      <td>(Bag of Organic Bananas)</td>\n      <td>0.090339</td>\n      <td>0.161527</td>\n      <td>0.026487</td>\n      <td>0.293199</td>\n      <td>1.815175</td>\n      <td>1.0</td>\n      <td>0.011895</td>\n      <td>1.186294</td>\n      <td>0.493688</td>\n      <td>0.117524</td>\n      <td>0.157039</td>\n      <td>0.228590</td>\n    </tr>\n    <tr>\n      <th>4</th>\n      <td>(Organic Raspberries)</td>\n      <td>(Bag of Organic Bananas)</td>\n      <td>0.058325</td>\n      <td>0.161527</td>\n      <td>0.017294</td>\n      <td>0.296508</td>\n      <td>1.835662</td>\n      <td>1.0</td>\n      <td>0.007873</td>\n      <td>1.191874</td>\n      <td>0.483433</td>\n      <td>0.085377</td>\n      <td>0.160985</td>\n      <td>0.201787</td>\n    </tr>\n    <tr>\n      <th>5</th>\n      <td>(Bag of Organic Bananas)</td>\n      <td>(Organic Raspberries)</td>\n      <td>0.161527</td>\n      <td>0.058325</td>\n      <td>0.017294</td>\n      <td>0.107065</td>\n      <td>1.835662</td>\n      <td>1.0</td>\n      <td>0.007873</td>\n      <td>1.054584</td>\n      <td>0.542936</td>\n      <td>0.085377</td>\n      <td>0.051759</td>\n      <td>0.201787</td>\n    </tr>\n    <tr>\n      <th>24</th>\n      <td>(Organic Fuji Apple)</td>\n      <td>(Banana)</td>\n      <td>0.037992</td>\n      <td>0.200938</td>\n      <td>0.014378</td>\n      <td>0.378441</td>\n      <td>1.883367</td>\n      <td>1.0</td>\n      <td>0.006744</td>\n      <td>1.285576</td>\n      <td>0.487559</td>\n      <td>0.064028</td>\n      <td>0.222139</td>\n      <td>0.224997</td>\n    </tr>\n    <tr>\n      <th>25</th>\n      <td>(Banana)</td>\n      <td>(Organic Fuji Apple)</td>\n      <td>0.200938</td>\n      <td>0.037992</td>\n      <td>0.014378</td>\n      <td>0.071552</td>\n      <td>1.883367</td>\n      <td>1.0</td>\n      <td>0.006744</td>\n      <td>1.036147</td>\n      <td>0.586984</td>\n      <td>0.064028</td>\n      <td>0.034886</td>\n      <td>0.224997</td>\n    </tr>\n    <tr>\n      <th>48</th>\n      <td>(Organic Raspberries)</td>\n      <td>(Organic Hass Avocado)</td>\n      <td>0.058325</td>\n      <td>0.090339</td>\n      <td>0.010966</td>\n      <td>0.188018</td>\n      <td>2.081257</td>\n      <td>1.0</td>\n      <td>0.005697</td>\n      <td>1.120298</td>\n      <td>0.551699</td>\n      <td>0.079639</td>\n      <td>0.107380</td>\n      <td>0.154704</td>\n    </tr>\n    <tr>\n      <th>49</th>\n      <td>(Organic Hass Avocado)</td>\n      <td>(Organic Raspberries)</td>\n      <td>0.090339</td>\n      <td>0.058325</td>\n      <td>0.010966</td>\n      <td>0.121389</td>\n      <td>2.081257</td>\n      <td>1.0</td>\n      <td>0.005697</td>\n      <td>1.071777</td>\n      <td>0.571115</td>\n      <td>0.079639</td>\n      <td>0.066970</td>\n      <td>0.154704</td>\n    </tr>\n    <tr>\n      <th>46</th>\n      <td>(Organic Strawberries)</td>\n      <td>(Organic Blueberries)</td>\n      <td>0.112711</td>\n      <td>0.042956</td>\n      <td>0.010235</td>\n      <td>0.090809</td>\n      <td>2.114024</td>\n      <td>1.0</td>\n      <td>0.005394</td>\n      <td>1.052633</td>\n      <td>0.593909</td>\n      <td>0.070378</td>\n      <td>0.050002</td>\n      <td>0.164542</td>\n    </tr>\n    <tr>\n      <th>47</th>\n      <td>(Organic Blueberries)</td>\n      <td>(Organic Strawberries)</td>\n      <td>0.042956</td>\n      <td>0.112711</td>\n      <td>0.010235</td>\n      <td>0.238274</td>\n      <td>2.114024</td>\n      <td>1.0</td>\n      <td>0.005394</td>\n      <td>1.164840</td>\n      <td>0.550621</td>\n      <td>0.070378</td>\n      <td>0.141513</td>\n      <td>0.164542</td>\n    </tr>\n    <tr>\n      <th>36</th>\n      <td>(Large Lemon)</td>\n      <td>(Organic Avocado)</td>\n      <td>0.065764</td>\n      <td>0.075348</td>\n      <td>0.010538</td>\n      <td>0.160244</td>\n      <td>2.126728</td>\n      <td>1.0</td>\n      <td>0.005583</td>\n      <td>1.101097</td>\n      <td>0.567088</td>\n      <td>0.080708</td>\n      <td>0.091815</td>\n      <td>0.150053</td>\n    </tr>\n    <tr>\n      <th>37</th>\n      <td>(Organic Avocado)</td>\n      <td>(Large Lemon)</td>\n      <td>0.075348</td>\n      <td>0.065764</td>\n      <td>0.010538</td>\n      <td>0.139862</td>\n      <td>2.126728</td>\n      <td>1.0</td>\n      <td>0.005583</td>\n      <td>1.086147</td>\n      <td>0.572966</td>\n      <td>0.080708</td>\n      <td>0.079314</td>\n      <td>0.150053</td>\n    </tr>\n    <tr>\n      <th>52</th>\n      <td>(Organic Strawberries)</td>\n      <td>(Organic Raspberries)</td>\n      <td>0.112711</td>\n      <td>0.058325</td>\n      <td>0.014533</td>\n      <td>0.128940</td>\n      <td>2.210731</td>\n      <td>1.0</td>\n      <td>0.007959</td>\n      <td>1.081069</td>\n      <td>0.617230</td>\n      <td>0.092861</td>\n      <td>0.074989</td>\n      <td>0.189057</td>\n    </tr>\n    <tr>\n      <th>53</th>\n      <td>(Organic Raspberries)</td>\n      <td>(Organic Strawberries)</td>\n      <td>0.058325</td>\n      <td>0.112711</td>\n      <td>0.014533</td>\n      <td>0.249174</td>\n      <td>2.210731</td>\n      <td>1.0</td>\n      <td>0.007959</td>\n      <td>1.181751</td>\n      <td>0.581582</td>\n      <td>0.092861</td>\n      <td>0.153798</td>\n      <td>0.189057</td>\n    </tr>\n    <tr>\n      <th>35</th>\n      <td>(Limes)</td>\n      <td>(Large Lemon)</td>\n      <td>0.059984</td>\n      <td>0.065764</td>\n      <td>0.011860</td>\n      <td>0.197723</td>\n      <td>3.006544</td>\n      <td>1.0</td>\n      <td>0.007915</td>\n      <td>1.164480</td>\n      <td>0.709980</td>\n      <td>0.104139</td>\n      <td>0.141248</td>\n      <td>0.189034</td>\n    </tr>\n    <tr>\n      <th>34</th>\n      <td>(Large Lemon)</td>\n      <td>(Limes)</td>\n      <td>0.065764</td>\n      <td>0.059984</td>\n      <td>0.011860</td>\n      <td>0.180345</td>\n      <td>3.006544</td>\n      <td>1.0</td>\n      <td>0.007915</td>\n      <td>1.146843</td>\n      <td>0.714372</td>\n      <td>0.104139</td>\n      <td>0.128041</td>\n      <td>0.189034</td>\n    </tr>\n  </tbody>\n</table>\n</div>"
     },
     "execution_count": 15,
     "metadata": {},
     "output_type": "execute_result"
    }
   ],
   "source": [
    "rules = association_rules(frequent_items, metric=\"lift\", min_threshold=1)\n",
    "rules.sort_values('lift', ascending=True)"
   ],
   "metadata": {
    "collapsed": false,
    "ExecuteTime": {
     "end_time": "2025-04-02T18:22:17.737563600Z",
     "start_time": "2025-04-02T18:22:17.397407500Z"
    }
   },
   "id": "e0c96f2dd23a8fe4"
  }
 ],
 "metadata": {
  "kernelspec": {
   "display_name": "Python 3",
   "language": "python",
   "name": "python3"
  },
  "language_info": {
   "codemirror_mode": {
    "name": "ipython",
    "version": 2
   },
   "file_extension": ".py",
   "mimetype": "text/x-python",
   "name": "python",
   "nbconvert_exporter": "python",
   "pygments_lexer": "ipython2",
   "version": "2.7.6"
  }
 },
 "nbformat": 4,
 "nbformat_minor": 5
}
