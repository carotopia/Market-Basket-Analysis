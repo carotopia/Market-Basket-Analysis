{
 "cells": [
  {
   "cell_type": "markdown",
   "source": [
    "# Data Analysis and Description"
   ],
   "metadata": {
    "collapsed": false
   },
   "id": "d33366fac7afb1c7"
  },
  {
   "cell_type": "code",
   "execution_count": 189,
   "outputs": [],
   "source": [
    "import numpy as np\n",
    "import pandas as pd\n",
    "import matplotlib.pyplot as plt\n",
    "import seaborn as sns\n",
    "import gc\n",
    "pd.options.mode.chained_assignment = None"
   ],
   "metadata": {
    "collapsed": false,
    "ExecuteTime": {
     "end_time": "2025-04-02T04:23:51.076721Z",
     "start_time": "2025-04-02T04:23:50.969283Z"
    }
   },
   "id": "4c6fc2bfe182c8fd"
  },
  {
   "cell_type": "code",
   "execution_count": 190,
   "outputs": [],
   "source": [
    "data = '/Users/carolinalara/PycharmProjects/RetoEntrega0/Data/'"
   ],
   "metadata": {
    "collapsed": false,
    "ExecuteTime": {
     "end_time": "2025-04-02T04:23:51.098845Z",
     "start_time": "2025-04-02T04:23:50.971495Z"
    }
   },
   "id": "ee1642bfd8ff6f3c"
  },
  {
   "cell_type": "code",
   "execution_count": 191,
   "outputs": [],
   "source": [
    "orders = pd.read_csv(data+'orders.csv')\n",
    "aisle = pd.read_csv(data+'aisles.csv')\n",
    "products = pd.read_csv(data+'products.csv')\n",
    "order_train = pd.read_csv(data+'order_products__train.csv')\n",
    "order_prior = pd.read_csv(data+'order_products__prior.csv')\n",
    "departments = pd.read_csv(data+'departments.csv')\n"
   ],
   "metadata": {
    "collapsed": false,
    "ExecuteTime": {
     "end_time": "2025-04-02T04:23:55.884259Z",
     "start_time": "2025-04-02T04:23:50.989102Z"
    }
   },
   "id": "77aa8be32c276c52"
  },
  {
   "cell_type": "code",
   "execution_count": 192,
   "outputs": [],
   "source": [
    "# Aisles"
   ],
   "metadata": {
    "collapsed": false,
    "ExecuteTime": {
     "end_time": "2025-04-02T04:23:55.888123Z",
     "start_time": "2025-04-02T04:23:55.885558Z"
    }
   },
   "id": "6882a0b27273238"
  },
  {
   "cell_type": "code",
   "execution_count": 193,
   "outputs": [
    {
     "data": {
      "text/plain": "   aisle_id                       aisle\n0         1       prepared soups salads\n1         2           specialty cheeses\n2         3         energy granola bars\n3         4               instant foods\n4         5  marinades meat preparation",
      "text/html": "<div>\n<style scoped>\n    .dataframe tbody tr th:only-of-type {\n        vertical-align: middle;\n    }\n\n    .dataframe tbody tr th {\n        vertical-align: top;\n    }\n\n    .dataframe thead th {\n        text-align: right;\n    }\n</style>\n<table border=\"1\" class=\"dataframe\">\n  <thead>\n    <tr style=\"text-align: right;\">\n      <th></th>\n      <th>aisle_id</th>\n      <th>aisle</th>\n    </tr>\n  </thead>\n  <tbody>\n    <tr>\n      <th>0</th>\n      <td>1</td>\n      <td>prepared soups salads</td>\n    </tr>\n    <tr>\n      <th>1</th>\n      <td>2</td>\n      <td>specialty cheeses</td>\n    </tr>\n    <tr>\n      <th>2</th>\n      <td>3</td>\n      <td>energy granola bars</td>\n    </tr>\n    <tr>\n      <th>3</th>\n      <td>4</td>\n      <td>instant foods</td>\n    </tr>\n    <tr>\n      <th>4</th>\n      <td>5</td>\n      <td>marinades meat preparation</td>\n    </tr>\n  </tbody>\n</table>\n</div>"
     },
     "execution_count": 193,
     "metadata": {},
     "output_type": "execute_result"
    }
   ],
   "source": [
    "aisle.head()"
   ],
   "metadata": {
    "collapsed": false,
    "ExecuteTime": {
     "end_time": "2025-04-02T04:23:55.904382Z",
     "start_time": "2025-04-02T04:23:55.902027Z"
    }
   },
   "id": "bc80fec13fb37a59"
  },
  {
   "cell_type": "code",
   "execution_count": 194,
   "outputs": [
    {
     "data": {
      "text/plain": "     aisle_id                       aisle\n129       130    hot cereal pancake mixes\n130       131                   dry pasta\n131       132                      beauty\n132       133  muscles joints pain relief\n133       134  specialty wines champagnes",
      "text/html": "<div>\n<style scoped>\n    .dataframe tbody tr th:only-of-type {\n        vertical-align: middle;\n    }\n\n    .dataframe tbody tr th {\n        vertical-align: top;\n    }\n\n    .dataframe thead th {\n        text-align: right;\n    }\n</style>\n<table border=\"1\" class=\"dataframe\">\n  <thead>\n    <tr style=\"text-align: right;\">\n      <th></th>\n      <th>aisle_id</th>\n      <th>aisle</th>\n    </tr>\n  </thead>\n  <tbody>\n    <tr>\n      <th>129</th>\n      <td>130</td>\n      <td>hot cereal pancake mixes</td>\n    </tr>\n    <tr>\n      <th>130</th>\n      <td>131</td>\n      <td>dry pasta</td>\n    </tr>\n    <tr>\n      <th>131</th>\n      <td>132</td>\n      <td>beauty</td>\n    </tr>\n    <tr>\n      <th>132</th>\n      <td>133</td>\n      <td>muscles joints pain relief</td>\n    </tr>\n    <tr>\n      <th>133</th>\n      <td>134</td>\n      <td>specialty wines champagnes</td>\n    </tr>\n  </tbody>\n</table>\n</div>"
     },
     "execution_count": 194,
     "metadata": {},
     "output_type": "execute_result"
    }
   ],
   "source": [
    "aisle.tail()"
   ],
   "metadata": {
    "collapsed": false,
    "ExecuteTime": {
     "end_time": "2025-04-02T04:23:55.919549Z",
     "start_time": "2025-04-02T04:23:55.905447Z"
    }
   },
   "id": "94e8f27cf7ceb6fd"
  },
  {
   "cell_type": "code",
   "execution_count": 195,
   "outputs": [
    {
     "name": "stdout",
     "output_type": "stream",
     "text": [
      "Number of unique aisles: 134\n"
     ]
    }
   ],
   "source": [
    "num_aisle = aisle[\"aisle_id\"].nunique()\n",
    "print(f\"Number of unique aisles: {num_aisle}\")"
   ],
   "metadata": {
    "collapsed": false,
    "ExecuteTime": {
     "end_time": "2025-04-02T04:23:55.920423Z",
     "start_time": "2025-04-02T04:23:55.909158Z"
    }
   },
   "id": "ab4d934bb993c18d"
  },
  {
   "cell_type": "code",
   "execution_count": 196,
   "outputs": [
    {
     "data": {
      "text/plain": "array(['prepared soups salads', 'specialty cheeses',\n       'energy granola bars', 'instant foods',\n       'marinades meat preparation', 'other', 'packaged meat',\n       'bakery desserts', 'pasta sauce', 'kitchen supplies',\n       'cold flu allergy', 'fresh pasta', 'prepared meals',\n       'tofu meat alternatives', 'packaged seafood', 'fresh herbs',\n       'baking ingredients', 'bulk dried fruits vegetables',\n       'oils vinegars', 'oral hygiene', 'packaged cheese', 'hair care',\n       'popcorn jerky', 'fresh fruits', 'soap', 'coffee', 'beers coolers',\n       'red wines', 'honeys syrups nectars', 'latino foods',\n       'refrigerated', 'packaged produce', 'kosher foods',\n       'frozen meat seafood', 'poultry counter', 'butter',\n       'ice cream ice', 'frozen meals', 'seafood counter',\n       'dog food care', 'cat food care', 'frozen vegan vegetarian',\n       'buns rolls', 'eye ear care', 'candy chocolate', 'mint gum',\n       'vitamins supplements', 'breakfast bars pastries',\n       'packaged poultry', 'fruit vegetable snacks',\n       'preserved dips spreads', 'frozen breakfast', 'cream',\n       'paper goods', 'shave needs', 'diapers wipes', 'granola',\n       'frozen breads doughs', 'canned meals beans', 'trash bags liners',\n       'cookies cakes', 'white wines', 'grains rice dried goods',\n       'energy sports drinks', 'protein meal replacements', 'asian foods',\n       'fresh dips tapenades', 'bulk grains rice dried goods',\n       'soup broth bouillon', 'digestion',\n       'refrigerated pudding desserts', 'condiments', 'facial care',\n       'dish detergents', 'laundry', 'indian foods', 'soft drinks',\n       'crackers', 'frozen pizza', 'deodorants',\n       'canned jarred vegetables', 'baby accessories', 'fresh vegetables',\n       'milk', 'food storage', 'eggs', 'more household', 'spreads',\n       'salad dressing toppings', 'cocoa drink mixes', 'soy lactosefree',\n       'baby food formula', 'breakfast bakery', 'tea',\n       'canned meat seafood', 'lunch meat', 'baking supplies decor',\n       'juice nectars', 'canned fruit applesauce', 'missing',\n       'air fresheners candles', 'baby bath body care',\n       'ice cream toppings', 'spices seasonings',\n       'doughs gelatins bake mixes', 'hot dogs bacon sausage',\n       'chips pretzels', 'other creams cheeses', 'skin care',\n       'pickled goods olives', 'plates bowls cups flatware', 'bread',\n       'frozen juice', 'cleaning products',\n       'water seltzer sparkling water', 'frozen produce',\n       'nuts seeds dried fruit', 'first aid', 'frozen dessert', 'yogurt',\n       'cereal', 'meat counter', 'packaged vegetables fruits', 'spirits',\n       'trail mix snack mix', 'feminine care', 'body lotions soap',\n       'tortillas flat bread', 'frozen appetizers sides',\n       'hot cereal pancake mixes', 'dry pasta', 'beauty',\n       'muscles joints pain relief', 'specialty wines champagnes'],\n      dtype=object)"
     },
     "execution_count": 196,
     "metadata": {},
     "output_type": "execute_result"
    }
   ],
   "source": [
    "aisle.aisle.unique()"
   ],
   "metadata": {
    "collapsed": false,
    "ExecuteTime": {
     "end_time": "2025-04-02T04:23:55.920884Z",
     "start_time": "2025-04-02T04:23:55.913528Z"
    }
   },
   "id": "9d66dd76e05ff257"
  },
  {
   "cell_type": "code",
   "execution_count": 197,
   "outputs": [],
   "source": [
    "# Products"
   ],
   "metadata": {
    "collapsed": false,
    "ExecuteTime": {
     "end_time": "2025-04-02T04:23:55.962859Z",
     "start_time": "2025-04-02T04:23:55.916194Z"
    }
   },
   "id": "99dd86ade20594bf"
  },
  {
   "cell_type": "code",
   "execution_count": 198,
   "outputs": [
    {
     "data": {
      "text/plain": "   product_id                                       product_name  aisle_id  \\\n0           1                         Chocolate Sandwich Cookies        61   \n1           2                                   All-Seasons Salt       104   \n2           3               Robust Golden Unsweetened Oolong Tea        94   \n3           4  Smart Ones Classic Favorites Mini Rigatoni Wit...        38   \n4           5                          Green Chile Anytime Sauce         5   \n\n   department_id  \n0             19  \n1             13  \n2              7  \n3              1  \n4             13  ",
      "text/html": "<div>\n<style scoped>\n    .dataframe tbody tr th:only-of-type {\n        vertical-align: middle;\n    }\n\n    .dataframe tbody tr th {\n        vertical-align: top;\n    }\n\n    .dataframe thead th {\n        text-align: right;\n    }\n</style>\n<table border=\"1\" class=\"dataframe\">\n  <thead>\n    <tr style=\"text-align: right;\">\n      <th></th>\n      <th>product_id</th>\n      <th>product_name</th>\n      <th>aisle_id</th>\n      <th>department_id</th>\n    </tr>\n  </thead>\n  <tbody>\n    <tr>\n      <th>0</th>\n      <td>1</td>\n      <td>Chocolate Sandwich Cookies</td>\n      <td>61</td>\n      <td>19</td>\n    </tr>\n    <tr>\n      <th>1</th>\n      <td>2</td>\n      <td>All-Seasons Salt</td>\n      <td>104</td>\n      <td>13</td>\n    </tr>\n    <tr>\n      <th>2</th>\n      <td>3</td>\n      <td>Robust Golden Unsweetened Oolong Tea</td>\n      <td>94</td>\n      <td>7</td>\n    </tr>\n    <tr>\n      <th>3</th>\n      <td>4</td>\n      <td>Smart Ones Classic Favorites Mini Rigatoni Wit...</td>\n      <td>38</td>\n      <td>1</td>\n    </tr>\n    <tr>\n      <th>4</th>\n      <td>5</td>\n      <td>Green Chile Anytime Sauce</td>\n      <td>5</td>\n      <td>13</td>\n    </tr>\n  </tbody>\n</table>\n</div>"
     },
     "execution_count": 198,
     "metadata": {},
     "output_type": "execute_result"
    }
   ],
   "source": [
    "products.head()"
   ],
   "metadata": {
    "collapsed": false,
    "ExecuteTime": {
     "end_time": "2025-04-02T04:23:55.998050Z",
     "start_time": "2025-04-02T04:23:55.919263Z"
    }
   },
   "id": "e5560629ca88dbbd"
  },
  {
   "cell_type": "code",
   "execution_count": 199,
   "outputs": [
    {
     "data": {
      "text/plain": "       product_id                                product_name  aisle_id  \\\n49683       49684   Vodka, Triple Distilled, Twist of Vanilla       124   \n49684       49685          En Croute Roast Hazelnut Cranberry        42   \n49685       49686                            Artisan Baguette       112   \n49686       49687  Smartblend Healthy Metabolism Dry Cat Food        41   \n49687       49688                      Fresh Foaming Cleanser        73   \n\n       department_id  \n49683              5  \n49684              1  \n49685              3  \n49686              8  \n49687             11  ",
      "text/html": "<div>\n<style scoped>\n    .dataframe tbody tr th:only-of-type {\n        vertical-align: middle;\n    }\n\n    .dataframe tbody tr th {\n        vertical-align: top;\n    }\n\n    .dataframe thead th {\n        text-align: right;\n    }\n</style>\n<table border=\"1\" class=\"dataframe\">\n  <thead>\n    <tr style=\"text-align: right;\">\n      <th></th>\n      <th>product_id</th>\n      <th>product_name</th>\n      <th>aisle_id</th>\n      <th>department_id</th>\n    </tr>\n  </thead>\n  <tbody>\n    <tr>\n      <th>49683</th>\n      <td>49684</td>\n      <td>Vodka, Triple Distilled, Twist of Vanilla</td>\n      <td>124</td>\n      <td>5</td>\n    </tr>\n    <tr>\n      <th>49684</th>\n      <td>49685</td>\n      <td>En Croute Roast Hazelnut Cranberry</td>\n      <td>42</td>\n      <td>1</td>\n    </tr>\n    <tr>\n      <th>49685</th>\n      <td>49686</td>\n      <td>Artisan Baguette</td>\n      <td>112</td>\n      <td>3</td>\n    </tr>\n    <tr>\n      <th>49686</th>\n      <td>49687</td>\n      <td>Smartblend Healthy Metabolism Dry Cat Food</td>\n      <td>41</td>\n      <td>8</td>\n    </tr>\n    <tr>\n      <th>49687</th>\n      <td>49688</td>\n      <td>Fresh Foaming Cleanser</td>\n      <td>73</td>\n      <td>11</td>\n    </tr>\n  </tbody>\n</table>\n</div>"
     },
     "execution_count": 199,
     "metadata": {},
     "output_type": "execute_result"
    }
   ],
   "source": [
    "products.tail()"
   ],
   "metadata": {
    "collapsed": false,
    "ExecuteTime": {
     "end_time": "2025-04-02T04:23:55.998812Z",
     "start_time": "2025-04-02T04:23:55.922970Z"
    }
   },
   "id": "d490dd48fba0c385"
  },
  {
   "cell_type": "code",
   "execution_count": 200,
   "outputs": [
    {
     "name": "stdout",
     "output_type": "stream",
     "text": [
      "Number of unique products: 49688\n"
     ]
    }
   ],
   "source": [
    "num_products = products[\"product_id\"].nunique()\n",
    "print(f\"Number of unique products: {num_products}\")"
   ],
   "metadata": {
    "collapsed": false,
    "ExecuteTime": {
     "end_time": "2025-04-02T04:23:55.999034Z",
     "start_time": "2025-04-02T04:23:55.925420Z"
    }
   },
   "id": "9c9dba14714fbd19"
  },
  {
   "cell_type": "code",
   "execution_count": 201,
   "outputs": [
    {
     "data": {
      "text/plain": "    Department ID  Number of Products\n0               1                4007\n1               2                 548\n2               3                1516\n3               4                1684\n4               5                1054\n5               6                1139\n6               7                4365\n7               8                 972\n8               9                1858\n9              10                  38\n10             11                6563\n11             12                 907\n12             13                5371\n13             14                1115\n14             15                2092\n15             16                3449\n16             17                3085\n17             18                1081\n18             19                6264\n19             20                1322\n20             21                1258",
      "text/html": "<div>\n<style scoped>\n    .dataframe tbody tr th:only-of-type {\n        vertical-align: middle;\n    }\n\n    .dataframe tbody tr th {\n        vertical-align: top;\n    }\n\n    .dataframe thead th {\n        text-align: right;\n    }\n</style>\n<table border=\"1\" class=\"dataframe\">\n  <thead>\n    <tr style=\"text-align: right;\">\n      <th></th>\n      <th>Department ID</th>\n      <th>Number of Products</th>\n    </tr>\n  </thead>\n  <tbody>\n    <tr>\n      <th>0</th>\n      <td>1</td>\n      <td>4007</td>\n    </tr>\n    <tr>\n      <th>1</th>\n      <td>2</td>\n      <td>548</td>\n    </tr>\n    <tr>\n      <th>2</th>\n      <td>3</td>\n      <td>1516</td>\n    </tr>\n    <tr>\n      <th>3</th>\n      <td>4</td>\n      <td>1684</td>\n    </tr>\n    <tr>\n      <th>4</th>\n      <td>5</td>\n      <td>1054</td>\n    </tr>\n    <tr>\n      <th>5</th>\n      <td>6</td>\n      <td>1139</td>\n    </tr>\n    <tr>\n      <th>6</th>\n      <td>7</td>\n      <td>4365</td>\n    </tr>\n    <tr>\n      <th>7</th>\n      <td>8</td>\n      <td>972</td>\n    </tr>\n    <tr>\n      <th>8</th>\n      <td>9</td>\n      <td>1858</td>\n    </tr>\n    <tr>\n      <th>9</th>\n      <td>10</td>\n      <td>38</td>\n    </tr>\n    <tr>\n      <th>10</th>\n      <td>11</td>\n      <td>6563</td>\n    </tr>\n    <tr>\n      <th>11</th>\n      <td>12</td>\n      <td>907</td>\n    </tr>\n    <tr>\n      <th>12</th>\n      <td>13</td>\n      <td>5371</td>\n    </tr>\n    <tr>\n      <th>13</th>\n      <td>14</td>\n      <td>1115</td>\n    </tr>\n    <tr>\n      <th>14</th>\n      <td>15</td>\n      <td>2092</td>\n    </tr>\n    <tr>\n      <th>15</th>\n      <td>16</td>\n      <td>3449</td>\n    </tr>\n    <tr>\n      <th>16</th>\n      <td>17</td>\n      <td>3085</td>\n    </tr>\n    <tr>\n      <th>17</th>\n      <td>18</td>\n      <td>1081</td>\n    </tr>\n    <tr>\n      <th>18</th>\n      <td>19</td>\n      <td>6264</td>\n    </tr>\n    <tr>\n      <th>19</th>\n      <td>20</td>\n      <td>1322</td>\n    </tr>\n    <tr>\n      <th>20</th>\n      <td>21</td>\n      <td>1258</td>\n    </tr>\n  </tbody>\n</table>\n</div>"
     },
     "execution_count": 201,
     "metadata": {},
     "output_type": "execute_result"
    }
   ],
   "source": [
    "temp_df = products.groupby(\"department_id\")[\"product_id\"].count().reset_index()\n",
    "temp_df.columns = [\"Department ID\", \"Number of Products\"]\n",
    "\n",
    "temp_df"
   ],
   "metadata": {
    "collapsed": false,
    "ExecuteTime": {
     "end_time": "2025-04-02T04:23:56.033870Z",
     "start_time": "2025-04-02T04:23:55.934990Z"
    }
   },
   "id": "abe61761f2ea3dc3"
  },
  {
   "cell_type": "code",
   "execution_count": 202,
   "outputs": [
    {
     "data": {
      "text/plain": "<Figure size 800x500 with 1 Axes>",
      "image/png": "[encoded data removed]"
     },
     "metadata": {},
     "output_type": "display_data"
    }
   ],
   "source": [
    "temp_df = products.groupby(\"department_id\")[\"aisle_id\"].nunique()\n",
    "\n",
    "fig, ax = plt.subplots(figsize=(8, 5), facecolor=\"white\")\n",
    "\n",
    "sns.barplot(x=temp_df.index, y=temp_df.values, ax=ax, color=\"darkred\", edgecolor=\"black\")\n",
    "\n",
    "\n",
    "ax.set_xlabel(\"Department ID\", fontsize=12)\n",
    "ax.set_ylabel(\"Total Aisles in Department\", fontsize=12)\n",
    "ax.set_title(\"Total Aisles in Department VS Department ID\", fontsize=14)\n",
    "\n",
    "\n",
    "ax.xaxis.set_tick_params(rotation=90, labelsize=9)\n",
    "\n",
    "\n",
    "fig.savefig(\"Total Aisles in Department VS Department ID.png\", facecolor=\"white\")\n",
    "\n",
    "\n",
    "plt.show()"
   ],
   "metadata": {
    "collapsed": false,
    "ExecuteTime": {
     "end_time": "2025-04-02T04:23:56.107079Z",
     "start_time": "2025-04-02T04:23:55.946113Z"
    }
   },
   "id": "1f449a8a95d355da"
  },
  {
   "cell_type": "code",
   "execution_count": 203,
   "outputs": [],
   "source": [
    "# Departments"
   ],
   "metadata": {
    "collapsed": false,
    "ExecuteTime": {
     "end_time": "2025-04-02T04:23:56.108226Z",
     "start_time": "2025-04-02T04:23:56.083062Z"
    }
   },
   "id": "642b7fdb3ae5a868"
  },
  {
   "cell_type": "code",
   "execution_count": 204,
   "outputs": [
    {
     "data": {
      "text/plain": "   department_id department\n0              1     frozen\n1              2      other\n2              3     bakery\n3              4    produce\n4              5    alcohol",
      "text/html": "<div>\n<style scoped>\n    .dataframe tbody tr th:only-of-type {\n        vertical-align: middle;\n    }\n\n    .dataframe tbody tr th {\n        vertical-align: top;\n    }\n\n    .dataframe thead th {\n        text-align: right;\n    }\n</style>\n<table border=\"1\" class=\"dataframe\">\n  <thead>\n    <tr style=\"text-align: right;\">\n      <th></th>\n      <th>department_id</th>\n      <th>department</th>\n    </tr>\n  </thead>\n  <tbody>\n    <tr>\n      <th>0</th>\n      <td>1</td>\n      <td>frozen</td>\n    </tr>\n    <tr>\n      <th>1</th>\n      <td>2</td>\n      <td>other</td>\n    </tr>\n    <tr>\n      <th>2</th>\n      <td>3</td>\n      <td>bakery</td>\n    </tr>\n    <tr>\n      <th>3</th>\n      <td>4</td>\n      <td>produce</td>\n    </tr>\n    <tr>\n      <th>4</th>\n      <td>5</td>\n      <td>alcohol</td>\n    </tr>\n  </tbody>\n</table>\n</div>"
     },
     "execution_count": 204,
     "metadata": {},
     "output_type": "execute_result"
    }
   ],
   "source": [
    "departments.head()"
   ],
   "metadata": {
    "collapsed": false,
    "ExecuteTime": {
     "end_time": "2025-04-02T04:23:56.108658Z",
     "start_time": "2025-04-02T04:23:56.086152Z"
    }
   },
   "id": "8eb97d0985a91e46"
  },
  {
   "cell_type": "code",
   "execution_count": 205,
   "outputs": [
    {
     "data": {
      "text/plain": "    department_id department\n16             17  household\n17             18     babies\n18             19     snacks\n19             20       deli\n20             21    missing",
      "text/html": "<div>\n<style scoped>\n    .dataframe tbody tr th:only-of-type {\n        vertical-align: middle;\n    }\n\n    .dataframe tbody tr th {\n        vertical-align: top;\n    }\n\n    .dataframe thead th {\n        text-align: right;\n    }\n</style>\n<table border=\"1\" class=\"dataframe\">\n  <thead>\n    <tr style=\"text-align: right;\">\n      <th></th>\n      <th>department_id</th>\n      <th>department</th>\n    </tr>\n  </thead>\n  <tbody>\n    <tr>\n      <th>16</th>\n      <td>17</td>\n      <td>household</td>\n    </tr>\n    <tr>\n      <th>17</th>\n      <td>18</td>\n      <td>babies</td>\n    </tr>\n    <tr>\n      <th>18</th>\n      <td>19</td>\n      <td>snacks</td>\n    </tr>\n    <tr>\n      <th>19</th>\n      <td>20</td>\n      <td>deli</td>\n    </tr>\n    <tr>\n      <th>20</th>\n      <td>21</td>\n      <td>missing</td>\n    </tr>\n  </tbody>\n</table>\n</div>"
     },
     "execution_count": 205,
     "metadata": {},
     "output_type": "execute_result"
    }
   ],
   "source": [
    "departments.tail()"
   ],
   "metadata": {
    "collapsed": false,
    "ExecuteTime": {
     "end_time": "2025-04-02T04:23:56.108889Z",
     "start_time": "2025-04-02T04:23:56.088884Z"
    }
   },
   "id": "7e3e4dc5be03728d"
  },
  {
   "cell_type": "code",
   "execution_count": 206,
   "outputs": [
    {
     "name": "stdout",
     "output_type": "stream",
     "text": [
      "Number of departments: 21\n"
     ]
    }
   ],
   "source": [
    "num_departments = departments[\"department_id\"].nunique()\n",
    "print(f\"Number of departments: {num_departments}\")"
   ],
   "metadata": {
    "collapsed": false,
    "ExecuteTime": {
     "end_time": "2025-04-02T04:23:56.108978Z",
     "start_time": "2025-04-02T04:23:56.091868Z"
    }
   },
   "id": "e825a183be925a48"
  },
  {
   "cell_type": "code",
   "execution_count": 207,
   "outputs": [
    {
     "data": {
      "text/plain": "array(['frozen', 'other', 'bakery', 'produce', 'alcohol', 'international',\n       'beverages', 'pets', 'dry goods pasta', 'bulk', 'personal care',\n       'meat seafood', 'pantry', 'breakfast', 'canned goods',\n       'dairy eggs', 'household', 'babies', 'snacks', 'deli', 'missing'],\n      dtype=object)"
     },
     "execution_count": 207,
     "metadata": {},
     "output_type": "execute_result"
    }
   ],
   "source": [
    "\n",
    "departments.department.unique()"
   ],
   "metadata": {
    "collapsed": false,
    "ExecuteTime": {
     "end_time": "2025-04-02T04:23:56.109077Z",
     "start_time": "2025-04-02T04:23:56.094073Z"
    }
   },
   "id": "c7380afe4ae9e06e"
  },
  {
   "cell_type": "markdown",
   "source": [
    "# Orders"
   ],
   "metadata": {
    "collapsed": false
   },
   "id": "7f1ef5ddb9c83542"
  },
  {
   "cell_type": "code",
   "execution_count": 208,
   "outputs": [
    {
     "data": {
      "text/plain": "   order_id  user_id eval_set  order_number  order_dow  order_hour_of_day  \\\n0   2539329        1    prior             1          2                  8   \n1   2398795        1    prior             2          3                  7   \n2    473747        1    prior             3          3                 12   \n3   2254736        1    prior             4          4                  7   \n4    431534        1    prior             5          4                 15   \n\n   days_since_prior_order  \n0                     NaN  \n1                    15.0  \n2                    21.0  \n3                    29.0  \n4                    28.0  ",
      "text/html": "<div>\n<style scoped>\n    .dataframe tbody tr th:only-of-type {\n        vertical-align: middle;\n    }\n\n    .dataframe tbody tr th {\n        vertical-align: top;\n    }\n\n    .dataframe thead th {\n        text-align: right;\n    }\n</style>\n<table border=\"1\" class=\"dataframe\">\n  <thead>\n    <tr style=\"text-align: right;\">\n      <th></th>\n      <th>order_id</th>\n      <th>user_id</th>\n      <th>eval_set</th>\n      <th>order_number</th>\n      <th>order_dow</th>\n      <th>order_hour_of_day</th>\n      <th>days_since_prior_order</th>\n    </tr>\n  </thead>\n  <tbody>\n    <tr>\n      <th>0</th>\n      <td>2539329</td>\n      <td>1</td>\n      <td>prior</td>\n      <td>1</td>\n      <td>2</td>\n      <td>8</td>\n      <td>NaN</td>\n    </tr>\n    <tr>\n      <th>1</th>\n      <td>2398795</td>\n      <td>1</td>\n      <td>prior</td>\n      <td>2</td>\n      <td>3</td>\n      <td>7</td>\n      <td>15.0</td>\n    </tr>\n    <tr>\n      <th>2</th>\n      <td>473747</td>\n      <td>1</td>\n      <td>prior</td>\n      <td>3</td>\n      <td>3</td>\n      <td>12</td>\n      <td>21.0</td>\n    </tr>\n    <tr>\n      <th>3</th>\n      <td>2254736</td>\n      <td>1</td>\n      <td>prior</td>\n      <td>4</td>\n      <td>4</td>\n      <td>7</td>\n      <td>29.0</td>\n    </tr>\n    <tr>\n      <th>4</th>\n      <td>431534</td>\n      <td>1</td>\n      <td>prior</td>\n      <td>5</td>\n      <td>4</td>\n      <td>15</td>\n      <td>28.0</td>\n    </tr>\n  </tbody>\n</table>\n</div>"
     },
     "execution_count": 208,
     "metadata": {},
     "output_type": "execute_result"
    }
   ],
   "source": [
    "orders.head()"
   ],
   "metadata": {
    "collapsed": false,
    "ExecuteTime": {
     "end_time": "2025-04-02T04:23:56.109292Z",
     "start_time": "2025-04-02T04:23:56.098246Z"
    }
   },
   "id": "fa24268948ad30f3"
  },
  {
   "cell_type": "code",
   "execution_count": 209,
   "outputs": [
    {
     "data": {
      "text/plain": "         order_id  user_id eval_set  order_number  order_dow  \\\n3421078   2266710   206209    prior            10          5   \n3421079   1854736   206209    prior            11          4   \n3421080    626363   206209    prior            12          1   \n3421081   2977660   206209    prior            13          1   \n3421082    272231   206209    train            14          6   \n\n         order_hour_of_day  days_since_prior_order  \n3421078                 18                    29.0  \n3421079                 10                    30.0  \n3421080                 12                    18.0  \n3421081                 12                     7.0  \n3421082                 14                    30.0  ",
      "text/html": "<div>\n<style scoped>\n    .dataframe tbody tr th:only-of-type {\n        vertical-align: middle;\n    }\n\n    .dataframe tbody tr th {\n        vertical-align: top;\n    }\n\n    .dataframe thead th {\n        text-align: right;\n    }\n</style>\n<table border=\"1\" class=\"dataframe\">\n  <thead>\n    <tr style=\"text-align: right;\">\n      <th></th>\n      <th>order_id</th>\n      <th>user_id</th>\n      <th>eval_set</th>\n      <th>order_number</th>\n      <th>order_dow</th>\n      <th>order_hour_of_day</th>\n      <th>days_since_prior_order</th>\n    </tr>\n  </thead>\n  <tbody>\n    <tr>\n      <th>3421078</th>\n      <td>2266710</td>\n      <td>206209</td>\n      <td>prior</td>\n      <td>10</td>\n      <td>5</td>\n      <td>18</td>\n      <td>29.0</td>\n    </tr>\n    <tr>\n      <th>3421079</th>\n      <td>1854736</td>\n      <td>206209</td>\n      <td>prior</td>\n      <td>11</td>\n      <td>4</td>\n      <td>10</td>\n      <td>30.0</td>\n    </tr>\n    <tr>\n      <th>3421080</th>\n      <td>626363</td>\n      <td>206209</td>\n      <td>prior</td>\n      <td>12</td>\n      <td>1</td>\n      <td>12</td>\n      <td>18.0</td>\n    </tr>\n    <tr>\n      <th>3421081</th>\n      <td>2977660</td>\n      <td>206209</td>\n      <td>prior</td>\n      <td>13</td>\n      <td>1</td>\n      <td>12</td>\n      <td>7.0</td>\n    </tr>\n    <tr>\n      <th>3421082</th>\n      <td>272231</td>\n      <td>206209</td>\n      <td>train</td>\n      <td>14</td>\n      <td>6</td>\n      <td>14</td>\n      <td>30.0</td>\n    </tr>\n  </tbody>\n</table>\n</div>"
     },
     "execution_count": 209,
     "metadata": {},
     "output_type": "execute_result"
    }
   ],
   "source": [
    "orders.tail()"
   ],
   "metadata": {
    "collapsed": false,
    "ExecuteTime": {
     "end_time": "2025-04-02T04:23:56.125173Z",
     "start_time": "2025-04-02T04:23:56.100069Z"
    }
   },
   "id": "c1e9248c4d10c429"
  },
  {
   "cell_type": "code",
   "execution_count": 210,
   "outputs": [
    {
     "name": "stdout",
     "output_type": "stream",
     "text": [
      "<class 'pandas.core.frame.DataFrame'>\n",
      "RangeIndex: 3421083 entries, 0 to 3421082\n",
      "Data columns (total 7 columns):\n",
      " #   Column                  Dtype  \n",
      "---  ------                  -----  \n",
      " 0   order_id                int64  \n",
      " 1   user_id                 int64  \n",
      " 2   eval_set                object \n",
      " 3   order_number            int64  \n",
      " 4   order_dow               int64  \n",
      " 5   order_hour_of_day       int64  \n",
      " 6   days_since_prior_order  float64\n",
      "dtypes: float64(1), int64(5), object(1)\n",
      "memory usage: 182.7+ MB\n"
     ]
    }
   ],
   "source": [
    "orders.info()"
   ],
   "metadata": {
    "collapsed": false,
    "ExecuteTime": {
     "end_time": "2025-04-02T04:23:56.135514Z",
     "start_time": "2025-04-02T04:23:56.108860Z"
    }
   },
   "id": "bf32bf29a2cd425e"
  },
  {
   "cell_type": "code",
   "execution_count": 211,
   "outputs": [
    {
     "name": "stdout",
     "output_type": "stream",
     "text": [
      "Number of unique orders: 3421083\n"
     ]
    }
   ],
   "source": [
    "num_orders = orders[\"order_id\"].nunique()\n",
    "print(f\"Number of unique orders: {num_orders}\")"
   ],
   "metadata": {
    "collapsed": false,
    "ExecuteTime": {
     "end_time": "2025-04-02T04:23:56.284152Z",
     "start_time": "2025-04-02T04:23:56.110755Z"
    }
   },
   "id": "b8d36a064bc38b28"
  },
  {
   "cell_type": "code",
   "execution_count": 212,
   "outputs": [
    {
     "name": "stdout",
     "output_type": "stream",
     "text": [
      "Number of unique users: 206209\n"
     ]
    }
   ],
   "source": [
    "num_orsers_user= orders[\"user_id\"].nunique()\n",
    "print(f\"Number of unique users: {num_orsers_user}\")"
   ],
   "metadata": {
    "collapsed": false,
    "ExecuteTime": {
     "end_time": "2025-04-02T04:23:56.339094Z",
     "start_time": "2025-04-02T04:23:56.230877Z"
    }
   },
   "id": "b5b1d55e2f137233"
  },
  {
   "cell_type": "code",
   "execution_count": 213,
   "outputs": [
    {
     "data": {
      "text/plain": "   order_id  product_id  add_to_cart_order  reordered           product_name\n0         2       33120                  1          1     Organic Egg Whites\n1         2       28985                  2          1  Michigan Organic Kale\n2         2        9327                  3          0          Garlic Powder\n3         2       45918                  4          1         Coconut Butter\n4         2       30035                  5          0      Natural Sweetener",
      "text/html": "<div>\n<style scoped>\n    .dataframe tbody tr th:only-of-type {\n        vertical-align: middle;\n    }\n\n    .dataframe tbody tr th {\n        vertical-align: top;\n    }\n\n    .dataframe thead th {\n        text-align: right;\n    }\n</style>\n<table border=\"1\" class=\"dataframe\">\n  <thead>\n    <tr style=\"text-align: right;\">\n      <th></th>\n      <th>order_id</th>\n      <th>product_id</th>\n      <th>add_to_cart_order</th>\n      <th>reordered</th>\n      <th>product_name</th>\n    </tr>\n  </thead>\n  <tbody>\n    <tr>\n      <th>0</th>\n      <td>2</td>\n      <td>33120</td>\n      <td>1</td>\n      <td>1</td>\n      <td>Organic Egg Whites</td>\n    </tr>\n    <tr>\n      <th>1</th>\n      <td>2</td>\n      <td>28985</td>\n      <td>2</td>\n      <td>1</td>\n      <td>Michigan Organic Kale</td>\n    </tr>\n    <tr>\n      <th>2</th>\n      <td>2</td>\n      <td>9327</td>\n      <td>3</td>\n      <td>0</td>\n      <td>Garlic Powder</td>\n    </tr>\n    <tr>\n      <th>3</th>\n      <td>2</td>\n      <td>45918</td>\n      <td>4</td>\n      <td>1</td>\n      <td>Coconut Butter</td>\n    </tr>\n    <tr>\n      <th>4</th>\n      <td>2</td>\n      <td>30035</td>\n      <td>5</td>\n      <td>0</td>\n      <td>Natural Sweetener</td>\n    </tr>\n  </tbody>\n</table>\n</div>"
     },
     "execution_count": 213,
     "metadata": {},
     "output_type": "execute_result"
    }
   ],
   "source": [
    "\n",
    "order_products = pd.concat([order_prior, order_train])\n",
    "order_products = order_products.merge(products[['product_id', 'product_name']], on='product_id', how='left')\n",
    "order_products.head()"
   ],
   "metadata": {
    "collapsed": false,
    "ExecuteTime": {
     "end_time": "2025-04-02T04:23:59.880192Z",
     "start_time": "2025-04-02T04:23:56.251377Z"
    }
   },
   "id": "36a035d371514af2"
  },
  {
   "cell_type": "code",
   "execution_count": null,
   "outputs": [],
   "source": [
    "# Contar la cantidad de veces que cada producto aparece en los pedidos\n",
    "top_products = order_products['product_name'].value_counts().head(10)\n",
    "\n",
    "# Graficar\n",
    "plt.figure(figsize=(10,5))\n",
    "sns.barplot(x=top_products.index, y=top_products.values, palette='Paired')\n",
    "plt.xlabel('Product Name')\n",
    "plt.ylabel('Times bought')\n",
    "plt.title('Top 10 most purchased products')\n",
    "plt.xticks(rotation=45)\n",
    "plt.show()\n"
   ],
   "metadata": {
    "collapsed": false,
    "is_executing": true
   },
   "id": "faff9519801dfd4a"
  },
  {
   "cell_type": "code",
   "execution_count": null,
   "outputs": [],
   "source": [
    "orders.eval_set.value_counts()"
   ],
   "metadata": {
    "collapsed": false,
    "is_executing": true
   },
   "id": "bd401173def874f2"
  },
  {
   "cell_type": "markdown",
   "source": [],
   "metadata": {
    "collapsed": false
   },
   "id": "381721286b5481ea"
  },
  {
   "cell_type": "code",
   "execution_count": null,
   "outputs": [],
   "source": [
    "print(f\"Mean order number: {orders['order_number'].mean()}\")\n",
    "print(f\"Median order number: {orders['order_number'].median()}\")\n",
    "\n",
    "print(f\"Mean days since last order: {orders['days_since_prior_order'].mean()}\")\n",
    "print(f\"Median days since last order: {orders['days_since_prior_order'].median()}\")\n",
    "\n",
    "print(f\"Mode day of the week: {orders['order_dow'].mode().values}\")\n",
    "print(f\"Mode hour of the day: {orders['order_hour_of_day'].mode().values}\")\n"
   ],
   "metadata": {
    "collapsed": false,
    "is_executing": true
   },
   "id": "ce0ad5c4c7514ffe"
  },
  {
   "cell_type": "code",
   "execution_count": null,
   "outputs": [],
   "source": [
    "total_orders_per_dow = orders[\"order_dow\"].value_counts().sort_index()\n",
    "print(total_orders_per_dow)"
   ],
   "metadata": {
    "collapsed": false,
    "is_executing": true
   },
   "id": "53396d53dd375d23"
  },
  {
   "cell_type": "code",
   "execution_count": null,
   "outputs": [],
   "source": [
    "\n",
    "plt.figure(figsize=(8,5) , facecolor=\"white\")\n",
    "total_orders_per_dow.plot(kind=\"bar\", color=\"darkred\", edgecolor=\"black\")\n",
    "\n",
    "plt.xlabel(\"Day of the week (0 = Sunday, 6 = Saturday)\")\n",
    "plt.ylabel(\"Total of Orders\")\n",
    "plt.title(\"Total Orders per Day of Week\")\n",
    "plt.gca().set_facecolor(\"white\") \n",
    "\n",
    "plt.show()"
   ],
   "metadata": {
    "collapsed": false,
    "is_executing": true
   },
   "id": "b8f69ac055ea6485"
  },
  {
   "cell_type": "code",
   "execution_count": null,
   "outputs": [],
   "source": [
    "\n",
    "fig, ax = plt.subplots(figsize=(10, 5), facecolor=\"white\")\n",
    "\n",
    "\n",
    "sns.countplot(x=orders[\"order_hour_of_day\"], color=\"tomato\", ax=ax)\n",
    "\n",
    "\n",
    "ax.set_xlabel(\"Hour of Day\", size=12)\n",
    "ax.set_ylabel(\"Orders\", size=12)\n",
    "ax.set_title(\"Total Orders per Hour of Day\", fontsize=14)\n",
    "\n",
    "\n",
    "ax.tick_params(axis=\"both\", labelsize=10)\n",
    "\n",
    "\n",
    "ax.set_facecolor(\"white\")\n",
    "\n",
    "\n",
    "fig.savefig(\"Total Orders per Hour of Day.png\", facecolor=\"white\")\n",
    "\n",
    "\n",
    "plt.show()"
   ],
   "metadata": {
    "collapsed": false,
    "is_executing": true
   },
   "id": "dcc16fd5ba23a208"
  },
  {
   "cell_type": "code",
   "execution_count": null,
   "outputs": [],
   "source": [
    "temp_df = orders.groupby([\"order_dow\", \"order_hour_of_day\"]).size().unstack()\n",
    "\n",
    "fig, ax = plt.subplots(figsize=(7, 3), facecolor=\"white\")  # Definir figura correctamente\n",
    "\n",
    "\n",
    "sns.heatmap(temp_df, cmap=\"Reds\", linewidths=0.5, ax=ax)\n",
    "\n",
    "\n",
    "ax.set_title(\"Frequency of Day of Week Vs Hour of Day\", size=12)\n",
    "ax.set_xlabel(\"Hour of Day\", size=10)\n",
    "ax.set_ylabel(\"Day of Week\", size=10)\n",
    "ax.tick_params(axis=\"both\", labelsize=8)\n",
    "\n",
    "\n",
    "cbar = ax.collections[0].colorbar\n",
    "cbar.ax.tick_params(labelsize=10)\n",
    "\n",
    "\n",
    "fig.savefig(\"Frequency of Day of Week Vs Hour of Day.png\", facecolor=\"white\")\n",
    "\n",
    "\n",
    "plt.show()"
   ],
   "metadata": {
    "collapsed": false,
    "is_executing": true
   },
   "id": "df466f534eb3ad0d"
  },
  {
   "cell_type": "markdown",
   "source": [],
   "metadata": {
    "collapsed": false
   },
   "id": "a6b267542f73505c"
  },
  {
   "cell_type": "markdown",
   "source": [],
   "metadata": {
    "collapsed": false
   },
   "id": "947ecfb5d21e2830"
  }
 ],
 "metadata": {
  "kernelspec": {
   "display_name": "Python 3",
   "language": "python",
   "name": "python3"
  },
  "language_info": {
   "codemirror_mode": {
    "name": "ipython",
    "version": 2
   },
   "file_extension": ".py",
   "mimetype": "text/x-python",
   "name": "python",
   "nbconvert_exporter": "python",
   "pygments_lexer": "ipython2",
   "version": "2.7.6"
  }
 },
 "nbformat": 4,
 "nbformat_minor": 5
}
