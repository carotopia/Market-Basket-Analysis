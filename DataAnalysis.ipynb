{
 "cells": [
  {
   "cell_type": "markdown",
   "source": [
    "# Data Analysis and Description"
   ],
   "metadata": {
    "collapsed": false
   },
   "id": "d33366fac7afb1c7"
  },
  {
   "cell_type": "code",
   "execution_count": 68,
   "outputs": [],
   "source": [
    "import numpy as np\n",
    "import pandas as pd\n",
    "import matplotlib.pyplot as plt\n",
    "import seaborn as sns\n",
    "import gc\n",
    "pd.options.mode.chained_assignment = None"
   ],
   "metadata": {
    "collapsed": false,
    "ExecuteTime": {
     "end_time": "2025-04-01T00:17:01.894390Z",
     "start_time": "2025-04-01T00:17:01.849632Z"
    }
   },
   "id": "4c6fc2bfe182c8fd"
  },
  {
   "cell_type": "code",
   "execution_count": 118,
   "outputs": [],
   "source": [
    "data = '/Users/carolinalara/PycharmProjects/RetoEntrega0/Data/'"
   ],
   "metadata": {
    "collapsed": false,
    "ExecuteTime": {
     "end_time": "2025-04-01T01:19:11.494185Z",
     "start_time": "2025-04-01T01:19:11.484762Z"
    }
   },
   "id": "ee1642bfd8ff6f3c"
  },
  {
   "cell_type": "code",
   "execution_count": 119,
   "outputs": [],
   "source": [
    "orders = pd.read_csv(data+'orders.csv')\n",
    "aisle = pd.read_csv(data+'aisles.csv')\n",
    "products = pd.read_csv(data+'products.csv')\n",
    "order_train = pd.read_csv(data+'order_products__train.csv')\n",
    "order_prior = pd.read_csv(data+'order_products__prior.csv')\n",
    "departments = pd.read_csv(data+'departments.csv')\n"
   ],
   "metadata": {
    "collapsed": false,
    "ExecuteTime": {
     "end_time": "2025-04-01T01:19:18.017307Z",
     "start_time": "2025-04-01T01:19:13.190127Z"
    }
   },
   "id": "77aa8be32c276c52"
  },
  {
   "cell_type": "code",
   "execution_count": 120,
   "outputs": [],
   "source": [
    "# Aisles"
   ],
   "metadata": {
    "collapsed": false,
    "ExecuteTime": {
     "end_time": "2025-04-01T23:51:32.467878Z",
     "start_time": "2025-04-01T23:51:32.467422Z"
    }
   },
   "id": "6882a0b27273238"
  },
  {
   "cell_type": "code",
   "execution_count": 121,
   "outputs": [
    {
     "data": {
      "text/plain": "   aisle_id                       aisle\n0         1       prepared soups salads\n1         2           specialty cheeses\n2         3         energy granola bars\n3         4               instant foods\n4         5  marinades meat preparation",
      "text/html": "<div>\n<style scoped>\n    .dataframe tbody tr th:only-of-type {\n        vertical-align: middle;\n    }\n\n    .dataframe tbody tr th {\n        vertical-align: top;\n    }\n\n    .dataframe thead th {\n        text-align: right;\n    }\n</style>\n<table border=\"1\" class=\"dataframe\">\n  <thead>\n    <tr style=\"text-align: right;\">\n      <th></th>\n      <th>aisle_id</th>\n      <th>aisle</th>\n    </tr>\n  </thead>\n  <tbody>\n    <tr>\n      <th>0</th>\n      <td>1</td>\n      <td>prepared soups salads</td>\n    </tr>\n    <tr>\n      <th>1</th>\n      <td>2</td>\n      <td>specialty cheeses</td>\n    </tr>\n    <tr>\n      <th>2</th>\n      <td>3</td>\n      <td>energy granola bars</td>\n    </tr>\n    <tr>\n      <th>3</th>\n      <td>4</td>\n      <td>instant foods</td>\n    </tr>\n    <tr>\n      <th>4</th>\n      <td>5</td>\n      <td>marinades meat preparation</td>\n    </tr>\n  </tbody>\n</table>\n</div>"
     },
     "execution_count": 121,
     "metadata": {},
     "output_type": "execute_result"
    }
   ],
   "source": [
    "aisle.head()"
   ],
   "metadata": {
    "collapsed": false,
    "ExecuteTime": {
     "end_time": "2025-04-01T23:51:34.203473Z",
     "start_time": "2025-04-01T23:51:34.195007Z"
    }
   },
   "id": "bc80fec13fb37a59"
  },
  {
   "cell_type": "code",
   "execution_count": 122,
   "outputs": [
    {
     "data": {
      "text/plain": "     aisle_id                       aisle\n129       130    hot cereal pancake mixes\n130       131                   dry pasta\n131       132                      beauty\n132       133  muscles joints pain relief\n133       134  specialty wines champagnes",
      "text/html": "<div>\n<style scoped>\n    .dataframe tbody tr th:only-of-type {\n        vertical-align: middle;\n    }\n\n    .dataframe tbody tr th {\n        vertical-align: top;\n    }\n\n    .dataframe thead th {\n        text-align: right;\n    }\n</style>\n<table border=\"1\" class=\"dataframe\">\n  <thead>\n    <tr style=\"text-align: right;\">\n      <th></th>\n      <th>aisle_id</th>\n      <th>aisle</th>\n    </tr>\n  </thead>\n  <tbody>\n    <tr>\n      <th>129</th>\n      <td>130</td>\n      <td>hot cereal pancake mixes</td>\n    </tr>\n    <tr>\n      <th>130</th>\n      <td>131</td>\n      <td>dry pasta</td>\n    </tr>\n    <tr>\n      <th>131</th>\n      <td>132</td>\n      <td>beauty</td>\n    </tr>\n    <tr>\n      <th>132</th>\n      <td>133</td>\n      <td>muscles joints pain relief</td>\n    </tr>\n    <tr>\n      <th>133</th>\n      <td>134</td>\n      <td>specialty wines champagnes</td>\n    </tr>\n  </tbody>\n</table>\n</div>"
     },
     "execution_count": 122,
     "metadata": {},
     "output_type": "execute_result"
    }
   ],
   "source": [
    "aisle.tail()"
   ],
   "metadata": {
    "collapsed": false,
    "ExecuteTime": {
     "end_time": "2025-04-01T23:51:36.827123Z",
     "start_time": "2025-04-01T23:51:36.813887Z"
    }
   },
   "id": "94e8f27cf7ceb6fd"
  },
  {
   "cell_type": "code",
   "execution_count": 124,
   "outputs": [
    {
     "name": "stdout",
     "output_type": "stream",
     "text": [
      "Number of unique aisles: 134\n"
     ]
    }
   ],
   "source": [
    "num_aisle = aisle[\"aisle_id\"].nunique()\n",
    "print(f\"Number of unique aisles: {num_aisle}\")"
   ],
   "metadata": {
    "collapsed": false,
    "ExecuteTime": {
     "end_time": "2025-04-01T23:52:32.805359Z",
     "start_time": "2025-04-01T23:52:32.759637Z"
    }
   },
   "id": "ab4d934bb993c18d"
  },
  {
   "cell_type": "code",
   "execution_count": 127,
   "outputs": [
    {
     "data": {
      "text/plain": "array(['prepared soups salads', 'specialty cheeses',\n       'energy granola bars', 'instant foods',\n       'marinades meat preparation', 'other', 'packaged meat',\n       'bakery desserts', 'pasta sauce', 'kitchen supplies',\n       'cold flu allergy', 'fresh pasta', 'prepared meals',\n       'tofu meat alternatives', 'packaged seafood', 'fresh herbs',\n       'baking ingredients', 'bulk dried fruits vegetables',\n       'oils vinegars', 'oral hygiene', 'packaged cheese', 'hair care',\n       'popcorn jerky', 'fresh fruits', 'soap', 'coffee', 'beers coolers',\n       'red wines', 'honeys syrups nectars', 'latino foods',\n       'refrigerated', 'packaged produce', 'kosher foods',\n       'frozen meat seafood', 'poultry counter', 'butter',\n       'ice cream ice', 'frozen meals', 'seafood counter',\n       'dog food care', 'cat food care', 'frozen vegan vegetarian',\n       'buns rolls', 'eye ear care', 'candy chocolate', 'mint gum',\n       'vitamins supplements', 'breakfast bars pastries',\n       'packaged poultry', 'fruit vegetable snacks',\n       'preserved dips spreads', 'frozen breakfast', 'cream',\n       'paper goods', 'shave needs', 'diapers wipes', 'granola',\n       'frozen breads doughs', 'canned meals beans', 'trash bags liners',\n       'cookies cakes', 'white wines', 'grains rice dried goods',\n       'energy sports drinks', 'protein meal replacements', 'asian foods',\n       'fresh dips tapenades', 'bulk grains rice dried goods',\n       'soup broth bouillon', 'digestion',\n       'refrigerated pudding desserts', 'condiments', 'facial care',\n       'dish detergents', 'laundry', 'indian foods', 'soft drinks',\n       'crackers', 'frozen pizza', 'deodorants',\n       'canned jarred vegetables', 'baby accessories', 'fresh vegetables',\n       'milk', 'food storage', 'eggs', 'more household', 'spreads',\n       'salad dressing toppings', 'cocoa drink mixes', 'soy lactosefree',\n       'baby food formula', 'breakfast bakery', 'tea',\n       'canned meat seafood', 'lunch meat', 'baking supplies decor',\n       'juice nectars', 'canned fruit applesauce', 'missing',\n       'air fresheners candles', 'baby bath body care',\n       'ice cream toppings', 'spices seasonings',\n       'doughs gelatins bake mixes', 'hot dogs bacon sausage',\n       'chips pretzels', 'other creams cheeses', 'skin care',\n       'pickled goods olives', 'plates bowls cups flatware', 'bread',\n       'frozen juice', 'cleaning products',\n       'water seltzer sparkling water', 'frozen produce',\n       'nuts seeds dried fruit', 'first aid', 'frozen dessert', 'yogurt',\n       'cereal', 'meat counter', 'packaged vegetables fruits', 'spirits',\n       'trail mix snack mix', 'feminine care', 'body lotions soap',\n       'tortillas flat bread', 'frozen appetizers sides',\n       'hot cereal pancake mixes', 'dry pasta', 'beauty',\n       'muscles joints pain relief', 'specialty wines champagnes'],\n      dtype=object)"
     },
     "execution_count": 127,
     "metadata": {},
     "output_type": "execute_result"
    }
   ],
   "source": [
    "aisle.aisle.unique()"
   ],
   "metadata": {
    "collapsed": false,
    "ExecuteTime": {
     "end_time": "2025-04-01T23:53:12.116082Z",
     "start_time": "2025-04-01T23:53:12.093387Z"
    }
   },
   "id": "9d66dd76e05ff257"
  },
  {
   "cell_type": "code",
   "execution_count": 130,
   "outputs": [],
   "source": [
    "# Products"
   ],
   "metadata": {
    "collapsed": false,
    "ExecuteTime": {
     "end_time": "2025-04-01T23:54:38.966589Z",
     "start_time": "2025-04-01T23:54:38.952970Z"
    }
   },
   "id": "99dd86ade20594bf"
  },
  {
   "cell_type": "code",
   "execution_count": 131,
   "outputs": [
    {
     "data": {
      "text/plain": "   product_id                                       product_name  aisle_id  \\\n0           1                         Chocolate Sandwich Cookies        61   \n1           2                                   All-Seasons Salt       104   \n2           3               Robust Golden Unsweetened Oolong Tea        94   \n3           4  Smart Ones Classic Favorites Mini Rigatoni Wit...        38   \n4           5                          Green Chile Anytime Sauce         5   \n\n   department_id  \n0             19  \n1             13  \n2              7  \n3              1  \n4             13  ",
      "text/html": "<div>\n<style scoped>\n    .dataframe tbody tr th:only-of-type {\n        vertical-align: middle;\n    }\n\n    .dataframe tbody tr th {\n        vertical-align: top;\n    }\n\n    .dataframe thead th {\n        text-align: right;\n    }\n</style>\n<table border=\"1\" class=\"dataframe\">\n  <thead>\n    <tr style=\"text-align: right;\">\n      <th></th>\n      <th>product_id</th>\n      <th>product_name</th>\n      <th>aisle_id</th>\n      <th>department_id</th>\n    </tr>\n  </thead>\n  <tbody>\n    <tr>\n      <th>0</th>\n      <td>1</td>\n      <td>Chocolate Sandwich Cookies</td>\n      <td>61</td>\n      <td>19</td>\n    </tr>\n    <tr>\n      <th>1</th>\n      <td>2</td>\n      <td>All-Seasons Salt</td>\n      <td>104</td>\n      <td>13</td>\n    </tr>\n    <tr>\n      <th>2</th>\n      <td>3</td>\n      <td>Robust Golden Unsweetened Oolong Tea</td>\n      <td>94</td>\n      <td>7</td>\n    </tr>\n    <tr>\n      <th>3</th>\n      <td>4</td>\n      <td>Smart Ones Classic Favorites Mini Rigatoni Wit...</td>\n      <td>38</td>\n      <td>1</td>\n    </tr>\n    <tr>\n      <th>4</th>\n      <td>5</td>\n      <td>Green Chile Anytime Sauce</td>\n      <td>5</td>\n      <td>13</td>\n    </tr>\n  </tbody>\n</table>\n</div>"
     },
     "execution_count": 131,
     "metadata": {},
     "output_type": "execute_result"
    }
   ],
   "source": [
    "products.head()"
   ],
   "metadata": {
    "collapsed": false,
    "ExecuteTime": {
     "end_time": "2025-04-01T23:54:47.308488Z",
     "start_time": "2025-04-01T23:54:47.295289Z"
    }
   },
   "id": "e5560629ca88dbbd"
  },
  {
   "cell_type": "code",
   "execution_count": 132,
   "outputs": [
    {
     "data": {
      "text/plain": "       product_id                                product_name  aisle_id  \\\n49683       49684   Vodka, Triple Distilled, Twist of Vanilla       124   \n49684       49685          En Croute Roast Hazelnut Cranberry        42   \n49685       49686                            Artisan Baguette       112   \n49686       49687  Smartblend Healthy Metabolism Dry Cat Food        41   \n49687       49688                      Fresh Foaming Cleanser        73   \n\n       department_id  \n49683              5  \n49684              1  \n49685              3  \n49686              8  \n49687             11  ",
      "text/html": "<div>\n<style scoped>\n    .dataframe tbody tr th:only-of-type {\n        vertical-align: middle;\n    }\n\n    .dataframe tbody tr th {\n        vertical-align: top;\n    }\n\n    .dataframe thead th {\n        text-align: right;\n    }\n</style>\n<table border=\"1\" class=\"dataframe\">\n  <thead>\n    <tr style=\"text-align: right;\">\n      <th></th>\n      <th>product_id</th>\n      <th>product_name</th>\n      <th>aisle_id</th>\n      <th>department_id</th>\n    </tr>\n  </thead>\n  <tbody>\n    <tr>\n      <th>49683</th>\n      <td>49684</td>\n      <td>Vodka, Triple Distilled, Twist of Vanilla</td>\n      <td>124</td>\n      <td>5</td>\n    </tr>\n    <tr>\n      <th>49684</th>\n      <td>49685</td>\n      <td>En Croute Roast Hazelnut Cranberry</td>\n      <td>42</td>\n      <td>1</td>\n    </tr>\n    <tr>\n      <th>49685</th>\n      <td>49686</td>\n      <td>Artisan Baguette</td>\n      <td>112</td>\n      <td>3</td>\n    </tr>\n    <tr>\n      <th>49686</th>\n      <td>49687</td>\n      <td>Smartblend Healthy Metabolism Dry Cat Food</td>\n      <td>41</td>\n      <td>8</td>\n    </tr>\n    <tr>\n      <th>49687</th>\n      <td>49688</td>\n      <td>Fresh Foaming Cleanser</td>\n      <td>73</td>\n      <td>11</td>\n    </tr>\n  </tbody>\n</table>\n</div>"
     },
     "execution_count": 132,
     "metadata": {},
     "output_type": "execute_result"
    }
   ],
   "source": [
    "products.tail()"
   ],
   "metadata": {
    "collapsed": false,
    "ExecuteTime": {
     "end_time": "2025-04-01T23:55:13.821471Z",
     "start_time": "2025-04-01T23:55:13.803538Z"
    }
   },
   "id": "d490dd48fba0c385"
  },
  {
   "cell_type": "code",
   "execution_count": 133,
   "outputs": [
    {
     "name": "stdout",
     "output_type": "stream",
     "text": [
      "Number of unique products: 49688\n"
     ]
    }
   ],
   "source": [
    "num_products = products[\"product_id\"].nunique()\n",
    "print(f\"Number of unique products: {num_products}\")"
   ],
   "metadata": {
    "collapsed": false,
    "ExecuteTime": {
     "end_time": "2025-04-01T23:55:42.872305Z",
     "start_time": "2025-04-01T23:55:42.847840Z"
    }
   },
   "id": "9c9dba14714fbd19"
  },
  {
   "cell_type": "code",
   "execution_count": 140,
   "outputs": [
    {
     "data": {
      "text/plain": "    Department ID  Number of Products\n0               1                4007\n1               2                 548\n2               3                1516\n3               4                1684\n4               5                1054\n5               6                1139\n6               7                4365\n7               8                 972\n8               9                1858\n9              10                  38\n10             11                6563\n11             12                 907\n12             13                5371\n13             14                1115\n14             15                2092\n15             16                3449\n16             17                3085\n17             18                1081\n18             19                6264\n19             20                1322\n20             21                1258",
      "text/html": "<div>\n<style scoped>\n    .dataframe tbody tr th:only-of-type {\n        vertical-align: middle;\n    }\n\n    .dataframe tbody tr th {\n        vertical-align: top;\n    }\n\n    .dataframe thead th {\n        text-align: right;\n    }\n</style>\n<table border=\"1\" class=\"dataframe\">\n  <thead>\n    <tr style=\"text-align: right;\">\n      <th></th>\n      <th>Department ID</th>\n      <th>Number of Products</th>\n    </tr>\n  </thead>\n  <tbody>\n    <tr>\n      <th>0</th>\n      <td>1</td>\n      <td>4007</td>\n    </tr>\n    <tr>\n      <th>1</th>\n      <td>2</td>\n      <td>548</td>\n    </tr>\n    <tr>\n      <th>2</th>\n      <td>3</td>\n      <td>1516</td>\n    </tr>\n    <tr>\n      <th>3</th>\n      <td>4</td>\n      <td>1684</td>\n    </tr>\n    <tr>\n      <th>4</th>\n      <td>5</td>\n      <td>1054</td>\n    </tr>\n    <tr>\n      <th>5</th>\n      <td>6</td>\n      <td>1139</td>\n    </tr>\n    <tr>\n      <th>6</th>\n      <td>7</td>\n      <td>4365</td>\n    </tr>\n    <tr>\n      <th>7</th>\n      <td>8</td>\n      <td>972</td>\n    </tr>\n    <tr>\n      <th>8</th>\n      <td>9</td>\n      <td>1858</td>\n    </tr>\n    <tr>\n      <th>9</th>\n      <td>10</td>\n      <td>38</td>\n    </tr>\n    <tr>\n      <th>10</th>\n      <td>11</td>\n      <td>6563</td>\n    </tr>\n    <tr>\n      <th>11</th>\n      <td>12</td>\n      <td>907</td>\n    </tr>\n    <tr>\n      <th>12</th>\n      <td>13</td>\n      <td>5371</td>\n    </tr>\n    <tr>\n      <th>13</th>\n      <td>14</td>\n      <td>1115</td>\n    </tr>\n    <tr>\n      <th>14</th>\n      <td>15</td>\n      <td>2092</td>\n    </tr>\n    <tr>\n      <th>15</th>\n      <td>16</td>\n      <td>3449</td>\n    </tr>\n    <tr>\n      <th>16</th>\n      <td>17</td>\n      <td>3085</td>\n    </tr>\n    <tr>\n      <th>17</th>\n      <td>18</td>\n      <td>1081</td>\n    </tr>\n    <tr>\n      <th>18</th>\n      <td>19</td>\n      <td>6264</td>\n    </tr>\n    <tr>\n      <th>19</th>\n      <td>20</td>\n      <td>1322</td>\n    </tr>\n    <tr>\n      <th>20</th>\n      <td>21</td>\n      <td>1258</td>\n    </tr>\n  </tbody>\n</table>\n</div>"
     },
     "execution_count": 140,
     "metadata": {},
     "output_type": "execute_result"
    }
   ],
   "source": [
    "temp_df = products.groupby(\"department_id\")[\"product_id\"].count().reset_index()\n",
    "temp_df.columns = [\"Department ID\", \"Number of Products\"]\n",
    "\n",
    "temp_df"
   ],
   "metadata": {
    "collapsed": false,
    "ExecuteTime": {
     "end_time": "2025-04-01T23:58:50.781785Z",
     "start_time": "2025-04-01T23:58:50.705714Z"
    }
   },
   "id": "abe61761f2ea3dc3"
  },
  {
   "cell_type": "code",
   "execution_count": 141,
   "outputs": [
    {
     "data": {
      "text/plain": "<Figure size 800x500 with 1 Axes>",
      "image/png": "[encoded data removed]"
     },
     "metadata": {},
     "output_type": "display_data"
    }
   ],
   "source": [
    "temp_df = products.groupby(\"department_id\")[\"aisle_id\"].nunique()\n",
    "\n",
    "fig, ax = plt.subplots(figsize=(8, 5), facecolor=\"white\")\n",
    "\n",
    "sns.barplot(x=temp_df.index, y=temp_df.values, ax=ax, color=\"darkred\", edgecolor=\"black\")\n",
    "\n",
    "\n",
    "ax.set_xlabel(\"Department ID\", fontsize=12)\n",
    "ax.set_ylabel(\"Total Aisles in Department\", fontsize=12)\n",
    "ax.set_title(\"Total Aisles in Department VS Department ID\", fontsize=14)\n",
    "\n",
    "\n",
    "ax.xaxis.set_tick_params(rotation=90, labelsize=9)\n",
    "\n",
    "\n",
    "fig.savefig(\"Total Aisles in Department VS Department ID.png\", facecolor=\"white\")\n",
    "\n",
    "\n",
    "plt.show()"
   ],
   "metadata": {
    "collapsed": false,
    "ExecuteTime": {
     "end_time": "2025-04-01T23:59:44.968937Z",
     "start_time": "2025-04-01T23:59:44.768997Z"
    }
   },
   "id": "1f449a8a95d355da"
  },
  {
   "cell_type": "code",
   "execution_count": 143,
   "outputs": [],
   "source": [
    "# Departments"
   ],
   "metadata": {
    "collapsed": false,
    "ExecuteTime": {
     "end_time": "2025-04-02T00:01:47.669942Z",
     "start_time": "2025-04-02T00:01:47.659190Z"
    }
   },
   "id": "642b7fdb3ae5a868"
  },
  {
   "cell_type": "code",
   "execution_count": 144,
   "outputs": [
    {
     "data": {
      "text/plain": "   department_id department\n0              1     frozen\n1              2      other\n2              3     bakery\n3              4    produce\n4              5    alcohol",
      "text/html": "<div>\n<style scoped>\n    .dataframe tbody tr th:only-of-type {\n        vertical-align: middle;\n    }\n\n    .dataframe tbody tr th {\n        vertical-align: top;\n    }\n\n    .dataframe thead th {\n        text-align: right;\n    }\n</style>\n<table border=\"1\" class=\"dataframe\">\n  <thead>\n    <tr style=\"text-align: right;\">\n      <th></th>\n      <th>department_id</th>\n      <th>department</th>\n    </tr>\n  </thead>\n  <tbody>\n    <tr>\n      <th>0</th>\n      <td>1</td>\n      <td>frozen</td>\n    </tr>\n    <tr>\n      <th>1</th>\n      <td>2</td>\n      <td>other</td>\n    </tr>\n    <tr>\n      <th>2</th>\n      <td>3</td>\n      <td>bakery</td>\n    </tr>\n    <tr>\n      <th>3</th>\n      <td>4</td>\n      <td>produce</td>\n    </tr>\n    <tr>\n      <th>4</th>\n      <td>5</td>\n      <td>alcohol</td>\n    </tr>\n  </tbody>\n</table>\n</div>"
     },
     "execution_count": 144,
     "metadata": {},
     "output_type": "execute_result"
    }
   ],
   "source": [
    "departments.head()"
   ],
   "metadata": {
    "collapsed": false,
    "ExecuteTime": {
     "end_time": "2025-04-02T00:02:23.710162Z",
     "start_time": "2025-04-02T00:02:23.705422Z"
    }
   },
   "id": "8eb97d0985a91e46"
  },
  {
   "cell_type": "code",
   "execution_count": 145,
   "outputs": [
    {
     "data": {
      "text/plain": "    department_id department\n16             17  household\n17             18     babies\n18             19     snacks\n19             20       deli\n20             21    missing",
      "text/html": "<div>\n<style scoped>\n    .dataframe tbody tr th:only-of-type {\n        vertical-align: middle;\n    }\n\n    .dataframe tbody tr th {\n        vertical-align: top;\n    }\n\n    .dataframe thead th {\n        text-align: right;\n    }\n</style>\n<table border=\"1\" class=\"dataframe\">\n  <thead>\n    <tr style=\"text-align: right;\">\n      <th></th>\n      <th>department_id</th>\n      <th>department</th>\n    </tr>\n  </thead>\n  <tbody>\n    <tr>\n      <th>16</th>\n      <td>17</td>\n      <td>household</td>\n    </tr>\n    <tr>\n      <th>17</th>\n      <td>18</td>\n      <td>babies</td>\n    </tr>\n    <tr>\n      <th>18</th>\n      <td>19</td>\n      <td>snacks</td>\n    </tr>\n    <tr>\n      <th>19</th>\n      <td>20</td>\n      <td>deli</td>\n    </tr>\n    <tr>\n      <th>20</th>\n      <td>21</td>\n      <td>missing</td>\n    </tr>\n  </tbody>\n</table>\n</div>"
     },
     "execution_count": 145,
     "metadata": {},
     "output_type": "execute_result"
    }
   ],
   "source": [
    "departments.tail()"
   ],
   "metadata": {
    "collapsed": false,
    "ExecuteTime": {
     "end_time": "2025-04-02T00:02:32.381786Z",
     "start_time": "2025-04-02T00:02:32.362104Z"
    }
   },
   "id": "7e3e4dc5be03728d"
  },
  {
   "cell_type": "code",
   "execution_count": 146,
   "outputs": [
    {
     "name": "stdout",
     "output_type": "stream",
     "text": [
      "Number of departments: 21\n"
     ]
    }
   ],
   "source": [
    "num_departments = departments[\"department_id\"].nunique()\n",
    "print(f\"Number of departments: {num_departments}\")"
   ],
   "metadata": {
    "collapsed": false,
    "ExecuteTime": {
     "end_time": "2025-04-02T00:02:35.247506Z",
     "start_time": "2025-04-02T00:02:35.239947Z"
    }
   },
   "id": "e825a183be925a48"
  },
  {
   "cell_type": "code",
   "execution_count": 147,
   "outputs": [
    {
     "data": {
      "text/plain": "array(['frozen', 'other', 'bakery', 'produce', 'alcohol', 'international',\n       'beverages', 'pets', 'dry goods pasta', 'bulk', 'personal care',\n       'meat seafood', 'pantry', 'breakfast', 'canned goods',\n       'dairy eggs', 'household', 'babies', 'snacks', 'deli', 'missing'],\n      dtype=object)"
     },
     "execution_count": 147,
     "metadata": {},
     "output_type": "execute_result"
    }
   ],
   "source": [
    "\n",
    "departments.department.unique()"
   ],
   "metadata": {
    "collapsed": false,
    "ExecuteTime": {
     "end_time": "2025-04-02T00:03:12.400069Z",
     "start_time": "2025-04-02T00:03:12.398177Z"
    }
   },
   "id": "c7380afe4ae9e06e"
  },
  {
   "cell_type": "markdown",
   "source": [
    "# Orders"
   ],
   "metadata": {
    "collapsed": false
   },
   "id": "7f1ef5ddb9c83542"
  },
  {
   "cell_type": "code",
   "execution_count": 70,
   "outputs": [
    {
     "data": {
      "text/plain": "   order_id  user_id eval_set  order_number  order_dow  order_hour_of_day  \\\n0   2539329        1    prior             1          2                  8   \n1   2398795        1    prior             2          3                  7   \n2    473747        1    prior             3          3                 12   \n3   2254736        1    prior             4          4                  7   \n4    431534        1    prior             5          4                 15   \n\n   days_since_prior_order  \n0                     NaN  \n1                    15.0  \n2                    21.0  \n3                    29.0  \n4                    28.0  ",
      "text/html": "<div>\n<style scoped>\n    .dataframe tbody tr th:only-of-type {\n        vertical-align: middle;\n    }\n\n    .dataframe tbody tr th {\n        vertical-align: top;\n    }\n\n    .dataframe thead th {\n        text-align: right;\n    }\n</style>\n<table border=\"1\" class=\"dataframe\">\n  <thead>\n    <tr style=\"text-align: right;\">\n      <th></th>\n      <th>order_id</th>\n      <th>user_id</th>\n      <th>eval_set</th>\n      <th>order_number</th>\n      <th>order_dow</th>\n      <th>order_hour_of_day</th>\n      <th>days_since_prior_order</th>\n    </tr>\n  </thead>\n  <tbody>\n    <tr>\n      <th>0</th>\n      <td>2539329</td>\n      <td>1</td>\n      <td>prior</td>\n      <td>1</td>\n      <td>2</td>\n      <td>8</td>\n      <td>NaN</td>\n    </tr>\n    <tr>\n      <th>1</th>\n      <td>2398795</td>\n      <td>1</td>\n      <td>prior</td>\n      <td>2</td>\n      <td>3</td>\n      <td>7</td>\n      <td>15.0</td>\n    </tr>\n    <tr>\n      <th>2</th>\n      <td>473747</td>\n      <td>1</td>\n      <td>prior</td>\n      <td>3</td>\n      <td>3</td>\n      <td>12</td>\n      <td>21.0</td>\n    </tr>\n    <tr>\n      <th>3</th>\n      <td>2254736</td>\n      <td>1</td>\n      <td>prior</td>\n      <td>4</td>\n      <td>4</td>\n      <td>7</td>\n      <td>29.0</td>\n    </tr>\n    <tr>\n      <th>4</th>\n      <td>431534</td>\n      <td>1</td>\n      <td>prior</td>\n      <td>5</td>\n      <td>4</td>\n      <td>15</td>\n      <td>28.0</td>\n    </tr>\n  </tbody>\n</table>\n</div>"
     },
     "execution_count": 70,
     "metadata": {},
     "output_type": "execute_result"
    }
   ],
   "source": [
    "orders.head()"
   ],
   "metadata": {
    "collapsed": false,
    "ExecuteTime": {
     "end_time": "2025-04-01T00:17:06.690944Z",
     "start_time": "2025-04-01T00:17:06.685881Z"
    }
   },
   "id": "fa24268948ad30f3"
  },
  {
   "cell_type": "code",
   "execution_count": 71,
   "outputs": [
    {
     "data": {
      "text/plain": "         order_id  user_id eval_set  order_number  order_dow  \\\n3421078   2266710   206209    prior            10          5   \n3421079   1854736   206209    prior            11          4   \n3421080    626363   206209    prior            12          1   \n3421081   2977660   206209    prior            13          1   \n3421082    272231   206209    train            14          6   \n\n         order_hour_of_day  days_since_prior_order  \n3421078                 18                    29.0  \n3421079                 10                    30.0  \n3421080                 12                    18.0  \n3421081                 12                     7.0  \n3421082                 14                    30.0  ",
      "text/html": "<div>\n<style scoped>\n    .dataframe tbody tr th:only-of-type {\n        vertical-align: middle;\n    }\n\n    .dataframe tbody tr th {\n        vertical-align: top;\n    }\n\n    .dataframe thead th {\n        text-align: right;\n    }\n</style>\n<table border=\"1\" class=\"dataframe\">\n  <thead>\n    <tr style=\"text-align: right;\">\n      <th></th>\n      <th>order_id</th>\n      <th>user_id</th>\n      <th>eval_set</th>\n      <th>order_number</th>\n      <th>order_dow</th>\n      <th>order_hour_of_day</th>\n      <th>days_since_prior_order</th>\n    </tr>\n  </thead>\n  <tbody>\n    <tr>\n      <th>3421078</th>\n      <td>2266710</td>\n      <td>206209</td>\n      <td>prior</td>\n      <td>10</td>\n      <td>5</td>\n      <td>18</td>\n      <td>29.0</td>\n    </tr>\n    <tr>\n      <th>3421079</th>\n      <td>1854736</td>\n      <td>206209</td>\n      <td>prior</td>\n      <td>11</td>\n      <td>4</td>\n      <td>10</td>\n      <td>30.0</td>\n    </tr>\n    <tr>\n      <th>3421080</th>\n      <td>626363</td>\n      <td>206209</td>\n      <td>prior</td>\n      <td>12</td>\n      <td>1</td>\n      <td>12</td>\n      <td>18.0</td>\n    </tr>\n    <tr>\n      <th>3421081</th>\n      <td>2977660</td>\n      <td>206209</td>\n      <td>prior</td>\n      <td>13</td>\n      <td>1</td>\n      <td>12</td>\n      <td>7.0</td>\n    </tr>\n    <tr>\n      <th>3421082</th>\n      <td>272231</td>\n      <td>206209</td>\n      <td>train</td>\n      <td>14</td>\n      <td>6</td>\n      <td>14</td>\n      <td>30.0</td>\n    </tr>\n  </tbody>\n</table>\n</div>"
     },
     "execution_count": 71,
     "metadata": {},
     "output_type": "execute_result"
    }
   ],
   "source": [
    "orders.tail()"
   ],
   "metadata": {
    "collapsed": false,
    "ExecuteTime": {
     "end_time": "2025-04-01T00:17:06.692728Z",
     "start_time": "2025-04-01T00:17:06.690724Z"
    }
   },
   "id": "c1e9248c4d10c429"
  },
  {
   "cell_type": "code",
   "execution_count": 72,
   "outputs": [
    {
     "name": "stdout",
     "output_type": "stream",
     "text": [
      "<class 'pandas.core.frame.DataFrame'>\n",
      "RangeIndex: 3421083 entries, 0 to 3421082\n",
      "Data columns (total 7 columns):\n",
      " #   Column                  Dtype  \n",
      "---  ------                  -----  \n",
      " 0   order_id                int64  \n",
      " 1   user_id                 int64  \n",
      " 2   eval_set                object \n",
      " 3   order_number            int64  \n",
      " 4   order_dow               int64  \n",
      " 5   order_hour_of_day       int64  \n",
      " 6   days_since_prior_order  float64\n",
      "dtypes: float64(1), int64(5), object(1)\n",
      "memory usage: 182.7+ MB\n"
     ]
    }
   ],
   "source": [
    "orders.info()"
   ],
   "metadata": {
    "collapsed": false,
    "ExecuteTime": {
     "end_time": "2025-04-01T00:17:06.702848Z",
     "start_time": "2025-04-01T00:17:06.698845Z"
    }
   },
   "id": "bf32bf29a2cd425e"
  },
  {
   "cell_type": "code",
   "execution_count": 73,
   "outputs": [
    {
     "name": "stdout",
     "output_type": "stream",
     "text": [
      "Number of unique orders: 3421083\n"
     ]
    }
   ],
   "source": [
    "num_orders = orders[\"order_id\"].nunique()\n",
    "print(f\"Number of unique orders: {num_orders}\")"
   ],
   "metadata": {
    "collapsed": false,
    "ExecuteTime": {
     "end_time": "2025-04-01T00:17:06.857203Z",
     "start_time": "2025-04-01T00:17:06.701272Z"
    }
   },
   "id": "b8d36a064bc38b28"
  },
  {
   "cell_type": "code",
   "execution_count": 74,
   "outputs": [
    {
     "name": "stdout",
     "output_type": "stream",
     "text": [
      "Number of unique users: 206209\n"
     ]
    }
   ],
   "source": [
    "num_orsers_user= orders[\"user_id\"].nunique()\n",
    "print(f\"Number of unique users: {num_orsers_user}\")"
   ],
   "metadata": {
    "collapsed": false,
    "ExecuteTime": {
     "end_time": "2025-04-01T00:17:06.857734Z",
     "start_time": "2025-04-01T00:17:06.824562Z"
    }
   },
   "id": "b5b1d55e2f137233"
  },
  {
   "cell_type": "code",
   "execution_count": 75,
   "outputs": [
    {
     "data": {
      "text/plain": "eval_set\nprior    3214874\ntrain     131209\ntest       75000\nName: count, dtype: int64"
     },
     "execution_count": 75,
     "metadata": {},
     "output_type": "execute_result"
    }
   ],
   "source": [
    "orders.eval_set.value_counts()"
   ],
   "metadata": {
    "collapsed": false,
    "ExecuteTime": {
     "end_time": "2025-04-01T00:17:06.944992Z",
     "start_time": "2025-04-01T00:17:06.943553Z"
    }
   },
   "id": "bd401173def874f2"
  },
  {
   "cell_type": "markdown",
   "source": [],
   "metadata": {
    "collapsed": false
   },
   "id": "381721286b5481ea"
  },
  {
   "cell_type": "code",
   "execution_count": 76,
   "outputs": [
    {
     "name": "stdout",
     "output_type": "stream",
     "text": [
      "Media de order number: 17.154857979183785\n",
      "Mediana de order number: 11.0\n",
      "Media de día desde el último pedido: 11.114836226863012\n",
      "Mediana de día desde el último pedido: 7.0\n",
      "Moda de día de la semana: [0]\n",
      "Moda de hora del día: [10]\n"
     ]
    }
   ],
   "source": [
    "print(f\"Media de order number: {orders['order_number'].mean()}\")\n",
    "print(f\"Mediana de order number: {orders['order_number'].median()}\")\n",
    "\n",
    "print(f\"Media de día desde el último pedido: {orders['days_since_prior_order'].mean()}\")\n",
    "print(f\"Mediana de día desde el último pedido: {orders['days_since_prior_order'].median()}\")\n",
    "\n",
    "print(f\"Moda de día de la semana: {orders['order_dow'].mode().values}\")\n",
    "print(f\"Moda de hora del día: {orders['order_hour_of_day'].mode().values}\")\n"
   ],
   "metadata": {
    "collapsed": false,
    "ExecuteTime": {
     "end_time": "2025-04-01T00:17:07.072984Z",
     "start_time": "2025-04-01T00:17:06.946649Z"
    }
   },
   "id": "ce0ad5c4c7514ffe"
  },
  {
   "cell_type": "code",
   "execution_count": 77,
   "outputs": [
    {
     "name": "stdout",
     "output_type": "stream",
     "text": [
      "order_dow\n",
      "0    600905\n",
      "1    587478\n",
      "2    467260\n",
      "3    436972\n",
      "4    426339\n",
      "5    453368\n",
      "6    448761\n",
      "Name: count, dtype: int64\n"
     ]
    }
   ],
   "source": [
    "total_orders_per_dow = orders[\"order_dow\"].value_counts().sort_index()\n",
    "print(total_orders_per_dow)"
   ],
   "metadata": {
    "collapsed": false,
    "ExecuteTime": {
     "end_time": "2025-04-01T00:17:07.073759Z",
     "start_time": "2025-04-01T00:17:07.068790Z"
    }
   },
   "id": "53396d53dd375d23"
  },
  {
   "cell_type": "code",
   "execution_count": 97,
   "outputs": [
    {
     "data": {
      "text/plain": "<Figure size 800x500 with 1 Axes>",
      "image/png": "[encoded data removed]"
     },
     "metadata": {},
     "output_type": "display_data"
    }
   ],
   "source": [
    "\n",
    "plt.figure(figsize=(8,5) , facecolor=\"white\")\n",
    "total_orders_per_dow.plot(kind=\"bar\", color=\"darkred\", edgecolor=\"black\")\n",
    "\n",
    "# Etiquetas y título\n",
    "plt.xlabel(\"Día de la Semana (0 = Domingo, 6 = Sábado)\")\n",
    "plt.ylabel(\"Total de Pedidos\")\n",
    "plt.title(\"Total Orders per Day of Week\")\n",
    "plt.gca().set_facecolor(\"white\") \n",
    "# Mostrar el gráfico\n",
    "plt.show()"
   ],
   "metadata": {
    "collapsed": false,
    "ExecuteTime": {
     "end_time": "2025-04-01T00:20:13.631386Z",
     "start_time": "2025-04-01T00:20:13.597022Z"
    }
   },
   "id": "b8f69ac055ea6485"
  },
  {
   "cell_type": "code",
   "execution_count": 95,
   "outputs": [
    {
     "data": {
      "text/plain": "<Figure size 1000x500 with 1 Axes>",
      "image/png": "[encoded data removed]"
     },
     "metadata": {},
     "output_type": "display_data"
    }
   ],
   "source": [
    "\n",
    "fig, ax = plt.subplots(figsize=(10, 5), facecolor=\"white\")\n",
    "\n",
    "# Graficar los pedidos por hora del día\n",
    "sns.countplot(x=orders[\"order_hour_of_day\"], color=\"tomato\", ax=ax)\n",
    "\n",
    "\n",
    "ax.set_xlabel(\"Hour of Day\", size=12)\n",
    "ax.set_ylabel(\"Orders\", size=12)\n",
    "ax.set_title(\"Total Orders per Hour of Day\", fontsize=14)\n",
    "\n",
    "\n",
    "ax.tick_params(axis=\"both\", labelsize=10)\n",
    "\n",
    "\n",
    "ax.set_facecolor(\"white\")\n",
    "\n",
    "\n",
    "fig.savefig(\"Total Orders per Hour of Day.png\", facecolor=\"white\")\n",
    "\n",
    "\n",
    "plt.show()"
   ],
   "metadata": {
    "collapsed": false,
    "ExecuteTime": {
     "end_time": "2025-04-01T00:19:52.571814Z",
     "start_time": "2025-04-01T00:19:49.620916Z"
    }
   },
   "id": "dcc16fd5ba23a208"
  },
  {
   "cell_type": "code",
   "execution_count": 94,
   "outputs": [
    {
     "data": {
      "text/plain": "<Figure size 700x300 with 2 Axes>",
      "image/png": "[encoded data removed]"
     },
     "metadata": {},
     "output_type": "display_data"
    }
   ],
   "source": [
    "temp_df = orders.groupby([\"order_dow\", \"order_hour_of_day\"]).size().unstack()\n",
    "\n",
    "fig, ax = plt.subplots(figsize=(7, 3), facecolor=\"white\")  # Definir figura correctamente\n",
    "\n",
    "# Graficar el heatmap\n",
    "sns.heatmap(temp_df, cmap=\"Reds\", linewidths=0.5, ax=ax)\n",
    "\n",
    "# Configurar título y etiquetas\n",
    "ax.set_title(\"Frequency of Day of Week Vs Hour of Day\", size=12)\n",
    "ax.set_xlabel(\"Hour of Day\", size=10)\n",
    "ax.set_ylabel(\"Day of Week\", size=10)\n",
    "ax.tick_params(axis=\"both\", labelsize=8)\n",
    "\n",
    "# Ajustar la barra de color\n",
    "cbar = ax.collections[0].colorbar\n",
    "cbar.ax.tick_params(labelsize=10)\n",
    "\n",
    "# Guardar la figura con fondo blanco\n",
    "fig.savefig(\"Frequency of Day of Week Vs Hour of Day.png\", facecolor=\"white\")\n",
    "\n",
    "# Mostrar el gráfico\n",
    "plt.show()"
   ],
   "metadata": {
    "collapsed": false,
    "ExecuteTime": {
     "end_time": "2025-04-01T00:19:20.113898Z",
     "start_time": "2025-04-01T00:19:19.606717Z"
    }
   },
   "id": "df466f534eb3ad0d"
  },
  {
   "cell_type": "markdown",
   "source": [],
   "metadata": {
    "collapsed": false
   },
   "id": "a6b267542f73505c"
  },
  {
   "cell_type": "markdown",
   "source": [],
   "metadata": {
    "collapsed": false
   },
   "id": "947ecfb5d21e2830"
  }
 ],
 "metadata": {
  "kernelspec": {
   "display_name": "Python 3",
   "language": "python",
   "name": "python3"
  },
  "language_info": {
   "codemirror_mode": {
    "name": "ipython",
    "version": 2
   },
   "file_extension": ".py",
   "mimetype": "text/x-python",
   "name": "python",
   "nbconvert_exporter": "python",
   "pygments_lexer": "ipython2",
   "version": "2.7.6"
  }
 },
 "nbformat": 4,
 "nbformat_minor": 5
}
